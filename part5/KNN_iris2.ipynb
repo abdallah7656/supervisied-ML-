{
  "nbformat": 4,
  "nbformat_minor": 0,
  "metadata": {
    "colab": {
      "name": "KNN_iris2.ipynb",
      "provenance": [],
      "collapsed_sections": []
    },
    "kernelspec": {
      "name": "python3",
      "display_name": "Python 3"
    },
    "language_info": {
      "name": "python"
    }
  },
  "cells": [
    {
      "cell_type": "code",
      "execution_count": 1,
      "metadata": {
        "id": "9u2FzDrU8fRT"
      },
      "outputs": [],
      "source": [
        "from sklearn.neighbors import KNeighborsClassifier\n",
        "from sklearn.model_selection import train_test_split\n",
        "from sklearn.datasets import load_iris\n",
        "from sklearn.metrics import accuracy_score\n",
        "iris = load_iris()\n",
        " \n",
        "# Create feature and target arrays\n",
        "X = iris.data\n",
        "y = iris.target\n",
        " \n"
      ]
    },
    {
      "cell_type": "code",
      "source": [
        "# Split into training and test set\n",
        "X_train, X_test, y_train, y_test = train_test_split(X, y, test_size = 0.2, random_state=42)"
      ],
      "metadata": {
        "id": "RMYuMymjWl5x"
      },
      "execution_count": 2,
      "outputs": []
    },
    {
      "cell_type": "code",
      "source": [
        "for j in range(10,120,5):\n",
        "    knn = KNeighborsClassifier(n_neighbors=j)\n",
        " \n",
        "    knn.fit(X_train, y_train)\n",
        "    # Predict on dataset which model has not seen before\n",
        "    y_pred=knn.predict(X_test)\n",
        "    print(j,accuracy_score(y_test,y_pred)*100)\n",
        " \n"
      ],
      "metadata": {
        "id": "hOdY-o7H9Bff",
        "colab": {
          "base_uri": "https://localhost:8080/"
        },
        "outputId": "339da2ff-0c55-44ae-e83f-e50b51cddd14"
      },
      "execution_count": 3,
      "outputs": [
        {
          "output_type": "stream",
          "name": "stdout",
          "text": [
            "10 100.0\n",
            "15 100.0\n",
            "20 100.0\n",
            "25 100.0\n",
            "30 100.0\n",
            "35 100.0\n",
            "40 96.66666666666667\n",
            "45 100.0\n",
            "50 96.66666666666667\n",
            "55 96.66666666666667\n",
            "60 96.66666666666667\n",
            "65 96.66666666666667\n",
            "70 96.66666666666667\n",
            "75 93.33333333333333\n",
            "80 63.33333333333333\n",
            "85 63.33333333333333\n",
            "90 53.333333333333336\n",
            "95 30.0\n",
            "100 30.0\n",
            "105 30.0\n",
            "110 30.0\n",
            "115 30.0\n"
          ]
        }
      ]
    }
  ]
}