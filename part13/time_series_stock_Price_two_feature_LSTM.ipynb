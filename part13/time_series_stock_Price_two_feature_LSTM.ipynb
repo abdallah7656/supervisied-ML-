{
  "nbformat": 4,
  "nbformat_minor": 0,
  "metadata": {
    "colab": {
      "provenance": []
    },
    "kernelspec": {
      "name": "python3",
      "display_name": "Python 3"
    },
    "language_info": {
      "name": "python"
    },
    "accelerator": "GPU",
    "gpuClass": "standard"
  },
  "cells": [
    {
      "cell_type": "code",
      "execution_count": 69,
      "metadata": {
        "id": "nX_Sx2jUocNg"
      },
      "outputs": [],
      "source": [
        "# https://finance.yahoo.com/quote/AAPL/history?period1=1514757600&period2=1517349600&interval=1d&filter=history&frequency=1d"
      ]
    },
    {
      "cell_type": "code",
      "source": [
        "import pandas as pd\n",
        "df=pd.read_csv('/content/drive/MyDrive/datasets/csv_data/AAPL (5).csv')"
      ],
      "metadata": {
        "id": "FQO03gl4psLw"
      },
      "execution_count": 70,
      "outputs": []
    },
    {
      "cell_type": "code",
      "source": [
        "df.head()"
      ],
      "metadata": {
        "colab": {
          "base_uri": "https://localhost:8080/",
          "height": 206
        },
        "id": "oAQ0gA6KpsPL",
        "outputId": "3b96963a-f2cd-48ba-9565-921271a54d17"
      },
      "execution_count": 71,
      "outputs": [
        {
          "output_type": "execute_result",
          "data": {
            "text/plain": [
              "         Date       Open       High        Low      Close  Adj Close  \\\n",
              "0  2013-01-02  19.779285  19.821428  19.343929  19.608213  16.890799   \n",
              "1  2013-01-03  19.567142  19.631071  19.321428  19.360714  16.677595   \n",
              "2  2013-01-04  19.177500  19.236786  18.779642  18.821428  16.213049   \n",
              "3  2013-01-07  18.642857  18.903570  18.400000  18.710714  16.117680   \n",
              "4  2013-01-08  18.900356  18.996071  18.616072  18.761070  16.161058   \n",
              "\n",
              "      Volume  \n",
              "0  560518000  \n",
              "1  352965200  \n",
              "2  594333600  \n",
              "3  484156400  \n",
              "4  458707200  "
            ],
            "text/html": [
              "\n",
              "  <div id=\"df-de678bf8-9719-4e87-81ef-4181cd43c1e3\">\n",
              "    <div class=\"colab-df-container\">\n",
              "      <div>\n",
              "<style scoped>\n",
              "    .dataframe tbody tr th:only-of-type {\n",
              "        vertical-align: middle;\n",
              "    }\n",
              "\n",
              "    .dataframe tbody tr th {\n",
              "        vertical-align: top;\n",
              "    }\n",
              "\n",
              "    .dataframe thead th {\n",
              "        text-align: right;\n",
              "    }\n",
              "</style>\n",
              "<table border=\"1\" class=\"dataframe\">\n",
              "  <thead>\n",
              "    <tr style=\"text-align: right;\">\n",
              "      <th></th>\n",
              "      <th>Date</th>\n",
              "      <th>Open</th>\n",
              "      <th>High</th>\n",
              "      <th>Low</th>\n",
              "      <th>Close</th>\n",
              "      <th>Adj Close</th>\n",
              "      <th>Volume</th>\n",
              "    </tr>\n",
              "  </thead>\n",
              "  <tbody>\n",
              "    <tr>\n",
              "      <th>0</th>\n",
              "      <td>2013-01-02</td>\n",
              "      <td>19.779285</td>\n",
              "      <td>19.821428</td>\n",
              "      <td>19.343929</td>\n",
              "      <td>19.608213</td>\n",
              "      <td>16.890799</td>\n",
              "      <td>560518000</td>\n",
              "    </tr>\n",
              "    <tr>\n",
              "      <th>1</th>\n",
              "      <td>2013-01-03</td>\n",
              "      <td>19.567142</td>\n",
              "      <td>19.631071</td>\n",
              "      <td>19.321428</td>\n",
              "      <td>19.360714</td>\n",
              "      <td>16.677595</td>\n",
              "      <td>352965200</td>\n",
              "    </tr>\n",
              "    <tr>\n",
              "      <th>2</th>\n",
              "      <td>2013-01-04</td>\n",
              "      <td>19.177500</td>\n",
              "      <td>19.236786</td>\n",
              "      <td>18.779642</td>\n",
              "      <td>18.821428</td>\n",
              "      <td>16.213049</td>\n",
              "      <td>594333600</td>\n",
              "    </tr>\n",
              "    <tr>\n",
              "      <th>3</th>\n",
              "      <td>2013-01-07</td>\n",
              "      <td>18.642857</td>\n",
              "      <td>18.903570</td>\n",
              "      <td>18.400000</td>\n",
              "      <td>18.710714</td>\n",
              "      <td>16.117680</td>\n",
              "      <td>484156400</td>\n",
              "    </tr>\n",
              "    <tr>\n",
              "      <th>4</th>\n",
              "      <td>2013-01-08</td>\n",
              "      <td>18.900356</td>\n",
              "      <td>18.996071</td>\n",
              "      <td>18.616072</td>\n",
              "      <td>18.761070</td>\n",
              "      <td>16.161058</td>\n",
              "      <td>458707200</td>\n",
              "    </tr>\n",
              "  </tbody>\n",
              "</table>\n",
              "</div>\n",
              "      <button class=\"colab-df-convert\" onclick=\"convertToInteractive('df-de678bf8-9719-4e87-81ef-4181cd43c1e3')\"\n",
              "              title=\"Convert this dataframe to an interactive table.\"\n",
              "              style=\"display:none;\">\n",
              "        \n",
              "  <svg xmlns=\"http://www.w3.org/2000/svg\" height=\"24px\"viewBox=\"0 0 24 24\"\n",
              "       width=\"24px\">\n",
              "    <path d=\"M0 0h24v24H0V0z\" fill=\"none\"/>\n",
              "    <path d=\"M18.56 5.44l.94 2.06.94-2.06 2.06-.94-2.06-.94-.94-2.06-.94 2.06-2.06.94zm-11 1L8.5 8.5l.94-2.06 2.06-.94-2.06-.94L8.5 2.5l-.94 2.06-2.06.94zm10 10l.94 2.06.94-2.06 2.06-.94-2.06-.94-.94-2.06-.94 2.06-2.06.94z\"/><path d=\"M17.41 7.96l-1.37-1.37c-.4-.4-.92-.59-1.43-.59-.52 0-1.04.2-1.43.59L10.3 9.45l-7.72 7.72c-.78.78-.78 2.05 0 2.83L4 21.41c.39.39.9.59 1.41.59.51 0 1.02-.2 1.41-.59l7.78-7.78 2.81-2.81c.8-.78.8-2.07 0-2.86zM5.41 20L4 18.59l7.72-7.72 1.47 1.35L5.41 20z\"/>\n",
              "  </svg>\n",
              "      </button>\n",
              "      \n",
              "  <style>\n",
              "    .colab-df-container {\n",
              "      display:flex;\n",
              "      flex-wrap:wrap;\n",
              "      gap: 12px;\n",
              "    }\n",
              "\n",
              "    .colab-df-convert {\n",
              "      background-color: #E8F0FE;\n",
              "      border: none;\n",
              "      border-radius: 50%;\n",
              "      cursor: pointer;\n",
              "      display: none;\n",
              "      fill: #1967D2;\n",
              "      height: 32px;\n",
              "      padding: 0 0 0 0;\n",
              "      width: 32px;\n",
              "    }\n",
              "\n",
              "    .colab-df-convert:hover {\n",
              "      background-color: #E2EBFA;\n",
              "      box-shadow: 0px 1px 2px rgba(60, 64, 67, 0.3), 0px 1px 3px 1px rgba(60, 64, 67, 0.15);\n",
              "      fill: #174EA6;\n",
              "    }\n",
              "\n",
              "    [theme=dark] .colab-df-convert {\n",
              "      background-color: #3B4455;\n",
              "      fill: #D2E3FC;\n",
              "    }\n",
              "\n",
              "    [theme=dark] .colab-df-convert:hover {\n",
              "      background-color: #434B5C;\n",
              "      box-shadow: 0px 1px 3px 1px rgba(0, 0, 0, 0.15);\n",
              "      filter: drop-shadow(0px 1px 2px rgba(0, 0, 0, 0.3));\n",
              "      fill: #FFFFFF;\n",
              "    }\n",
              "  </style>\n",
              "\n",
              "      <script>\n",
              "        const buttonEl =\n",
              "          document.querySelector('#df-de678bf8-9719-4e87-81ef-4181cd43c1e3 button.colab-df-convert');\n",
              "        buttonEl.style.display =\n",
              "          google.colab.kernel.accessAllowed ? 'block' : 'none';\n",
              "\n",
              "        async function convertToInteractive(key) {\n",
              "          const element = document.querySelector('#df-de678bf8-9719-4e87-81ef-4181cd43c1e3');\n",
              "          const dataTable =\n",
              "            await google.colab.kernel.invokeFunction('convertToInteractive',\n",
              "                                                     [key], {});\n",
              "          if (!dataTable) return;\n",
              "\n",
              "          const docLinkHtml = 'Like what you see? Visit the ' +\n",
              "            '<a target=\"_blank\" href=https://colab.research.google.com/notebooks/data_table.ipynb>data table notebook</a>'\n",
              "            + ' to learn more about interactive tables.';\n",
              "          element.innerHTML = '';\n",
              "          dataTable['output_type'] = 'display_data';\n",
              "          await google.colab.output.renderOutput(dataTable, element);\n",
              "          const docLink = document.createElement('div');\n",
              "          docLink.innerHTML = docLinkHtml;\n",
              "          element.appendChild(docLink);\n",
              "        }\n",
              "      </script>\n",
              "    </div>\n",
              "  </div>\n",
              "  "
            ]
          },
          "metadata": {},
          "execution_count": 71
        }
      ]
    },
    {
      "cell_type": "code",
      "source": [
        "df1=df.iloc[:,[1,5]]\n",
        "df1.head()"
      ],
      "metadata": {
        "colab": {
          "base_uri": "https://localhost:8080/",
          "height": 206
        },
        "id": "HSOURGslqdMM",
        "outputId": "69cd8d0f-c672-4b5c-bd59-f83f91c51d09"
      },
      "execution_count": 72,
      "outputs": [
        {
          "output_type": "execute_result",
          "data": {
            "text/plain": [
              "        Open  Adj Close\n",
              "0  19.779285  16.890799\n",
              "1  19.567142  16.677595\n",
              "2  19.177500  16.213049\n",
              "3  18.642857  16.117680\n",
              "4  18.900356  16.161058"
            ],
            "text/html": [
              "\n",
              "  <div id=\"df-ee7f34ba-5018-434f-bfab-7709e6040de4\">\n",
              "    <div class=\"colab-df-container\">\n",
              "      <div>\n",
              "<style scoped>\n",
              "    .dataframe tbody tr th:only-of-type {\n",
              "        vertical-align: middle;\n",
              "    }\n",
              "\n",
              "    .dataframe tbody tr th {\n",
              "        vertical-align: top;\n",
              "    }\n",
              "\n",
              "    .dataframe thead th {\n",
              "        text-align: right;\n",
              "    }\n",
              "</style>\n",
              "<table border=\"1\" class=\"dataframe\">\n",
              "  <thead>\n",
              "    <tr style=\"text-align: right;\">\n",
              "      <th></th>\n",
              "      <th>Open</th>\n",
              "      <th>Adj Close</th>\n",
              "    </tr>\n",
              "  </thead>\n",
              "  <tbody>\n",
              "    <tr>\n",
              "      <th>0</th>\n",
              "      <td>19.779285</td>\n",
              "      <td>16.890799</td>\n",
              "    </tr>\n",
              "    <tr>\n",
              "      <th>1</th>\n",
              "      <td>19.567142</td>\n",
              "      <td>16.677595</td>\n",
              "    </tr>\n",
              "    <tr>\n",
              "      <th>2</th>\n",
              "      <td>19.177500</td>\n",
              "      <td>16.213049</td>\n",
              "    </tr>\n",
              "    <tr>\n",
              "      <th>3</th>\n",
              "      <td>18.642857</td>\n",
              "      <td>16.117680</td>\n",
              "    </tr>\n",
              "    <tr>\n",
              "      <th>4</th>\n",
              "      <td>18.900356</td>\n",
              "      <td>16.161058</td>\n",
              "    </tr>\n",
              "  </tbody>\n",
              "</table>\n",
              "</div>\n",
              "      <button class=\"colab-df-convert\" onclick=\"convertToInteractive('df-ee7f34ba-5018-434f-bfab-7709e6040de4')\"\n",
              "              title=\"Convert this dataframe to an interactive table.\"\n",
              "              style=\"display:none;\">\n",
              "        \n",
              "  <svg xmlns=\"http://www.w3.org/2000/svg\" height=\"24px\"viewBox=\"0 0 24 24\"\n",
              "       width=\"24px\">\n",
              "    <path d=\"M0 0h24v24H0V0z\" fill=\"none\"/>\n",
              "    <path d=\"M18.56 5.44l.94 2.06.94-2.06 2.06-.94-2.06-.94-.94-2.06-.94 2.06-2.06.94zm-11 1L8.5 8.5l.94-2.06 2.06-.94-2.06-.94L8.5 2.5l-.94 2.06-2.06.94zm10 10l.94 2.06.94-2.06 2.06-.94-2.06-.94-.94-2.06-.94 2.06-2.06.94z\"/><path d=\"M17.41 7.96l-1.37-1.37c-.4-.4-.92-.59-1.43-.59-.52 0-1.04.2-1.43.59L10.3 9.45l-7.72 7.72c-.78.78-.78 2.05 0 2.83L4 21.41c.39.39.9.59 1.41.59.51 0 1.02-.2 1.41-.59l7.78-7.78 2.81-2.81c.8-.78.8-2.07 0-2.86zM5.41 20L4 18.59l7.72-7.72 1.47 1.35L5.41 20z\"/>\n",
              "  </svg>\n",
              "      </button>\n",
              "      \n",
              "  <style>\n",
              "    .colab-df-container {\n",
              "      display:flex;\n",
              "      flex-wrap:wrap;\n",
              "      gap: 12px;\n",
              "    }\n",
              "\n",
              "    .colab-df-convert {\n",
              "      background-color: #E8F0FE;\n",
              "      border: none;\n",
              "      border-radius: 50%;\n",
              "      cursor: pointer;\n",
              "      display: none;\n",
              "      fill: #1967D2;\n",
              "      height: 32px;\n",
              "      padding: 0 0 0 0;\n",
              "      width: 32px;\n",
              "    }\n",
              "\n",
              "    .colab-df-convert:hover {\n",
              "      background-color: #E2EBFA;\n",
              "      box-shadow: 0px 1px 2px rgba(60, 64, 67, 0.3), 0px 1px 3px 1px rgba(60, 64, 67, 0.15);\n",
              "      fill: #174EA6;\n",
              "    }\n",
              "\n",
              "    [theme=dark] .colab-df-convert {\n",
              "      background-color: #3B4455;\n",
              "      fill: #D2E3FC;\n",
              "    }\n",
              "\n",
              "    [theme=dark] .colab-df-convert:hover {\n",
              "      background-color: #434B5C;\n",
              "      box-shadow: 0px 1px 3px 1px rgba(0, 0, 0, 0.15);\n",
              "      filter: drop-shadow(0px 1px 2px rgba(0, 0, 0, 0.3));\n",
              "      fill: #FFFFFF;\n",
              "    }\n",
              "  </style>\n",
              "\n",
              "      <script>\n",
              "        const buttonEl =\n",
              "          document.querySelector('#df-ee7f34ba-5018-434f-bfab-7709e6040de4 button.colab-df-convert');\n",
              "        buttonEl.style.display =\n",
              "          google.colab.kernel.accessAllowed ? 'block' : 'none';\n",
              "\n",
              "        async function convertToInteractive(key) {\n",
              "          const element = document.querySelector('#df-ee7f34ba-5018-434f-bfab-7709e6040de4');\n",
              "          const dataTable =\n",
              "            await google.colab.kernel.invokeFunction('convertToInteractive',\n",
              "                                                     [key], {});\n",
              "          if (!dataTable) return;\n",
              "\n",
              "          const docLinkHtml = 'Like what you see? Visit the ' +\n",
              "            '<a target=\"_blank\" href=https://colab.research.google.com/notebooks/data_table.ipynb>data table notebook</a>'\n",
              "            + ' to learn more about interactive tables.';\n",
              "          element.innerHTML = '';\n",
              "          dataTable['output_type'] = 'display_data';\n",
              "          await google.colab.output.renderOutput(dataTable, element);\n",
              "          const docLink = document.createElement('div');\n",
              "          docLink.innerHTML = docLinkHtml;\n",
              "          element.appendChild(docLink);\n",
              "        }\n",
              "      </script>\n",
              "    </div>\n",
              "  </div>\n",
              "  "
            ]
          },
          "metadata": {},
          "execution_count": 72
        }
      ]
    },
    {
      "cell_type": "markdown",
      "source": [],
      "metadata": {
        "id": "Vw8uMFB3rV5S"
      }
    },
    {
      "cell_type": "code",
      "source": [
        "from sklearn.preprocessing import MinMaxScaler\n",
        "scalar=MinMaxScaler(feature_range=(0,1))  #you must pass to MinMaxScaler function a 2D input\n",
        "df1_scaled=scalar.fit_transform(df1)\n",
        "df1_scaled"
      ],
      "metadata": {
        "colab": {
          "base_uri": "https://localhost:8080/"
        },
        "id": "mpcGeHw5qwJz",
        "outputId": "57bdd31f-293d-463c-b2ca-4ec159b245f8"
      },
      "execution_count": 73,
      "outputs": [
        {
          "output_type": "execute_result",
          "data": {
            "text/plain": [
              "array([[0.19795893, 0.16061139],\n",
              "       [0.19086893, 0.15348663],\n",
              "       [0.17784675, 0.13796265],\n",
              "       ...,\n",
              "       [0.95814044, 0.9536882 ],\n",
              "       [0.96566006, 0.95750769],\n",
              "       [0.96164959, 0.94278656]])"
            ]
          },
          "metadata": {},
          "execution_count": 73
        }
      ]
    },
    {
      "cell_type": "code",
      "source": [
        "split_percent=0.65\n",
        "split=int(split_percent*len(df1_scaled))\n",
        "split"
      ],
      "metadata": {
        "colab": {
          "base_uri": "https://localhost:8080/"
        },
        "id": "GlPwFRnsqwMA",
        "outputId": "d75ae319-9cdb-4ef6-b08f-32a36e985d54"
      },
      "execution_count": 74,
      "outputs": [
        {
          "output_type": "execute_result",
          "data": {
            "text/plain": [
              "818"
            ]
          },
          "metadata": {},
          "execution_count": 74
        }
      ]
    },
    {
      "cell_type": "code",
      "source": [
        "train_data=df1_scaled[:split]\n",
        "test_data=df1_scaled[split:]"
      ],
      "metadata": {
        "id": "U4Q8ogoPqwO3"
      },
      "execution_count": 75,
      "outputs": []
    },
    {
      "cell_type": "code",
      "source": [
        "len(train_data)"
      ],
      "metadata": {
        "colab": {
          "base_uri": "https://localhost:8080/"
        },
        "id": "GKRrpxUSr81b",
        "outputId": "ca18b78a-ac02-4809-bc2b-2a4b52c94541"
      },
      "execution_count": 76,
      "outputs": [
        {
          "output_type": "execute_result",
          "data": {
            "text/plain": [
              "818"
            ]
          },
          "metadata": {},
          "execution_count": 76
        }
      ]
    },
    {
      "cell_type": "code",
      "source": [
        "import numpy\n",
        "#create dataset\n",
        "def  create_dataset (dataset, time_step):\n",
        "      data_x=[] \n",
        "      data_y=[]\n",
        "      for i in range(len(dataset)-time_step):#i=0,1,2,3,4,....\n",
        "          a=dataset[i:(i+time_step)]\n",
        "          data_x.append(a)\n",
        "          data_y.append(dataset[i+time_step])\n",
        "      return numpy.array(data_x), numpy.array(data_y)"
      ],
      "metadata": {
        "id": "FiJk4JwguqMn"
      },
      "execution_count": 77,
      "outputs": []
    },
    {
      "cell_type": "code",
      "source": [
        "time_step=60\n",
        "x_train,y_train=create_dataset (train_data, time_step)\n",
        "x_test,y_test=create_dataset (test_data, time_step)\n",
        "print(x_train.shape)\n",
        "print(y_train.shape)\n",
        "print(x_test.shape)\n",
        "print(y_test.shape)"
      ],
      "metadata": {
        "colab": {
          "base_uri": "https://localhost:8080/"
        },
        "id": "jCitiydKuqP9",
        "outputId": "f15de10d-6a4a-4c84-e968-ccd4526cda1d"
      },
      "execution_count": 78,
      "outputs": [
        {
          "output_type": "stream",
          "name": "stdout",
          "text": [
            "(758, 60, 2)\n",
            "(758, 2)\n",
            "(381, 60, 2)\n",
            "(381, 2)\n"
          ]
        }
      ]
    },
    {
      "cell_type": "code",
      "source": [],
      "metadata": {
        "id": "E1rwu-cY-h1s"
      },
      "execution_count": 78,
      "outputs": []
    },
    {
      "cell_type": "markdown",
      "source": [],
      "metadata": {
        "id": "2tOY9olKwyRg"
      }
    },
    {
      "cell_type": "code",
      "source": [],
      "metadata": {
        "id": "UKRN5HENwbXs"
      },
      "execution_count": 78,
      "outputs": []
    },
    {
      "cell_type": "code",
      "source": [
        "from keras.models import Sequential\n",
        "from keras.layers import*"
      ],
      "metadata": {
        "id": "pfJAD5BzwbZ_"
      },
      "execution_count": 79,
      "outputs": []
    },
    {
      "cell_type": "code",
      "source": [
        "model=Sequential()\n",
        "model.add(LSTM(units=50, return_sequences=True, input_shape=(time_step,2)))\n",
        "model.add(LSTM(units=50, return_sequences=True))\n",
        "model.add(LSTM(units=50))\n",
        "model.add(Dense(units=2))"
      ],
      "metadata": {
        "id": "skR7N_Q4wbdj"
      },
      "execution_count": 80,
      "outputs": []
    },
    {
      "cell_type": "code",
      "source": [
        "model.summary()"
      ],
      "metadata": {
        "colab": {
          "base_uri": "https://localhost:8080/"
        },
        "id": "l3fBE-Ku-zgN",
        "outputId": "6584b7df-e685-4f69-ba7a-7773794ba760"
      },
      "execution_count": 81,
      "outputs": [
        {
          "output_type": "stream",
          "name": "stdout",
          "text": [
            "Model: \"sequential_2\"\n",
            "_________________________________________________________________\n",
            " Layer (type)                Output Shape              Param #   \n",
            "=================================================================\n",
            " lstm_6 (LSTM)               (None, 60, 50)            10600     \n",
            "                                                                 \n",
            " lstm_7 (LSTM)               (None, 60, 50)            20200     \n",
            "                                                                 \n",
            " lstm_8 (LSTM)               (None, 50)                20200     \n",
            "                                                                 \n",
            " dense_2 (Dense)             (None, 2)                 102       \n",
            "                                                                 \n",
            "=================================================================\n",
            "Total params: 51,102\n",
            "Trainable params: 51,102\n",
            "Non-trainable params: 0\n",
            "_________________________________________________________________\n"
          ]
        }
      ]
    },
    {
      "cell_type": "code",
      "source": [
        "model.compile(optimizer='adam',loss='mean_squared_error')"
      ],
      "metadata": {
        "id": "P5xRnOC8w2_l"
      },
      "execution_count": 82,
      "outputs": []
    },
    {
      "cell_type": "code",
      "source": [
        "model.fit(x_train,y_train,epochs=100,batch_size=32)"
      ],
      "metadata": {
        "colab": {
          "base_uri": "https://localhost:8080/"
        },
        "id": "gPqTdLOfw3Cm",
        "outputId": "cb87f8c1-c91d-4491-c95d-f33454a6653b"
      },
      "execution_count": 83,
      "outputs": [
        {
          "output_type": "stream",
          "name": "stdout",
          "text": [
            "Epoch 1/100\n",
            "24/24 [==============================] - 12s 137ms/step - loss: 0.0285\n",
            "Epoch 2/100\n",
            "24/24 [==============================] - 4s 147ms/step - loss: 0.0024\n",
            "Epoch 3/100\n",
            "24/24 [==============================] - 4s 167ms/step - loss: 0.0012\n",
            "Epoch 4/100\n",
            "24/24 [==============================] - 3s 129ms/step - loss: 0.0011\n",
            "Epoch 5/100\n",
            "24/24 [==============================] - 2s 82ms/step - loss: 0.0011\n",
            "Epoch 6/100\n",
            "24/24 [==============================] - 2s 84ms/step - loss: 0.0010\n",
            "Epoch 7/100\n",
            "24/24 [==============================] - 2s 84ms/step - loss: 0.0010\n",
            "Epoch 8/100\n",
            "24/24 [==============================] - 2s 85ms/step - loss: 9.9577e-04\n",
            "Epoch 9/100\n",
            "24/24 [==============================] - 3s 106ms/step - loss: 9.5953e-04\n",
            "Epoch 10/100\n",
            "24/24 [==============================] - 2s 90ms/step - loss: 8.9084e-04\n",
            "Epoch 11/100\n",
            "24/24 [==============================] - 2s 87ms/step - loss: 9.5981e-04\n",
            "Epoch 12/100\n",
            "24/24 [==============================] - 2s 85ms/step - loss: 8.5280e-04\n",
            "Epoch 13/100\n",
            "24/24 [==============================] - 2s 85ms/step - loss: 8.2019e-04\n",
            "Epoch 14/100\n",
            "24/24 [==============================] - 2s 85ms/step - loss: 7.9397e-04\n",
            "Epoch 15/100\n",
            "24/24 [==============================] - 3s 108ms/step - loss: 7.4374e-04\n",
            "Epoch 16/100\n",
            "24/24 [==============================] - 2s 93ms/step - loss: 7.1153e-04\n",
            "Epoch 17/100\n",
            "24/24 [==============================] - 2s 85ms/step - loss: 7.5792e-04\n",
            "Epoch 18/100\n",
            "24/24 [==============================] - 2s 86ms/step - loss: 8.4611e-04\n",
            "Epoch 19/100\n",
            "24/24 [==============================] - 2s 84ms/step - loss: 7.3824e-04\n",
            "Epoch 20/100\n",
            "24/24 [==============================] - 2s 85ms/step - loss: 7.2532e-04\n",
            "Epoch 21/100\n",
            "24/24 [==============================] - 3s 108ms/step - loss: 6.9531e-04\n",
            "Epoch 22/100\n",
            "24/24 [==============================] - 2s 94ms/step - loss: 6.7851e-04\n",
            "Epoch 23/100\n",
            "24/24 [==============================] - 2s 85ms/step - loss: 6.4184e-04\n",
            "Epoch 24/100\n",
            "24/24 [==============================] - 2s 83ms/step - loss: 6.6591e-04\n",
            "Epoch 25/100\n",
            "24/24 [==============================] - 2s 84ms/step - loss: 6.9452e-04\n",
            "Epoch 26/100\n",
            "24/24 [==============================] - 2s 85ms/step - loss: 6.3435e-04\n",
            "Epoch 27/100\n",
            "24/24 [==============================] - 3s 108ms/step - loss: 7.2071e-04\n",
            "Epoch 28/100\n",
            "24/24 [==============================] - 2s 94ms/step - loss: 6.0046e-04\n",
            "Epoch 29/100\n",
            "24/24 [==============================] - 2s 84ms/step - loss: 5.8763e-04\n",
            "Epoch 30/100\n",
            "24/24 [==============================] - 2s 83ms/step - loss: 6.5122e-04\n",
            "Epoch 31/100\n",
            "24/24 [==============================] - 3s 116ms/step - loss: 6.2659e-04\n",
            "Epoch 32/100\n",
            "24/24 [==============================] - 2s 87ms/step - loss: 6.1579e-04\n",
            "Epoch 33/100\n",
            "24/24 [==============================] - 3s 108ms/step - loss: 6.5346e-04\n",
            "Epoch 34/100\n",
            "24/24 [==============================] - 2s 87ms/step - loss: 5.7593e-04\n",
            "Epoch 35/100\n",
            "24/24 [==============================] - 2s 85ms/step - loss: 5.7707e-04\n",
            "Epoch 36/100\n",
            "24/24 [==============================] - 2s 85ms/step - loss: 5.4899e-04\n",
            "Epoch 37/100\n",
            "24/24 [==============================] - 2s 86ms/step - loss: 5.7333e-04\n",
            "Epoch 38/100\n",
            "24/24 [==============================] - 2s 87ms/step - loss: 5.4214e-04\n",
            "Epoch 39/100\n",
            "24/24 [==============================] - 3s 108ms/step - loss: 5.2273e-04\n",
            "Epoch 40/100\n",
            "24/24 [==============================] - 2s 87ms/step - loss: 5.0698e-04\n",
            "Epoch 41/100\n",
            "24/24 [==============================] - 2s 89ms/step - loss: 5.1721e-04\n",
            "Epoch 42/100\n",
            "24/24 [==============================] - 2s 87ms/step - loss: 4.8211e-04\n",
            "Epoch 43/100\n",
            "24/24 [==============================] - 2s 83ms/step - loss: 5.0448e-04\n",
            "Epoch 44/100\n",
            "24/24 [==============================] - 2s 87ms/step - loss: 6.3075e-04\n",
            "Epoch 45/100\n",
            "24/24 [==============================] - 3s 112ms/step - loss: 6.2898e-04\n",
            "Epoch 46/100\n",
            "24/24 [==============================] - 2s 87ms/step - loss: 4.7362e-04\n",
            "Epoch 47/100\n",
            "24/24 [==============================] - 2s 86ms/step - loss: 4.7578e-04\n",
            "Epoch 48/100\n",
            "24/24 [==============================] - 2s 88ms/step - loss: 4.8274e-04\n",
            "Epoch 49/100\n",
            "24/24 [==============================] - 2s 85ms/step - loss: 4.4764e-04\n",
            "Epoch 50/100\n",
            "24/24 [==============================] - 2s 84ms/step - loss: 4.6078e-04\n",
            "Epoch 51/100\n",
            "24/24 [==============================] - 3s 110ms/step - loss: 4.5030e-04\n",
            "Epoch 52/100\n",
            "24/24 [==============================] - 2s 88ms/step - loss: 4.5176e-04\n",
            "Epoch 53/100\n",
            "24/24 [==============================] - 2s 85ms/step - loss: 4.2533e-04\n",
            "Epoch 54/100\n",
            "24/24 [==============================] - 2s 85ms/step - loss: 3.9475e-04\n",
            "Epoch 55/100\n",
            "24/24 [==============================] - 2s 88ms/step - loss: 4.3012e-04\n",
            "Epoch 56/100\n",
            "24/24 [==============================] - 2s 85ms/step - loss: 3.8499e-04\n",
            "Epoch 57/100\n",
            "24/24 [==============================] - 3s 110ms/step - loss: 3.6734e-04\n",
            "Epoch 58/100\n",
            "24/24 [==============================] - 2s 90ms/step - loss: 3.5234e-04\n",
            "Epoch 59/100\n",
            "24/24 [==============================] - 2s 87ms/step - loss: 3.6509e-04\n",
            "Epoch 60/100\n",
            "24/24 [==============================] - 2s 87ms/step - loss: 4.9619e-04\n",
            "Epoch 61/100\n",
            "24/24 [==============================] - 2s 84ms/step - loss: 5.2280e-04\n",
            "Epoch 62/100\n",
            "24/24 [==============================] - 2s 85ms/step - loss: 3.9420e-04\n",
            "Epoch 63/100\n",
            "24/24 [==============================] - 3s 109ms/step - loss: 3.7095e-04\n",
            "Epoch 64/100\n",
            "24/24 [==============================] - 2s 93ms/step - loss: 3.3692e-04\n",
            "Epoch 65/100\n",
            "24/24 [==============================] - 2s 86ms/step - loss: 4.0896e-04\n",
            "Epoch 66/100\n",
            "24/24 [==============================] - 2s 86ms/step - loss: 3.1641e-04\n",
            "Epoch 67/100\n",
            "24/24 [==============================] - 2s 86ms/step - loss: 3.2686e-04\n",
            "Epoch 68/100\n",
            "24/24 [==============================] - 2s 85ms/step - loss: 3.1056e-04\n",
            "Epoch 69/100\n",
            "24/24 [==============================] - 3s 111ms/step - loss: 3.5359e-04\n",
            "Epoch 70/100\n",
            "24/24 [==============================] - 2s 91ms/step - loss: 3.1196e-04\n",
            "Epoch 71/100\n",
            "24/24 [==============================] - 2s 87ms/step - loss: 2.8042e-04\n",
            "Epoch 72/100\n",
            "24/24 [==============================] - 2s 84ms/step - loss: 2.8650e-04\n",
            "Epoch 73/100\n",
            "24/24 [==============================] - 2s 85ms/step - loss: 3.0747e-04\n",
            "Epoch 74/100\n",
            "24/24 [==============================] - 2s 87ms/step - loss: 2.9362e-04\n",
            "Epoch 75/100\n",
            "24/24 [==============================] - 3s 109ms/step - loss: 2.5178e-04\n",
            "Epoch 76/100\n",
            "24/24 [==============================] - 2s 94ms/step - loss: 3.4712e-04\n",
            "Epoch 77/100\n",
            "24/24 [==============================] - 2s 86ms/step - loss: 3.1769e-04\n",
            "Epoch 78/100\n",
            "24/24 [==============================] - 2s 87ms/step - loss: 2.5346e-04\n",
            "Epoch 79/100\n",
            "24/24 [==============================] - 2s 87ms/step - loss: 2.9613e-04\n",
            "Epoch 80/100\n",
            "24/24 [==============================] - 2s 86ms/step - loss: 2.2855e-04\n",
            "Epoch 81/100\n",
            "24/24 [==============================] - 3s 108ms/step - loss: 2.5270e-04\n",
            "Epoch 82/100\n",
            "24/24 [==============================] - 2s 92ms/step - loss: 2.1757e-04\n",
            "Epoch 83/100\n",
            "24/24 [==============================] - 2s 88ms/step - loss: 2.2888e-04\n",
            "Epoch 84/100\n",
            "24/24 [==============================] - 2s 86ms/step - loss: 2.8928e-04\n",
            "Epoch 85/100\n",
            "24/24 [==============================] - 2s 87ms/step - loss: 2.1386e-04\n",
            "Epoch 86/100\n",
            "24/24 [==============================] - 2s 88ms/step - loss: 2.1134e-04\n",
            "Epoch 87/100\n",
            "24/24 [==============================] - 3s 111ms/step - loss: 1.9583e-04\n",
            "Epoch 88/100\n",
            "24/24 [==============================] - 2s 90ms/step - loss: 1.9429e-04\n",
            "Epoch 89/100\n",
            "24/24 [==============================] - 2s 87ms/step - loss: 2.3769e-04\n",
            "Epoch 90/100\n",
            "24/24 [==============================] - 2s 85ms/step - loss: 1.9407e-04\n",
            "Epoch 91/100\n",
            "24/24 [==============================] - 2s 86ms/step - loss: 1.8136e-04\n",
            "Epoch 92/100\n",
            "24/24 [==============================] - 2s 87ms/step - loss: 1.8467e-04\n",
            "Epoch 93/100\n",
            "24/24 [==============================] - 3s 112ms/step - loss: 2.0175e-04\n",
            "Epoch 94/100\n",
            "24/24 [==============================] - 2s 86ms/step - loss: 1.8934e-04\n",
            "Epoch 95/100\n",
            "24/24 [==============================] - 2s 85ms/step - loss: 2.1591e-04\n",
            "Epoch 96/100\n",
            "24/24 [==============================] - 2s 84ms/step - loss: 1.9248e-04\n",
            "Epoch 97/100\n",
            "24/24 [==============================] - 2s 88ms/step - loss: 1.9639e-04\n",
            "Epoch 98/100\n",
            "24/24 [==============================] - 2s 89ms/step - loss: 1.9087e-04\n",
            "Epoch 99/100\n",
            "24/24 [==============================] - 3s 111ms/step - loss: 1.9605e-04\n",
            "Epoch 100/100\n",
            "24/24 [==============================] - 2s 92ms/step - loss: 2.3879e-04\n"
          ]
        },
        {
          "output_type": "execute_result",
          "data": {
            "text/plain": [
              "<keras.callbacks.History at 0x7f30b03599d0>"
            ]
          },
          "metadata": {},
          "execution_count": 83
        }
      ]
    },
    {
      "cell_type": "code",
      "source": [
        "train_predict=model.predict(x_train)\n",
        "test_predict=model.predict(x_test)"
      ],
      "metadata": {
        "colab": {
          "base_uri": "https://localhost:8080/"
        },
        "id": "xqye8MYvxKcw",
        "outputId": "84712df3-59f4-4447-9bd1-4723b3b19027"
      },
      "execution_count": 84,
      "outputs": [
        {
          "output_type": "stream",
          "name": "stdout",
          "text": [
            "24/24 [==============================] - 2s 23ms/step\n",
            "12/12 [==============================] - 0s 23ms/step\n"
          ]
        }
      ]
    },
    {
      "cell_type": "code",
      "source": [
        "train_predict=scalar.inverse_transform(train_predict)\n",
        "test_predict=scalar.inverse_transform(test_predict)"
      ],
      "metadata": {
        "id": "xeUZmsf9xKhl"
      },
      "execution_count": 85,
      "outputs": []
    },
    {
      "cell_type": "code",
      "source": [
        "y_train=scalar.inverse_transform(y_train)  #to make inverse transform\n",
        "y_test=scalar.inverse_transform(y_test)"
      ],
      "metadata": {
        "id": "2BvqtUelxKj9"
      },
      "execution_count": 86,
      "outputs": []
    },
    {
      "cell_type": "code",
      "source": [
        "from sklearn.metrics import mean_squared_error\n",
        "mse_train=mean_squared_error(y_train,train_predict)  \n",
        "mse_train"
      ],
      "metadata": {
        "colab": {
          "base_uri": "https://localhost:8080/"
        },
        "id": "bYkRuleWxKnD",
        "outputId": "d002b821-e05d-42cb-ad6f-478c1a02c71a"
      },
      "execution_count": 87,
      "outputs": [
        {
          "output_type": "execute_result",
          "data": {
            "text/plain": [
              "0.16291735342622965"
            ]
          },
          "metadata": {},
          "execution_count": 87
        }
      ]
    },
    {
      "cell_type": "code",
      "source": [
        "mse_test=mean_squared_error(y_test,test_predict)  \n",
        "mse_test"
      ],
      "metadata": {
        "colab": {
          "base_uri": "https://localhost:8080/"
        },
        "id": "2aRflok1xoCI",
        "outputId": "0db0aee0-1020-48f7-f0bc-407d533f8c36"
      },
      "execution_count": 88,
      "outputs": [
        {
          "output_type": "execute_result",
          "data": {
            "text/plain": [
              "1.0123959702899752"
            ]
          },
          "metadata": {},
          "execution_count": 88
        }
      ]
    },
    {
      "cell_type": "code",
      "source": [
        "import matplotlib.pyplot as plt\n",
        "plt.figure(figsize=(10,6))\n",
        "plt.plot(train_predict,color='red',label=\"predictions stock\")\n",
        "plt.plot(y_train,color='green',label=\"actual stock\")"
      ],
      "metadata": {
        "colab": {
          "base_uri": "https://localhost:8080/",
          "height": 409
        },
        "id": "LyCm4hMXxoE9",
        "outputId": "65a06858-5542-4276-bb50-a622fda12cd4"
      },
      "execution_count": 89,
      "outputs": [
        {
          "output_type": "execute_result",
          "data": {
            "text/plain": [
              "[<matplotlib.lines.Line2D at 0x7f30b8a73a90>,\n",
              " <matplotlib.lines.Line2D at 0x7f30b8a73ac0>]"
            ]
          },
          "metadata": {},
          "execution_count": 89
        },
        {
          "output_type": "display_data",
          "data": {
            "text/plain": [
              "<Figure size 720x432 with 1 Axes>"
            ],
            "image/png": "[encoded data removed]"
          },
          "metadata": {
            "needs_background": "light"
          }
        }
      ]
    },
    {
      "cell_type": "code",
      "source": [
        "plt.figure(figsize=(10,6))\n",
        "plt.plot(test_predict,color='red',label=\"predictions stock\")\n",
        "plt.plot(y_test,color='green',label=\"actual stock\")"
      ],
      "metadata": {
        "colab": {
          "base_uri": "https://localhost:8080/",
          "height": 409
        },
        "id": "JxwLHR2AyHb2",
        "outputId": "690e9af8-16a2-4c42-e123-93492da9c58a"
      },
      "execution_count": 90,
      "outputs": [
        {
          "output_type": "execute_result",
          "data": {
            "text/plain": [
              "[<matplotlib.lines.Line2D at 0x7f30b8a57520>,\n",
              " <matplotlib.lines.Line2D at 0x7f30b8a57550>]"
            ]
          },
          "metadata": {},
          "execution_count": 90
        },
        {
          "output_type": "display_data",
          "data": {
            "text/plain": [
              "<Figure size 720x432 with 1 Axes>"
            ],
            "image/png": "[encoded data removed]"
          },
          "metadata": {
            "needs_background": "light"
          }
        }
      ]
    },
    {
      "cell_type": "code",
      "source": [
        "trainpredictplot=numpy.empty_like(df1)#create a new array with the same shape and type as a given array.\n",
        "trainpredictplot[:,:]=numpy.nan\n",
        "trainpredictplot[time_step:len(train_predict)+time_step,:]=train_predict\n",
        "# trainpredictplot[time_step:len(train_data),:]=train_predict"
      ],
      "metadata": {
        "id": "Qkm5wNeZyHdr"
      },
      "execution_count": 91,
      "outputs": []
    },
    {
      "cell_type": "code",
      "source": [
        "testpredictplot=numpy.empty_like(df1)\n",
        "testpredictplot[:,:]=numpy.nan\n",
        "testpredictplot[split+time_step:len(test_predict)+split+time_step,:]=test_predict\n",
        "# testpredictplot[len(train_data)+time_step:len(df1),:]=test_predict"
      ],
      "metadata": {
        "id": "3fUd1zqgyHhP"
      },
      "execution_count": 92,
      "outputs": []
    },
    {
      "cell_type": "code",
      "source": [
        "plt.plot(df1,color='red')\n",
        "plt.plot(trainpredictplot,'yellow')\n",
        "plt.plot(testpredictplot,color='blue')"
      ],
      "metadata": {
        "colab": {
          "base_uri": "https://localhost:8080/",
          "height": 300
        },
        "id": "1O9zJ7kK2_pu",
        "outputId": "26c4df6a-d92e-4047-8804-f52a3339e271"
      },
      "execution_count": 93,
      "outputs": [
        {
          "output_type": "execute_result",
          "data": {
            "text/plain": [
              "[<matplotlib.lines.Line2D at 0x7f30b89771f0>,\n",
              " <matplotlib.lines.Line2D at 0x7f30b8977220>]"
            ]
          },
          "metadata": {},
          "execution_count": 93
        },
        {
          "output_type": "display_data",
          "data": {
            "text/plain": [
              "<Figure size 432x288 with 1 Axes>"
            ],
            "image/png": "[encoded data removed]"
          },
          "metadata": {
            "needs_background": "light"
          }
        }
      ]
    },
    {
      "cell_type": "code",
      "source": [],
      "metadata": {
        "id": "lCJyBwiP2_s3"
      },
      "execution_count": 93,
      "outputs": []
    },
    {
      "cell_type": "code",
      "source": [],
      "metadata": {
        "id": "MB9ZM2zbCk9l"
      },
      "execution_count": null,
      "outputs": []
    },
    {
      "cell_type": "code",
      "source": [
        "# df=pd.read_csv('/content/drive/MyDrive/datasets/csv_data/AAPL (3).csv')\n",
        "# df_new=df.iloc[:,[1,5]]\n",
        "# x_new=df_new.values[0:60]\n",
        "# x_new.shape"
      ],
      "metadata": {
        "colab": {
          "base_uri": "https://localhost:8080/"
        },
        "id": "E1FITtpD7LaD",
        "outputId": "b50a8f26-f35f-48e7-9bb7-e1fa8389cd5a"
      },
      "execution_count": 100,
      "outputs": [
        {
          "output_type": "execute_result",
          "data": {
            "text/plain": [
              "(60, 2)"
            ]
          },
          "metadata": {},
          "execution_count": 100
        }
      ]
    },
    {
      "cell_type": "code",
      "source": [
        "df['Open'].head()"
      ],
      "metadata": {
        "colab": {
          "base_uri": "https://localhost:8080/"
        },
        "id": "rY7HeA9I7Lc5",
        "outputId": "ca79fdee-5b61-44e9-e025-69e8e18f4b5c"
      },
      "execution_count": 101,
      "outputs": [
        {
          "output_type": "execute_result",
          "data": {
            "text/plain": [
              "0    44.634998\n",
              "1    43.200001\n",
              "2    43.802502\n",
              "3    44.477501\n",
              "4    43.735001\n",
              "Name: Open, dtype: float64"
            ]
          },
          "metadata": {},
          "execution_count": 101
        }
      ]
    },
    {
      "cell_type": "code",
      "source": [
        "df=pd.read_csv('/content/drive/MyDrive/datasets/csv_data/AAPL (3).csv')\n",
        "df_new=df.iloc[:,[1,5]]\n",
        "x_new=df_new.values[1:61]\n",
        "x_new.shape"
      ],
      "metadata": {
        "colab": {
          "base_uri": "https://localhost:8080/"
        },
        "id": "Xbn5t3JK7Lff",
        "outputId": "d543fcc3-6f2b-43d3-aa68-22fd9390f3e4"
      },
      "execution_count": 109,
      "outputs": [
        {
          "output_type": "execute_result",
          "data": {
            "text/plain": [
              "(60, 2)"
            ]
          },
          "metadata": {},
          "execution_count": 109
        }
      ]
    },
    {
      "cell_type": "code",
      "source": [
        "x_new=x_new.reshape(-1, 2)   # to make MinMaxScaler \n",
        "x_new.shape"
      ],
      "metadata": {
        "colab": {
          "base_uri": "https://localhost:8080/"
        },
        "id": "GOpnPBNy9Jha",
        "outputId": "b8e2b6b2-8a8e-452a-b98f-c26b8597069d"
      },
      "execution_count": 110,
      "outputs": [
        {
          "output_type": "execute_result",
          "data": {
            "text/plain": [
              "(60, 2)"
            ]
          },
          "metadata": {},
          "execution_count": 110
        }
      ]
    },
    {
      "cell_type": "code",
      "source": [
        "scalar=MinMaxScaler(feature_range=(0,1))\n",
        "x_new_scaled=scalar.fit_transform(x_new)"
      ],
      "metadata": {
        "id": "sMLyizL39Jjg"
      },
      "execution_count": 111,
      "outputs": []
    },
    {
      "cell_type": "code",
      "source": [
        "x_new_scaled=x_new_scaled.reshape(1,60,2) # the  input to  lstm  must be 3D (#samples,timestep,#features)\n",
        "\n",
        "y_new=model.predict(x_new_scaled)\n",
        "y_new"
      ],
      "metadata": {
        "colab": {
          "base_uri": "https://localhost:8080/"
        },
        "id": "kFieGos39Jme",
        "outputId": "aef2ce46-6589-4918-f4d8-502d825121b9"
      },
      "execution_count": 112,
      "outputs": [
        {
          "output_type": "stream",
          "name": "stdout",
          "text": [
            "1/1 [==============================] - 0s 46ms/step\n"
          ]
        },
        {
          "output_type": "execute_result",
          "data": {
            "text/plain": [
              "array([[1.0279837 , 0.89886475]], dtype=float32)"
            ]
          },
          "metadata": {},
          "execution_count": 112
        }
      ]
    },
    {
      "cell_type": "code",
      "source": [
        "scalar.inverse_transform(y_new)"
      ],
      "metadata": {
        "colab": {
          "base_uri": "https://localhost:8080/"
        },
        "id": "l0F1IfAG9TIo",
        "outputId": "307bbd79-d42c-4110-e055-c99a7bc2c2fc"
      },
      "execution_count": 113,
      "outputs": [
        {
          "output_type": "execute_result",
          "data": {
            "text/plain": [
              "array([[47.563908, 44.69227 ]], dtype=float32)"
            ]
          },
          "metadata": {},
          "execution_count": 113
        }
      ]
    },
    {
      "cell_type": "code",
      "source": [
        "print(df_new.values[60:61])"
      ],
      "metadata": {
        "colab": {
          "base_uri": "https://localhost:8080/"
        },
        "id": "mHUbcc0o9TKx",
        "outputId": "bfa93519-511d-4d7b-88d5-9b09c27510a0"
      },
      "execution_count": 114,
      "outputs": [
        {
          "output_type": "stream",
          "name": "stdout",
          "text": [
            "[[47.057499 45.18652 ]]\n"
          ]
        }
      ]
    },
    {
      "cell_type": "code",
      "source": [],
      "metadata": {
        "id": "rXIz8Yxa9TOg"
      },
      "execution_count": 107,
      "outputs": []
    }
  ]
}