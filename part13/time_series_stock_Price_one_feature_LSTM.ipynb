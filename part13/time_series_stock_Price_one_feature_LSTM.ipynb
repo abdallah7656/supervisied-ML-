{
  "nbformat": 4,
  "nbformat_minor": 0,
  "metadata": {
    "colab": {
      "provenance": []
    },
    "kernelspec": {
      "name": "python3",
      "display_name": "Python 3"
    },
    "language_info": {
      "name": "python"
    }
  },
  "cells": [
    {
      "cell_type": "code",
      "execution_count": null,
      "metadata": {
        "id": "nX_Sx2jUocNg"
      },
      "outputs": [],
      "source": [
        "# https://finance.yahoo.com/quote/AAPL/history?period1=1514757600&period2=1517349600&interval=1d&filter=history&frequency=1d"
      ]
    },
    {
      "cell_type": "code",
      "source": [
        "import pandas as pd\n",
        "df=pd.read_csv('/content/drive/MyDrive/datasets/csv_data/AAPL (5).csv')"
      ],
      "metadata": {
        "id": "FQO03gl4psLw"
      },
      "execution_count": null,
      "outputs": []
    },
    {
      "cell_type": "code",
      "source": [
        "df.head()"
      ],
      "metadata": {
        "colab": {
          "base_uri": "https://localhost:8080/",
          "height": 250
        },
        "id": "oAQ0gA6KpsPL",
        "outputId": "d8180dbc-1db2-420d-aa9b-cda20ca20a62"
      },
      "execution_count": null,
      "outputs": [
        {
          "output_type": "execute_result",
          "data": {
            "text/plain": [
              "         Date       Open       High        Low      Close  Adj Close  \\\n",
              "0  2013-01-02  19.779285  19.821428  19.343929  19.608213  16.890799   \n",
              "1  2013-01-03  19.567142  19.631071  19.321428  19.360714  16.677595   \n",
              "2  2013-01-04  19.177500  19.236786  18.779642  18.821428  16.213049   \n",
              "3  2013-01-07  18.642857  18.903570  18.400000  18.710714  16.117680   \n",
              "4  2013-01-08  18.900356  18.996071  18.616072  18.761070  16.161058   \n",
              "\n",
              "      Volume  \n",
              "0  560518000  \n",
              "1  352965200  \n",
              "2  594333600  \n",
              "3  484156400  \n",
              "4  458707200  "
            ],
            "text/html": [
              "\n",
              "  <div id=\"df-b1c2c387-e24e-4079-8f23-b26652739970\">\n",
              "    <div class=\"colab-df-container\">\n",
              "      <div>\n",
              "<style scoped>\n",
              "    .dataframe tbody tr th:only-of-type {\n",
              "        vertical-align: middle;\n",
              "    }\n",
              "\n",
              "    .dataframe tbody tr th {\n",
              "        vertical-align: top;\n",
              "    }\n",
              "\n",
              "    .dataframe thead th {\n",
              "        text-align: right;\n",
              "    }\n",
              "</style>\n",
              "<table border=\"1\" class=\"dataframe\">\n",
              "  <thead>\n",
              "    <tr style=\"text-align: right;\">\n",
              "      <th></th>\n",
              "      <th>Date</th>\n",
              "      <th>Open</th>\n",
              "      <th>High</th>\n",
              "      <th>Low</th>\n",
              "      <th>Close</th>\n",
              "      <th>Adj Close</th>\n",
              "      <th>Volume</th>\n",
              "    </tr>\n",
              "  </thead>\n",
              "  <tbody>\n",
              "    <tr>\n",
              "      <th>0</th>\n",
              "      <td>2013-01-02</td>\n",
              "      <td>19.779285</td>\n",
              "      <td>19.821428</td>\n",
              "      <td>19.343929</td>\n",
              "      <td>19.608213</td>\n",
              "      <td>16.890799</td>\n",
              "      <td>560518000</td>\n",
              "    </tr>\n",
              "    <tr>\n",
              "      <th>1</th>\n",
              "      <td>2013-01-03</td>\n",
              "      <td>19.567142</td>\n",
              "      <td>19.631071</td>\n",
              "      <td>19.321428</td>\n",
              "      <td>19.360714</td>\n",
              "      <td>16.677595</td>\n",
              "      <td>352965200</td>\n",
              "    </tr>\n",
              "    <tr>\n",
              "      <th>2</th>\n",
              "      <td>2013-01-04</td>\n",
              "      <td>19.177500</td>\n",
              "      <td>19.236786</td>\n",
              "      <td>18.779642</td>\n",
              "      <td>18.821428</td>\n",
              "      <td>16.213049</td>\n",
              "      <td>594333600</td>\n",
              "    </tr>\n",
              "    <tr>\n",
              "      <th>3</th>\n",
              "      <td>2013-01-07</td>\n",
              "      <td>18.642857</td>\n",
              "      <td>18.903570</td>\n",
              "      <td>18.400000</td>\n",
              "      <td>18.710714</td>\n",
              "      <td>16.117680</td>\n",
              "      <td>484156400</td>\n",
              "    </tr>\n",
              "    <tr>\n",
              "      <th>4</th>\n",
              "      <td>2013-01-08</td>\n",
              "      <td>18.900356</td>\n",
              "      <td>18.996071</td>\n",
              "      <td>18.616072</td>\n",
              "      <td>18.761070</td>\n",
              "      <td>16.161058</td>\n",
              "      <td>458707200</td>\n",
              "    </tr>\n",
              "  </tbody>\n",
              "</table>\n",
              "</div>\n",
              "      <button class=\"colab-df-convert\" onclick=\"convertToInteractive('df-b1c2c387-e24e-4079-8f23-b26652739970')\"\n",
              "              title=\"Convert this dataframe to an interactive table.\"\n",
              "              style=\"display:none;\">\n",
              "        \n",
              "  <svg xmlns=\"http://www.w3.org/2000/svg\" height=\"24px\"viewBox=\"0 0 24 24\"\n",
              "       width=\"24px\">\n",
              "    <path d=\"M0 0h24v24H0V0z\" fill=\"none\"/>\n",
              "    <path d=\"M18.56 5.44l.94 2.06.94-2.06 2.06-.94-2.06-.94-.94-2.06-.94 2.06-2.06.94zm-11 1L8.5 8.5l.94-2.06 2.06-.94-2.06-.94L8.5 2.5l-.94 2.06-2.06.94zm10 10l.94 2.06.94-2.06 2.06-.94-2.06-.94-.94-2.06-.94 2.06-2.06.94z\"/><path d=\"M17.41 7.96l-1.37-1.37c-.4-.4-.92-.59-1.43-.59-.52 0-1.04.2-1.43.59L10.3 9.45l-7.72 7.72c-.78.78-.78 2.05 0 2.83L4 21.41c.39.39.9.59 1.41.59.51 0 1.02-.2 1.41-.59l7.78-7.78 2.81-2.81c.8-.78.8-2.07 0-2.86zM5.41 20L4 18.59l7.72-7.72 1.47 1.35L5.41 20z\"/>\n",
              "  </svg>\n",
              "      </button>\n",
              "      \n",
              "  <style>\n",
              "    .colab-df-container {\n",
              "      display:flex;\n",
              "      flex-wrap:wrap;\n",
              "      gap: 12px;\n",
              "    }\n",
              "\n",
              "    .colab-df-convert {\n",
              "      background-color: #E8F0FE;\n",
              "      border: none;\n",
              "      border-radius: 50%;\n",
              "      cursor: pointer;\n",
              "      display: none;\n",
              "      fill: #1967D2;\n",
              "      height: 32px;\n",
              "      padding: 0 0 0 0;\n",
              "      width: 32px;\n",
              "    }\n",
              "\n",
              "    .colab-df-convert:hover {\n",
              "      background-color: #E2EBFA;\n",
              "      box-shadow: 0px 1px 2px rgba(60, 64, 67, 0.3), 0px 1px 3px 1px rgba(60, 64, 67, 0.15);\n",
              "      fill: #174EA6;\n",
              "    }\n",
              "\n",
              "    [theme=dark] .colab-df-convert {\n",
              "      background-color: #3B4455;\n",
              "      fill: #D2E3FC;\n",
              "    }\n",
              "\n",
              "    [theme=dark] .colab-df-convert:hover {\n",
              "      background-color: #434B5C;\n",
              "      box-shadow: 0px 1px 3px 1px rgba(0, 0, 0, 0.15);\n",
              "      filter: drop-shadow(0px 1px 2px rgba(0, 0, 0, 0.3));\n",
              "      fill: #FFFFFF;\n",
              "    }\n",
              "  </style>\n",
              "\n",
              "      <script>\n",
              "        const buttonEl =\n",
              "          document.querySelector('#df-b1c2c387-e24e-4079-8f23-b26652739970 button.colab-df-convert');\n",
              "        buttonEl.style.display =\n",
              "          google.colab.kernel.accessAllowed ? 'block' : 'none';\n",
              "\n",
              "        async function convertToInteractive(key) {\n",
              "          const element = document.querySelector('#df-b1c2c387-e24e-4079-8f23-b26652739970');\n",
              "          const dataTable =\n",
              "            await google.colab.kernel.invokeFunction('convertToInteractive',\n",
              "                                                     [key], {});\n",
              "          if (!dataTable) return;\n",
              "\n",
              "          const docLinkHtml = 'Like what you see? Visit the ' +\n",
              "            '<a target=\"_blank\" href=https://colab.research.google.com/notebooks/data_table.ipynb>data table notebook</a>'\n",
              "            + ' to learn more about interactive tables.';\n",
              "          element.innerHTML = '';\n",
              "          dataTable['output_type'] = 'display_data';\n",
              "          await google.colab.output.renderOutput(dataTable, element);\n",
              "          const docLink = document.createElement('div');\n",
              "          docLink.innerHTML = docLinkHtml;\n",
              "          element.appendChild(docLink);\n",
              "        }\n",
              "      </script>\n",
              "    </div>\n",
              "  </div>\n",
              "  "
            ]
          },
          "metadata": {},
          "execution_count": 2
        }
      ]
    },
    {
      "cell_type": "code",
      "source": [
        "df1=df.iloc[:,1:2]\n",
        "df1.head()"
      ],
      "metadata": {
        "colab": {
          "base_uri": "https://localhost:8080/",
          "height": 206
        },
        "id": "HSOURGslqdMM",
        "outputId": "e5609ae3-df09-4969-f972-40b44fdded9c"
      },
      "execution_count": null,
      "outputs": [
        {
          "output_type": "execute_result",
          "data": {
            "text/plain": [
              "        Open\n",
              "0  19.779285\n",
              "1  19.567142\n",
              "2  19.177500\n",
              "3  18.642857\n",
              "4  18.900356"
            ],
            "text/html": [
              "\n",
              "  <div id=\"df-fa7d2294-cd98-4a9e-964c-e3581bcadb72\">\n",
              "    <div class=\"colab-df-container\">\n",
              "      <div>\n",
              "<style scoped>\n",
              "    .dataframe tbody tr th:only-of-type {\n",
              "        vertical-align: middle;\n",
              "    }\n",
              "\n",
              "    .dataframe tbody tr th {\n",
              "        vertical-align: top;\n",
              "    }\n",
              "\n",
              "    .dataframe thead th {\n",
              "        text-align: right;\n",
              "    }\n",
              "</style>\n",
              "<table border=\"1\" class=\"dataframe\">\n",
              "  <thead>\n",
              "    <tr style=\"text-align: right;\">\n",
              "      <th></th>\n",
              "      <th>Open</th>\n",
              "    </tr>\n",
              "  </thead>\n",
              "  <tbody>\n",
              "    <tr>\n",
              "      <th>0</th>\n",
              "      <td>19.779285</td>\n",
              "    </tr>\n",
              "    <tr>\n",
              "      <th>1</th>\n",
              "      <td>19.567142</td>\n",
              "    </tr>\n",
              "    <tr>\n",
              "      <th>2</th>\n",
              "      <td>19.177500</td>\n",
              "    </tr>\n",
              "    <tr>\n",
              "      <th>3</th>\n",
              "      <td>18.642857</td>\n",
              "    </tr>\n",
              "    <tr>\n",
              "      <th>4</th>\n",
              "      <td>18.900356</td>\n",
              "    </tr>\n",
              "  </tbody>\n",
              "</table>\n",
              "</div>\n",
              "      <button class=\"colab-df-convert\" onclick=\"convertToInteractive('df-fa7d2294-cd98-4a9e-964c-e3581bcadb72')\"\n",
              "              title=\"Convert this dataframe to an interactive table.\"\n",
              "              style=\"display:none;\">\n",
              "        \n",
              "  <svg xmlns=\"http://www.w3.org/2000/svg\" height=\"24px\"viewBox=\"0 0 24 24\"\n",
              "       width=\"24px\">\n",
              "    <path d=\"M0 0h24v24H0V0z\" fill=\"none\"/>\n",
              "    <path d=\"M18.56 5.44l.94 2.06.94-2.06 2.06-.94-2.06-.94-.94-2.06-.94 2.06-2.06.94zm-11 1L8.5 8.5l.94-2.06 2.06-.94-2.06-.94L8.5 2.5l-.94 2.06-2.06.94zm10 10l.94 2.06.94-2.06 2.06-.94-2.06-.94-.94-2.06-.94 2.06-2.06.94z\"/><path d=\"M17.41 7.96l-1.37-1.37c-.4-.4-.92-.59-1.43-.59-.52 0-1.04.2-1.43.59L10.3 9.45l-7.72 7.72c-.78.78-.78 2.05 0 2.83L4 21.41c.39.39.9.59 1.41.59.51 0 1.02-.2 1.41-.59l7.78-7.78 2.81-2.81c.8-.78.8-2.07 0-2.86zM5.41 20L4 18.59l7.72-7.72 1.47 1.35L5.41 20z\"/>\n",
              "  </svg>\n",
              "      </button>\n",
              "      \n",
              "  <style>\n",
              "    .colab-df-container {\n",
              "      display:flex;\n",
              "      flex-wrap:wrap;\n",
              "      gap: 12px;\n",
              "    }\n",
              "\n",
              "    .colab-df-convert {\n",
              "      background-color: #E8F0FE;\n",
              "      border: none;\n",
              "      border-radius: 50%;\n",
              "      cursor: pointer;\n",
              "      display: none;\n",
              "      fill: #1967D2;\n",
              "      height: 32px;\n",
              "      padding: 0 0 0 0;\n",
              "      width: 32px;\n",
              "    }\n",
              "\n",
              "    .colab-df-convert:hover {\n",
              "      background-color: #E2EBFA;\n",
              "      box-shadow: 0px 1px 2px rgba(60, 64, 67, 0.3), 0px 1px 3px 1px rgba(60, 64, 67, 0.15);\n",
              "      fill: #174EA6;\n",
              "    }\n",
              "\n",
              "    [theme=dark] .colab-df-convert {\n",
              "      background-color: #3B4455;\n",
              "      fill: #D2E3FC;\n",
              "    }\n",
              "\n",
              "    [theme=dark] .colab-df-convert:hover {\n",
              "      background-color: #434B5C;\n",
              "      box-shadow: 0px 1px 3px 1px rgba(0, 0, 0, 0.15);\n",
              "      filter: drop-shadow(0px 1px 2px rgba(0, 0, 0, 0.3));\n",
              "      fill: #FFFFFF;\n",
              "    }\n",
              "  </style>\n",
              "\n",
              "      <script>\n",
              "        const buttonEl =\n",
              "          document.querySelector('#df-fa7d2294-cd98-4a9e-964c-e3581bcadb72 button.colab-df-convert');\n",
              "        buttonEl.style.display =\n",
              "          google.colab.kernel.accessAllowed ? 'block' : 'none';\n",
              "\n",
              "        async function convertToInteractive(key) {\n",
              "          const element = document.querySelector('#df-fa7d2294-cd98-4a9e-964c-e3581bcadb72');\n",
              "          const dataTable =\n",
              "            await google.colab.kernel.invokeFunction('convertToInteractive',\n",
              "                                                     [key], {});\n",
              "          if (!dataTable) return;\n",
              "\n",
              "          const docLinkHtml = 'Like what you see? Visit the ' +\n",
              "            '<a target=\"_blank\" href=https://colab.research.google.com/notebooks/data_table.ipynb>data table notebook</a>'\n",
              "            + ' to learn more about interactive tables.';\n",
              "          element.innerHTML = '';\n",
              "          dataTable['output_type'] = 'display_data';\n",
              "          await google.colab.output.renderOutput(dataTable, element);\n",
              "          const docLink = document.createElement('div');\n",
              "          docLink.innerHTML = docLinkHtml;\n",
              "          element.appendChild(docLink);\n",
              "        }\n",
              "      </script>\n",
              "    </div>\n",
              "  </div>\n",
              "  "
            ]
          },
          "metadata": {},
          "execution_count": 6
        }
      ]
    },
    {
      "cell_type": "markdown",
      "source": [],
      "metadata": {
        "id": "Vw8uMFB3rV5S"
      }
    },
    {
      "cell_type": "code",
      "source": [
        "from sklearn.preprocessing import MinMaxScaler\n",
        "scalar=MinMaxScaler(feature_range=(0,1))  #you must pass to MinMaxScaler function a 2D input\n",
        "df1_scaled=scalar.fit_transform(df1)\n",
        "df1_scaled"
      ],
      "metadata": {
        "colab": {
          "base_uri": "https://localhost:8080/"
        },
        "id": "mpcGeHw5qwJz",
        "outputId": "2c713076-a68b-483b-f262-52f16f86e5c5"
      },
      "execution_count": null,
      "outputs": [
        {
          "output_type": "execute_result",
          "data": {
            "text/plain": [
              "array([[0.19795893],\n",
              "       [0.19086893],\n",
              "       [0.17784675],\n",
              "       ...,\n",
              "       [0.95814044],\n",
              "       [0.96566006],\n",
              "       [0.96164959]])"
            ]
          },
          "metadata": {},
          "execution_count": 7
        }
      ]
    },
    {
      "cell_type": "code",
      "source": [
        "split_percent=0.65\n",
        "split=int(split_percent*len(df1_scaled))\n",
        "split"
      ],
      "metadata": {
        "colab": {
          "base_uri": "https://localhost:8080/"
        },
        "id": "GlPwFRnsqwMA",
        "outputId": "183c65f9-a6da-4c50-c4d6-612d4883f7f5"
      },
      "execution_count": null,
      "outputs": [
        {
          "output_type": "execute_result",
          "data": {
            "text/plain": [
              "818"
            ]
          },
          "metadata": {},
          "execution_count": 8
        }
      ]
    },
    {
      "cell_type": "code",
      "source": [
        "train_data=df1_scaled[:split]\n",
        "test_data=df1_scaled[split:]"
      ],
      "metadata": {
        "id": "U4Q8ogoPqwO3"
      },
      "execution_count": null,
      "outputs": []
    },
    {
      "cell_type": "code",
      "source": [
        "len(train_data)"
      ],
      "metadata": {
        "colab": {
          "base_uri": "https://localhost:8080/"
        },
        "id": "GKRrpxUSr81b",
        "outputId": "3d084816-4b0e-4719-ca43-7e09857c7349"
      },
      "execution_count": null,
      "outputs": [
        {
          "output_type": "execute_result",
          "data": {
            "text/plain": [
              "818"
            ]
          },
          "metadata": {},
          "execution_count": 10
        }
      ]
    },
    {
      "cell_type": "code",
      "source": [
        "import numpy\n",
        "#create dataset\n",
        "def  create_dataset (dataset, time_step):\n",
        "      data_x=[] \n",
        "      data_y=[]\n",
        "      for i in range(len(dataset)-time_step):#i=0,1,2,3,4,....\n",
        "          a=dataset[i:(i+time_step)]\n",
        "          data_x.append(a)\n",
        "          data_y.append(dataset[i+time_step])\n",
        "      return numpy.array(data_x), numpy.array(data_y)"
      ],
      "metadata": {
        "id": "FiJk4JwguqMn"
      },
      "execution_count": null,
      "outputs": []
    },
    {
      "cell_type": "code",
      "source": [
        "time_step=60\n",
        "x_train,y_train=create_dataset (train_data, time_step)\n",
        "x_test,y_test=create_dataset (test_data, time_step)\n",
        "print(x_train.shape)\n",
        "print(y_train.shape)\n",
        "print(x_test.shape)\n",
        "print(y_test.shape)"
      ],
      "metadata": {
        "colab": {
          "base_uri": "https://localhost:8080/"
        },
        "id": "jCitiydKuqP9",
        "outputId": "3f1cf4df-cb25-4808-ca37-8226aca28a13"
      },
      "execution_count": null,
      "outputs": [
        {
          "output_type": "stream",
          "name": "stdout",
          "text": [
            "(758, 60, 1)\n",
            "(758, 1)\n",
            "(381, 60, 1)\n",
            "(381, 1)\n"
          ]
        }
      ]
    },
    {
      "cell_type": "markdown",
      "source": [],
      "metadata": {
        "id": "2tOY9olKwyRg"
      }
    },
    {
      "cell_type": "code",
      "source": [],
      "metadata": {
        "id": "UKRN5HENwbXs"
      },
      "execution_count": null,
      "outputs": []
    },
    {
      "cell_type": "code",
      "source": [
        "from keras.models import Sequential\n",
        "from keras.layers import*"
      ],
      "metadata": {
        "id": "pfJAD5BzwbZ_"
      },
      "execution_count": null,
      "outputs": []
    },
    {
      "cell_type": "code",
      "source": [
        "model=Sequential()\n",
        "model.add(LSTM(units=50, return_sequences=True, input_shape=(time_step,1)))\n",
        "model.add(LSTM(units=50, return_sequences=True))\n",
        "model.add(LSTM(units=50))\n",
        "model.add(Dense(units=1))"
      ],
      "metadata": {
        "id": "skR7N_Q4wbdj"
      },
      "execution_count": null,
      "outputs": []
    },
    {
      "cell_type": "code",
      "source": [
        "model.compile(optimizer='adam',loss='mean_squared_error')"
      ],
      "metadata": {
        "id": "P5xRnOC8w2_l"
      },
      "execution_count": null,
      "outputs": []
    },
    {
      "cell_type": "code",
      "source": [
        "model.fit(x_train,y_train,epochs=100,batch_size=32)"
      ],
      "metadata": {
        "colab": {
          "base_uri": "https://localhost:8080/"
        },
        "id": "gPqTdLOfw3Cm",
        "outputId": "0457334c-2b1d-4509-c373-12391a83524f"
      },
      "execution_count": null,
      "outputs": [
        {
          "output_type": "stream",
          "name": "stdout",
          "text": [
            "Epoch 1/100\n",
            "24/24 [==============================] - 7s 73ms/step - loss: 0.0223\n",
            "Epoch 2/100\n",
            "24/24 [==============================] - 2s 76ms/step - loss: 0.0024\n",
            "Epoch 3/100\n",
            "24/24 [==============================] - 2s 75ms/step - loss: 0.0013\n",
            "Epoch 4/100\n",
            "24/24 [==============================] - 2s 77ms/step - loss: 0.0012\n",
            "Epoch 5/100\n",
            "24/24 [==============================] - 2s 92ms/step - loss: 0.0012\n",
            "Epoch 6/100\n",
            "24/24 [==============================] - 2s 89ms/step - loss: 0.0011\n",
            "Epoch 7/100\n",
            "24/24 [==============================] - 2s 75ms/step - loss: 0.0011\n",
            "Epoch 8/100\n",
            "24/24 [==============================] - 2s 75ms/step - loss: 0.0010\n",
            "Epoch 9/100\n",
            "24/24 [==============================] - 2s 74ms/step - loss: 9.7580e-04\n",
            "Epoch 10/100\n",
            "24/24 [==============================] - 2s 90ms/step - loss: 0.0010\n",
            "Epoch 11/100\n",
            "24/24 [==============================] - 2s 83ms/step - loss: 9.1316e-04\n",
            "Epoch 12/100\n",
            "24/24 [==============================] - 2s 97ms/step - loss: 8.4329e-04\n",
            "Epoch 13/100\n",
            "24/24 [==============================] - 2s 76ms/step - loss: 8.2861e-04\n",
            "Epoch 14/100\n",
            "24/24 [==============================] - 2s 76ms/step - loss: 8.3212e-04\n",
            "Epoch 15/100\n",
            "24/24 [==============================] - 2s 75ms/step - loss: 7.5972e-04\n",
            "Epoch 16/100\n",
            "24/24 [==============================] - 2s 76ms/step - loss: 8.9567e-04\n",
            "Epoch 17/100\n",
            "24/24 [==============================] - 2s 76ms/step - loss: 7.6349e-04\n",
            "Epoch 18/100\n",
            "24/24 [==============================] - 2s 85ms/step - loss: 7.3153e-04\n",
            "Epoch 19/100\n",
            "24/24 [==============================] - 2s 99ms/step - loss: 8.1165e-04\n",
            "Epoch 20/100\n",
            "24/24 [==============================] - 2s 77ms/step - loss: 7.4343e-04\n",
            "Epoch 21/100\n",
            "24/24 [==============================] - 2s 76ms/step - loss: 6.7534e-04\n",
            "Epoch 22/100\n",
            "24/24 [==============================] - 2s 78ms/step - loss: 6.9690e-04\n",
            "Epoch 23/100\n",
            "24/24 [==============================] - 2s 76ms/step - loss: 6.9427e-04\n",
            "Epoch 24/100\n",
            "24/24 [==============================] - 2s 75ms/step - loss: 7.4631e-04\n",
            "Epoch 25/100\n",
            "24/24 [==============================] - 2s 91ms/step - loss: 7.0462e-04\n",
            "Epoch 26/100\n",
            "24/24 [==============================] - 2s 95ms/step - loss: 6.4680e-04\n",
            "Epoch 27/100\n",
            "24/24 [==============================] - 2s 76ms/step - loss: 7.2451e-04\n",
            "Epoch 28/100\n",
            "24/24 [==============================] - 2s 76ms/step - loss: 6.7932e-04\n",
            "Epoch 29/100\n",
            "24/24 [==============================] - 2s 75ms/step - loss: 6.5643e-04\n",
            "Epoch 30/100\n",
            "24/24 [==============================] - 2s 74ms/step - loss: 6.0655e-04\n",
            "Epoch 31/100\n",
            "24/24 [==============================] - 2s 77ms/step - loss: 6.0393e-04\n",
            "Epoch 32/100\n",
            "24/24 [==============================] - 2s 102ms/step - loss: 6.0392e-04\n",
            "Epoch 33/100\n",
            "24/24 [==============================] - 3s 120ms/step - loss: 5.6514e-04\n",
            "Epoch 34/100\n",
            "24/24 [==============================] - 3s 119ms/step - loss: 6.0970e-04\n",
            "Epoch 35/100\n",
            "24/24 [==============================] - 2s 76ms/step - loss: 6.1338e-04\n",
            "Epoch 36/100\n",
            "24/24 [==============================] - 2s 78ms/step - loss: 6.2917e-04\n",
            "Epoch 37/100\n",
            "24/24 [==============================] - 2s 78ms/step - loss: 6.2943e-04\n",
            "Epoch 38/100\n",
            "24/24 [==============================] - 2s 98ms/step - loss: 5.3490e-04\n",
            "Epoch 39/100\n",
            "24/24 [==============================] - 2s 82ms/step - loss: 6.4254e-04\n",
            "Epoch 40/100\n",
            "24/24 [==============================] - 2s 77ms/step - loss: 5.3382e-04\n",
            "Epoch 41/100\n",
            "24/24 [==============================] - 2s 78ms/step - loss: 5.6563e-04\n",
            "Epoch 42/100\n",
            "24/24 [==============================] - 2s 76ms/step - loss: 5.6875e-04\n",
            "Epoch 43/100\n",
            "24/24 [==============================] - 2s 76ms/step - loss: 5.5342e-04\n",
            "Epoch 44/100\n",
            "24/24 [==============================] - 2s 79ms/step - loss: 5.1383e-04\n",
            "Epoch 45/100\n",
            "24/24 [==============================] - 2s 100ms/step - loss: 5.2231e-04\n",
            "Epoch 46/100\n",
            "24/24 [==============================] - 2s 73ms/step - loss: 5.4298e-04\n",
            "Epoch 47/100\n",
            "24/24 [==============================] - 2s 75ms/step - loss: 5.0707e-04\n",
            "Epoch 48/100\n",
            "24/24 [==============================] - 2s 73ms/step - loss: 5.3561e-04\n",
            "Epoch 49/100\n",
            "24/24 [==============================] - 2s 74ms/step - loss: 5.2617e-04\n",
            "Epoch 50/100\n",
            "24/24 [==============================] - 2s 73ms/step - loss: 5.2813e-04\n",
            "Epoch 51/100\n",
            "24/24 [==============================] - 2s 83ms/step - loss: 4.8643e-04\n",
            "Epoch 52/100\n",
            "24/24 [==============================] - 2s 96ms/step - loss: 4.6861e-04\n",
            "Epoch 53/100\n",
            "24/24 [==============================] - 2s 75ms/step - loss: 5.9709e-04\n",
            "Epoch 54/100\n",
            "24/24 [==============================] - 2s 75ms/step - loss: 4.9684e-04\n",
            "Epoch 55/100\n",
            "24/24 [==============================] - 2s 73ms/step - loss: 4.4713e-04\n",
            "Epoch 56/100\n",
            "24/24 [==============================] - 2s 74ms/step - loss: 4.6705e-04\n",
            "Epoch 57/100\n",
            "24/24 [==============================] - 2s 75ms/step - loss: 4.3795e-04\n",
            "Epoch 58/100\n",
            "24/24 [==============================] - 2s 88ms/step - loss: 4.3386e-04\n",
            "Epoch 59/100\n",
            "24/24 [==============================] - 2s 95ms/step - loss: 4.2123e-04\n",
            "Epoch 60/100\n",
            "24/24 [==============================] - 2s 76ms/step - loss: 4.0039e-04\n",
            "Epoch 61/100\n",
            "24/24 [==============================] - 2s 76ms/step - loss: 4.3761e-04\n",
            "Epoch 62/100\n",
            "24/24 [==============================] - 2s 80ms/step - loss: 3.9172e-04\n",
            "Epoch 63/100\n",
            "24/24 [==============================] - 3s 123ms/step - loss: 3.7924e-04\n",
            "Epoch 64/100\n",
            "24/24 [==============================] - 2s 91ms/step - loss: 3.8272e-04\n",
            "Epoch 65/100\n",
            "24/24 [==============================] - 2s 96ms/step - loss: 4.0661e-04\n",
            "Epoch 66/100\n",
            "24/24 [==============================] - 2s 76ms/step - loss: 4.7493e-04\n",
            "Epoch 67/100\n",
            "24/24 [==============================] - 2s 78ms/step - loss: 4.4063e-04\n",
            "Epoch 68/100\n",
            "24/24 [==============================] - 2s 77ms/step - loss: 3.6165e-04\n",
            "Epoch 69/100\n",
            "24/24 [==============================] - 2s 78ms/step - loss: 3.7488e-04\n",
            "Epoch 70/100\n",
            "24/24 [==============================] - 2s 102ms/step - loss: 4.8038e-04\n",
            "Epoch 71/100\n",
            "24/24 [==============================] - 2s 104ms/step - loss: 5.8019e-04\n",
            "Epoch 72/100\n",
            "24/24 [==============================] - 2s 80ms/step - loss: 3.7179e-04\n",
            "Epoch 73/100\n",
            "24/24 [==============================] - 2s 78ms/step - loss: 3.4680e-04\n",
            "Epoch 74/100\n",
            "24/24 [==============================] - 2s 78ms/step - loss: 3.7155e-04\n",
            "Epoch 75/100\n",
            "24/24 [==============================] - 2s 77ms/step - loss: 3.2897e-04\n",
            "Epoch 76/100\n",
            "24/24 [==============================] - 2s 78ms/step - loss: 3.0211e-04\n",
            "Epoch 77/100\n",
            "24/24 [==============================] - 2s 92ms/step - loss: 3.3247e-04\n",
            "Epoch 78/100\n",
            "24/24 [==============================] - 2s 97ms/step - loss: 3.0996e-04\n",
            "Epoch 79/100\n",
            "24/24 [==============================] - 2s 79ms/step - loss: 3.5661e-04\n",
            "Epoch 80/100\n",
            "24/24 [==============================] - 2s 80ms/step - loss: 3.2610e-04\n",
            "Epoch 81/100\n",
            "24/24 [==============================] - 2s 77ms/step - loss: 2.8506e-04\n",
            "Epoch 82/100\n",
            "24/24 [==============================] - 2s 75ms/step - loss: 2.9339e-04\n",
            "Epoch 83/100\n",
            "24/24 [==============================] - 2s 78ms/step - loss: 2.7998e-04\n",
            "Epoch 84/100\n",
            "24/24 [==============================] - 2s 104ms/step - loss: 4.0229e-04\n",
            "Epoch 85/100\n",
            "24/24 [==============================] - 2s 85ms/step - loss: 3.4475e-04\n",
            "Epoch 86/100\n",
            "24/24 [==============================] - 2s 78ms/step - loss: 2.7658e-04\n",
            "Epoch 87/100\n",
            "24/24 [==============================] - 2s 79ms/step - loss: 2.6269e-04\n",
            "Epoch 88/100\n",
            "24/24 [==============================] - 3s 126ms/step - loss: 2.7522e-04\n",
            "Epoch 89/100\n",
            "24/24 [==============================] - 2s 79ms/step - loss: 2.6949e-04\n",
            "Epoch 90/100\n",
            "24/24 [==============================] - 3s 127ms/step - loss: 2.9907e-04\n",
            "Epoch 91/100\n",
            "24/24 [==============================] - 4s 153ms/step - loss: 3.1407e-04\n",
            "Epoch 92/100\n",
            "24/24 [==============================] - 3s 120ms/step - loss: 2.5581e-04\n",
            "Epoch 93/100\n",
            "24/24 [==============================] - 2s 76ms/step - loss: 2.5660e-04\n",
            "Epoch 94/100\n",
            "24/24 [==============================] - 2s 76ms/step - loss: 2.5177e-04\n",
            "Epoch 95/100\n",
            "24/24 [==============================] - 2s 100ms/step - loss: 2.4456e-04\n",
            "Epoch 96/100\n",
            "24/24 [==============================] - 2s 80ms/step - loss: 2.8603e-04\n",
            "Epoch 97/100\n",
            "24/24 [==============================] - 2s 74ms/step - loss: 2.7813e-04\n",
            "Epoch 98/100\n",
            "24/24 [==============================] - 2s 74ms/step - loss: 2.7777e-04\n",
            "Epoch 99/100\n",
            "24/24 [==============================] - 2s 76ms/step - loss: 2.5650e-04\n",
            "Epoch 100/100\n",
            "24/24 [==============================] - 2s 75ms/step - loss: 2.7435e-04\n"
          ]
        },
        {
          "output_type": "execute_result",
          "data": {
            "text/plain": [
              "<keras.callbacks.History at 0x7f30b8dd1610>"
            ]
          },
          "metadata": {},
          "execution_count": 16
        }
      ]
    },
    {
      "cell_type": "code",
      "source": [
        "train_predict=model.predict(x_train)\n",
        "test_predict=model.predict(x_test)"
      ],
      "metadata": {
        "colab": {
          "base_uri": "https://localhost:8080/"
        },
        "id": "xqye8MYvxKcw",
        "outputId": "5e4c9eff-d34a-4042-ae5f-6f8000ea4f92"
      },
      "execution_count": null,
      "outputs": [
        {
          "output_type": "stream",
          "name": "stdout",
          "text": [
            "24/24 [==============================] - 2s 24ms/step\n",
            "12/12 [==============================] - 0s 23ms/step\n"
          ]
        }
      ]
    },
    {
      "cell_type": "code",
      "source": [
        "train_predict=scalar.inverse_transform(train_predict)\n",
        "test_predict=scalar.inverse_transform(test_predict)"
      ],
      "metadata": {
        "id": "xeUZmsf9xKhl"
      },
      "execution_count": null,
      "outputs": []
    },
    {
      "cell_type": "code",
      "source": [
        "y_train=scalar.inverse_transform(y_train)  #to make inverse transform\n",
        "y_test=scalar.inverse_transform(y_test)"
      ],
      "metadata": {
        "id": "2BvqtUelxKj9"
      },
      "execution_count": null,
      "outputs": []
    },
    {
      "cell_type": "code",
      "source": [
        "from sklearn.metrics import mean_squared_error\n",
        "mse_train=mean_squared_error(y_train,train_predict)  \n",
        "mse_train"
      ],
      "metadata": {
        "colab": {
          "base_uri": "https://localhost:8080/"
        },
        "id": "bYkRuleWxKnD",
        "outputId": "fffad265-90c4-4464-93c2-098469749a83"
      },
      "execution_count": null,
      "outputs": [
        {
          "output_type": "execute_result",
          "data": {
            "text/plain": [
              "0.2829857422271538"
            ]
          },
          "metadata": {},
          "execution_count": 20
        }
      ]
    },
    {
      "cell_type": "code",
      "source": [
        "mse_test=mean_squared_error(y_test,test_predict)  \n",
        "mse_test"
      ],
      "metadata": {
        "colab": {
          "base_uri": "https://localhost:8080/"
        },
        "id": "2aRflok1xoCI",
        "outputId": "5aa1a26d-1877-4cc1-ef50-1c571a40a2c3"
      },
      "execution_count": null,
      "outputs": [
        {
          "output_type": "execute_result",
          "data": {
            "text/plain": [
              "1.0622981829215326"
            ]
          },
          "metadata": {},
          "execution_count": 21
        }
      ]
    },
    {
      "cell_type": "code",
      "source": [
        "import matplotlib.pyplot as plt\n",
        "plt.figure(figsize=(10,6))\n",
        "plt.plot(train_predict,color='red',label=\"predictions stock\")\n",
        "plt.plot(y_train,color='green',label=\"actual stock\")"
      ],
      "metadata": {
        "colab": {
          "base_uri": "https://localhost:8080/",
          "height": 392
        },
        "id": "LyCm4hMXxoE9",
        "outputId": "984fd3f1-13d9-4f53-fae0-7894819ede44"
      },
      "execution_count": null,
      "outputs": [
        {
          "output_type": "execute_result",
          "data": {
            "text/plain": [
              "[<matplotlib.lines.Line2D at 0x7f30b9701e20>]"
            ]
          },
          "metadata": {},
          "execution_count": 22
        },
        {
          "output_type": "display_data",
          "data": {
            "text/plain": [
              "<Figure size 720x432 with 1 Axes>"
            ],
            "image/png": "[encoded data removed]"
          },
          "metadata": {
            "needs_background": "light"
          }
        }
      ]
    },
    {
      "cell_type": "code",
      "source": [
        "plt.figure(figsize=(10,6))\n",
        "plt.plot(test_predict,color='red',label=\"predictions stock\")\n",
        "plt.plot(y_test,color='green',label=\"actual stock\")"
      ],
      "metadata": {
        "colab": {
          "base_uri": "https://localhost:8080/",
          "height": 392
        },
        "id": "JxwLHR2AyHb2",
        "outputId": "d38e2a30-a3f9-48fa-8995-148e887b5048"
      },
      "execution_count": null,
      "outputs": [
        {
          "output_type": "execute_result",
          "data": {
            "text/plain": [
              "[<matplotlib.lines.Line2D at 0x7f30b9181400>]"
            ]
          },
          "metadata": {},
          "execution_count": 23
        },
        {
          "output_type": "display_data",
          "data": {
            "text/plain": [
              "<Figure size 720x432 with 1 Axes>"
            ],
            "image/png": "[encoded data removed]"
          },
          "metadata": {
            "needs_background": "light"
          }
        }
      ]
    },
    {
      "cell_type": "code",
      "source": [
        "trainpredictplot=numpy.empty_like(df1)#create a new array with the same shape and type as a given array.\n",
        "trainpredictplot[:,:]=numpy.nan\n",
        "trainpredictplot[time_step:len(train_predict)+time_step,:]=train_predict\n",
        "# trainpredictplot[time_step:len(train_data),:]=train_predict"
      ],
      "metadata": {
        "id": "Qkm5wNeZyHdr"
      },
      "execution_count": null,
      "outputs": []
    },
    {
      "cell_type": "code",
      "source": [
        "testpredictplot=numpy.empty_like(df1)\n",
        "testpredictplot[:,:]=numpy.nan\n",
        "testpredictplot[split+time_step:len(test_predict)+split+time_step,:]=test_predict\n",
        "# testpredictplot[len(train_data)+time_step:len(df1),:]=test_predict"
      ],
      "metadata": {
        "id": "3fUd1zqgyHhP"
      },
      "execution_count": null,
      "outputs": []
    },
    {
      "cell_type": "code",
      "source": [
        "plt.plot(df1,color='red')\n",
        "plt.plot(trainpredictplot,'yellow')\n",
        "plt.plot(testpredictplot,color='blue')"
      ],
      "metadata": {
        "colab": {
          "base_uri": "https://localhost:8080/",
          "height": 286
        },
        "id": "1O9zJ7kK2_pu",
        "outputId": "368d49b5-4faa-4ecd-e0f6-f77a1afa97ad"
      },
      "execution_count": null,
      "outputs": [
        {
          "output_type": "execute_result",
          "data": {
            "text/plain": [
              "[<matplotlib.lines.Line2D at 0x7f30b90f2910>]"
            ]
          },
          "metadata": {},
          "execution_count": 26
        },
        {
          "output_type": "display_data",
          "data": {
            "text/plain": [
              "<Figure size 432x288 with 1 Axes>"
            ],
            "image/png": "[encoded data removed]"
          },
          "metadata": {
            "needs_background": "light"
          }
        }
      ]
    },
    {
      "cell_type": "code",
      "source": [],
      "metadata": {
        "id": "lCJyBwiP2_s3"
      },
      "execution_count": null,
      "outputs": []
    },
    {
      "cell_type": "code",
      "source": [
        "df=pd.read_csv('/content/drive/MyDrive/datasets/csv_data/AAPL (3).csv')\n",
        "df_new=df['Open']\n",
        "x_new=df_new.values[0:60]\n",
        "x_new.shape"
      ],
      "metadata": {
        "colab": {
          "base_uri": "https://localhost:8080/"
        },
        "id": "E1FITtpD7LaD",
        "outputId": "4888d4e8-5cea-451d-8606-f8368daf5e57"
      },
      "execution_count": null,
      "outputs": [
        {
          "output_type": "execute_result",
          "data": {
            "text/plain": [
              "(60,)"
            ]
          },
          "metadata": {},
          "execution_count": 29
        }
      ]
    },
    {
      "cell_type": "code",
      "source": [
        "df['Open'].head()"
      ],
      "metadata": {
        "colab": {
          "base_uri": "https://localhost:8080/"
        },
        "id": "rY7HeA9I7Lc5",
        "outputId": "b7b4df25-f2d0-4e63-ac6d-f3a8886aa489"
      },
      "execution_count": null,
      "outputs": [
        {
          "output_type": "execute_result",
          "data": {
            "text/plain": [
              "0    44.634998\n",
              "1    43.200001\n",
              "2    43.802502\n",
              "3    44.477501\n",
              "4    43.735001\n",
              "Name: Open, dtype: float64"
            ]
          },
          "metadata": {},
          "execution_count": 30
        }
      ]
    },
    {
      "cell_type": "code",
      "source": [
        "df=pd.read_csv('/content/drive/MyDrive/datasets/csv_data/AAPL (3).csv')\n",
        "df_new=df['Open']\n",
        "x_new=df_new.values[1:61]\n",
        "x_new.shape"
      ],
      "metadata": {
        "colab": {
          "base_uri": "https://localhost:8080/"
        },
        "id": "Xbn5t3JK7Lff",
        "outputId": "7d002387-59c7-4358-eded-26889eba01c5"
      },
      "execution_count": null,
      "outputs": [
        {
          "output_type": "execute_result",
          "data": {
            "text/plain": [
              "(60,)"
            ]
          },
          "metadata": {},
          "execution_count": 31
        }
      ]
    },
    {
      "cell_type": "code",
      "source": [
        "x_new=x_new.reshape(-1, 1)   # to make MinMaxScaler \n",
        "x_new.shape"
      ],
      "metadata": {
        "colab": {
          "base_uri": "https://localhost:8080/"
        },
        "id": "GOpnPBNy9Jha",
        "outputId": "df2ca4dd-798a-4203-b297-300cbfdd666a"
      },
      "execution_count": null,
      "outputs": [
        {
          "output_type": "execute_result",
          "data": {
            "text/plain": [
              "(60, 1)"
            ]
          },
          "metadata": {},
          "execution_count": 32
        }
      ]
    },
    {
      "cell_type": "code",
      "source": [
        "scalar=MinMaxScaler(feature_range=(0,1))\n",
        "x_new_scaled=scalar.fit_transform(x_new)"
      ],
      "metadata": {
        "id": "sMLyizL39Jjg"
      },
      "execution_count": null,
      "outputs": []
    },
    {
      "cell_type": "code",
      "source": [
        "x_new_scaled=x_new_scaled.reshape(1,60,1) # the  input to  lstm  must be 3D (#samples,timestep,#features)\n",
        "\n",
        "y_new=model.predict(x_new_scaled)\n",
        "y_new"
      ],
      "metadata": {
        "colab": {
          "base_uri": "https://localhost:8080/"
        },
        "id": "kFieGos39Jme",
        "outputId": "4996af01-76f7-4b30-8032-76854f2b3824"
      },
      "execution_count": null,
      "outputs": [
        {
          "output_type": "stream",
          "name": "stdout",
          "text": [
            "1/1 [==============================] - 0s 28ms/step\n"
          ]
        },
        {
          "output_type": "execute_result",
          "data": {
            "text/plain": [
              "array([[0.92592776]], dtype=float32)"
            ]
          },
          "metadata": {},
          "execution_count": 34
        }
      ]
    },
    {
      "cell_type": "code",
      "source": [
        "scalar.inverse_transform(y_new)"
      ],
      "metadata": {
        "colab": {
          "base_uri": "https://localhost:8080/"
        },
        "id": "l0F1IfAG9TIo",
        "outputId": "71ee4ffb-4180-4b0b-a570-d501bfddeba1"
      },
      "execution_count": null,
      "outputs": [
        {
          "output_type": "execute_result",
          "data": {
            "text/plain": [
              "array([[46.865845]], dtype=float32)"
            ]
          },
          "metadata": {},
          "execution_count": 35
        }
      ]
    },
    {
      "cell_type": "code",
      "source": [
        "print(df_new.values[60:61])"
      ],
      "metadata": {
        "colab": {
          "base_uri": "https://localhost:8080/"
        },
        "id": "mHUbcc0o9TKx",
        "outputId": "0b17c18f-85ee-48de-8c5e-e08ddb0e1325"
      },
      "execution_count": null,
      "outputs": [
        {
          "output_type": "stream",
          "name": "stdout",
          "text": [
            "[47.057499]\n"
          ]
        }
      ]
    },
    {
      "cell_type": "code",
      "source": [],
      "metadata": {
        "id": "rXIz8Yxa9TOg"
      },
      "execution_count": null,
      "outputs": []
    }
  ]
}