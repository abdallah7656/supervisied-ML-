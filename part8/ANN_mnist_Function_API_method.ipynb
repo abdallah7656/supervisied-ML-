{
  "nbformat": 4,
  "nbformat_minor": 0,
  "metadata": {
    "colab": {
      "provenance": []
    },
    "kernelspec": {
      "name": "python3",
      "display_name": "Python 3"
    },
    "language_info": {
      "name": "python"
    }
  },
  "cells": [
    {
      "cell_type": "code",
      "metadata": {
        "id": "HD2Rk-ZDSMVx"
      },
      "source": [
        "from  tensorflow import keras\n",
        "from  keras import datasets\n",
        "from keras.layers import Input, Dense, Flatten\n",
        "from keras.models import Model\n",
        "from keras import  datasets\n",
        "from matplotlib import pyplot as plt\n"
      ],
      "execution_count": null,
      "outputs": []
    },
    {
      "cell_type": "code",
      "source": [
        "(x_train, y_train), (x_test, y_test) = datasets.mnist.load_data()"
      ],
      "metadata": {
        "id": "6V3cDL4G4WMF"
      },
      "execution_count": null,
      "outputs": []
    },
    {
      "cell_type": "code",
      "metadata": {
        "id": "vt9t37WrhWy8"
      },
      "source": [
        "#Normalize image pixel values.\n",
        "x_train = x_train/255\n",
        "x_test = x_test/255"
      ],
      "execution_count": null,
      "outputs": []
    },
    {
      "cell_type": "code",
      "metadata": {
        "colab": {
          "base_uri": "https://localhost:8080/"
        },
        "id": "ORom-RTJZ-kp",
        "outputId": "7f90a78c-41b1-49af-dd8d-32d195f6afee"
      },
      "source": [
        "input=Input(shape=(28,28))\n",
        "x1=Flatten()(input)\n",
        "x2=Dense(120,activation = 'tanh')(x1)\n",
        "x3=Dense(84,activation = 'tanh')(x2)\n",
        "output=Dense(10,activation = 'softmax',name='name1')(x3)\n",
        "model = Model(inputs=input,outputs=output,name=\"mnist_model\")\n",
        "\n",
        "model.summary()"
      ],
      "execution_count": null,
      "outputs": [
        {
          "output_type": "stream",
          "name": "stdout",
          "text": [
            "Model: \"mnist_model\"\n",
            "_________________________________________________________________\n",
            " Layer (type)                Output Shape              Param #   \n",
            "=================================================================\n",
            " input_1 (InputLayer)        [(None, 28, 28)]          0         \n",
            "                                                                 \n",
            " flatten (Flatten)           (None, 784)               0         \n",
            "                                                                 \n",
            " dense (Dense)               (None, 120)               94200     \n",
            "                                                                 \n",
            " dense_1 (Dense)             (None, 84)                10164     \n",
            "                                                                 \n",
            " name1 (Dense)               (None, 10)                850       \n",
            "                                                                 \n",
            "=================================================================\n",
            "Total params: 105,214\n",
            "Trainable params: 105,214\n",
            "Non-trainable params: 0\n",
            "_________________________________________________________________\n"
          ]
        }
      ]
    },
    {
      "cell_type": "code",
      "metadata": {
        "id": "skMSXinVhSPV",
        "colab": {
          "base_uri": "https://localhost:8080/"
        },
        "outputId": "d245a41e-2ec2-4c3f-e643-2a7d2af8c0f5"
      },
      "source": [
        "model.compile(optimizer='Adam',loss=\"sparse_categorical_crossentropy\",metrics=['accuracy']) \n",
        "results= model.fit(x_train,y_train,epochs=10,batch_size=128,validation_data=(x_test, y_test))\n",
        "\n"
      ],
      "execution_count": null,
      "outputs": [
        {
          "output_type": "stream",
          "name": "stdout",
          "text": [
            "Epoch 1/10\n",
            "469/469 [==============================] - 6s 11ms/step - loss: 0.3418 - accuracy: 0.9025 - val_loss: 0.2047 - val_accuracy: 0.9384\n",
            "Epoch 2/10\n",
            "469/469 [==============================] - 5s 10ms/step - loss: 0.1656 - accuracy: 0.9519 - val_loss: 0.1421 - val_accuracy: 0.9585\n",
            "Epoch 3/10\n",
            "469/469 [==============================] - 5s 10ms/step - loss: 0.1170 - accuracy: 0.9652 - val_loss: 0.1105 - val_accuracy: 0.9679\n",
            "Epoch 4/10\n",
            "469/469 [==============================] - 5s 10ms/step - loss: 0.0887 - accuracy: 0.9731 - val_loss: 0.1012 - val_accuracy: 0.9683\n",
            "Epoch 5/10\n",
            "469/469 [==============================] - 5s 10ms/step - loss: 0.0672 - accuracy: 0.9803 - val_loss: 0.0907 - val_accuracy: 0.9713\n",
            "Epoch 6/10\n",
            "469/469 [==============================] - 3s 6ms/step - loss: 0.0541 - accuracy: 0.9842 - val_loss: 0.0858 - val_accuracy: 0.9724\n",
            "Epoch 7/10\n",
            "469/469 [==============================] - 3s 5ms/step - loss: 0.0433 - accuracy: 0.9874 - val_loss: 0.0852 - val_accuracy: 0.9734\n",
            "Epoch 8/10\n",
            "469/469 [==============================] - 3s 5ms/step - loss: 0.0340 - accuracy: 0.9905 - val_loss: 0.0836 - val_accuracy: 0.9743\n",
            "Epoch 9/10\n",
            "469/469 [==============================] - 2s 5ms/step - loss: 0.0275 - accuracy: 0.9923 - val_loss: 0.0742 - val_accuracy: 0.9778\n",
            "Epoch 10/10\n",
            "469/469 [==============================] - 2s 5ms/step - loss: 0.0216 - accuracy: 0.9942 - val_loss: 0.0829 - val_accuracy: 0.9751\n"
          ]
        }
      ]
    },
    {
      "cell_type": "code",
      "metadata": {
        "id": "eQsuIhTzk3fE",
        "colab": {
          "base_uri": "https://localhost:8080/"
        },
        "outputId": "9d6a3e31-503f-4332-dcc0-f8da73259b7d"
      },
      "source": [
        "score = model.evaluate(x_train, y_train)\n"
      ],
      "execution_count": null,
      "outputs": [
        {
          "output_type": "stream",
          "name": "stdout",
          "text": [
            "1875/1875 [==============================] - 4s 2ms/step - loss: 0.0175 - accuracy: 0.9961\n"
          ]
        }
      ]
    },
    {
      "cell_type": "code",
      "source": [
        "score = model.evaluate(x_test, y_test)"
      ],
      "metadata": {
        "colab": {
          "base_uri": "https://localhost:8080/"
        },
        "id": "FBO9OonO2yk-",
        "outputId": "90211a4a-e227-4596-ded7-c4b155046fe7"
      },
      "execution_count": null,
      "outputs": [
        {
          "output_type": "stream",
          "name": "stdout",
          "text": [
            "313/313 [==============================] - 1s 2ms/step - loss: 0.0829 - accuracy: 0.9751\n"
          ]
        }
      ]
    },
    {
      "cell_type": "code",
      "source": [
        "y_pred=model.predict(x_test)\n",
        "y_pred.shape"
      ],
      "metadata": {
        "colab": {
          "base_uri": "https://localhost:8080/"
        },
        "id": "tYFsXo2prE6n",
        "outputId": "89fc903f-6e4d-4911-c46e-1f8100e440bf"
      },
      "execution_count": null,
      "outputs": [
        {
          "output_type": "stream",
          "name": "stdout",
          "text": [
            "313/313 [==============================] - 1s 2ms/step\n"
          ]
        },
        {
          "output_type": "execute_result",
          "data": {
            "text/plain": [
              "(10000, 10)"
            ]
          },
          "metadata": {},
          "execution_count": 8
        }
      ]
    },
    {
      "cell_type": "code",
      "source": [
        "import numpy as np\n",
        "from numpy import argmax\n",
        "y_pred1=argmax(y_pred,axis=1)"
      ],
      "metadata": {
        "id": "sfjccJJyrNVC"
      },
      "execution_count": null,
      "outputs": []
    },
    {
      "cell_type": "code",
      "source": [
        "print(y_pred[0])\n",
        "print(y_pred1[0])"
      ],
      "metadata": {
        "colab": {
          "base_uri": "https://localhost:8080/"
        },
        "id": "fjHECXEGdhut",
        "outputId": "8c725996-a671-49d3-e1b8-6fa86d42df5c"
      },
      "execution_count": null,
      "outputs": [
        {
          "output_type": "stream",
          "name": "stdout",
          "text": [
            "[1.62898937e-06 9.50078594e-09 8.11358768e-06 5.17077220e-04\n",
            " 7.02108096e-08 6.07007706e-08 3.75145692e-10 9.99357522e-01\n",
            " 1.27613555e-06 1.14287264e-04]\n",
            "7\n"
          ]
        }
      ]
    },
    {
      "cell_type": "code",
      "source": [
        "from sklearn.metrics import accuracy_score,  confusion_matrix\n",
        "print(confusion_matrix(y_test,y_pred1))\n",
        "accuracy_score(y_test,y_pred1)*100"
      ],
      "metadata": {
        "colab": {
          "base_uri": "https://localhost:8080/"
        },
        "id": "_krJCSqEuy74",
        "outputId": "5b0be67d-0100-4655-bf03-d6d70cf60e8b"
      },
      "execution_count": null,
      "outputs": [
        {
          "output_type": "stream",
          "name": "stdout",
          "text": [
            "[[ 969    0    1    2    0    2    5    0    1    0]\n",
            " [   0 1123    2    4    0    1    2    1    2    0]\n",
            " [   6    1 1000   10    1    0    2    3    9    0]\n",
            " [   1    0    1  995    0    2    0    4    7    0]\n",
            " [   0    0    6    1  954    1    2    2    0   16]\n",
            " [   4    0    1   16    5  852    6    1    4    3]\n",
            " [   5    3    2    1    2    6  939    0    0    0]\n",
            " [   2    4    8    4    2    0    0  992    5   11]\n",
            " [   3    1    2    9    3    3    2    4  944    3]\n",
            " [   3    3    0   11    6    1    0    1    1  983]]\n"
          ]
        },
        {
          "output_type": "execute_result",
          "data": {
            "text/plain": [
              "97.50999999999999"
            ]
          },
          "metadata": {},
          "execution_count": 11
        }
      ]
    },
    {
      "cell_type": "code",
      "source": [
        "plt.imshow(x_test[40],cmap=\"gray\")\n",
        "print(y_pred[40])\n",
        "print(y_pred1[40])"
      ],
      "metadata": {
        "colab": {
          "base_uri": "https://localhost:8080/",
          "height": 320
        },
        "id": "oiOWzqKL6WzA",
        "outputId": "df7ac778-e41d-460d-bdfa-653348a1a1f4"
      },
      "execution_count": null,
      "outputs": [
        {
          "output_type": "stream",
          "name": "stdout",
          "text": [
            "[4.5783981e-09 9.9981213e-01 1.2955315e-05 1.0546241e-04 9.1208456e-08\n",
            " 2.2274465e-07 1.7130812e-06 2.1664662e-05 4.2592463e-05 3.1251323e-06]\n",
            "1\n"
          ]
        },
        {
          "output_type": "display_data",
          "data": {
            "text/plain": [
              "<Figure size 432x288 with 1 Axes>"
            ],
            "image/png": "[encoded data removed]"
          },
          "metadata": {
            "needs_background": "light"
          }
        }
      ]
    },
    {
      "cell_type": "code",
      "source": [
        "model.save('mnist.h5')"
      ],
      "metadata": {
        "id": "yAGZHsWZ3cD5"
      },
      "execution_count": null,
      "outputs": []
    },
    {
      "cell_type": "code",
      "source": [
        "results.history['val_accuracy']"
      ],
      "metadata": {
        "colab": {
          "base_uri": "https://localhost:8080/"
        },
        "id": "Ejdzwll7Gorm",
        "outputId": "958c4a6e-e696-4e36-a5d9-9281aa39f080"
      },
      "execution_count": null,
      "outputs": [
        {
          "output_type": "execute_result",
          "data": {
            "text/plain": [
              "[0.9383999705314636,\n",
              " 0.9585000276565552,\n",
              " 0.9678999781608582,\n",
              " 0.9682999849319458,\n",
              " 0.9713000059127808,\n",
              " 0.9724000096321106,\n",
              " 0.9733999967575073,\n",
              " 0.9743000268936157,\n",
              " 0.9778000116348267,\n",
              " 0.9750999808311462]"
            ]
          },
          "metadata": {},
          "execution_count": 14
        }
      ]
    },
    {
      "cell_type": "code",
      "source": [
        "results.history['accuracy']"
      ],
      "metadata": {
        "colab": {
          "base_uri": "https://localhost:8080/"
        },
        "id": "kz_PvFWZSd5K",
        "outputId": "5fd7250d-6c89-4299-985e-7f1e216a048e"
      },
      "execution_count": null,
      "outputs": [
        {
          "output_type": "execute_result",
          "data": {
            "text/plain": [
              "[0.9025166630744934,\n",
              " 0.9518666863441467,\n",
              " 0.9651833176612854,\n",
              " 0.9731333255767822,\n",
              " 0.9803000092506409,\n",
              " 0.9842166900634766,\n",
              " 0.9873833060264587,\n",
              " 0.9904999732971191,\n",
              " 0.9922500252723694,\n",
              " 0.9942166805267334]"
            ]
          },
          "metadata": {},
          "execution_count": 15
        }
      ]
    },
    {
      "cell_type": "code",
      "metadata": {
        "id": "tK3DWgfVS_Un",
        "colab": {
          "base_uri": "https://localhost:8080/",
          "height": 297
        },
        "outputId": "093a4e4f-c8bf-4694-95ef-9cc911fbeb13"
      },
      "source": [
        "plt.plot(results.history['accuracy'], label='accuracy')\n",
        "plt.plot(results.history['val_accuracy'], label = 'val_accuracy')\n",
        "plt.xlabel('Epoch')\n",
        "plt.ylabel('Accuracy')\n",
        "#plt.ylim([0.5, 1])\n",
        "plt.legend(loc='lower right')"
      ],
      "execution_count": null,
      "outputs": [
        {
          "output_type": "execute_result",
          "data": {
            "text/plain": [
              "<matplotlib.legend.Legend at 0x7f94569aa940>"
            ]
          },
          "metadata": {},
          "execution_count": 16
        },
        {
          "output_type": "display_data",
          "data": {
            "text/plain": [
              "<Figure size 432x288 with 1 Axes>"
            ],
            "image/png": "[encoded data removed]"
          },
          "metadata": {
            "needs_background": "light"
          }
        }
      ]
    }
  ]
}