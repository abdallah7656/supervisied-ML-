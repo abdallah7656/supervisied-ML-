{
  "nbformat": 4,
  "nbformat_minor": 0,
  "metadata": {
    "colab": {
      "provenance": []
    },
    "kernelspec": {
      "name": "python3",
      "display_name": "Python 3"
    },
    "language_info": {
      "name": "python"
    }
  },
  "cells": [
    {
      "cell_type": "code",
      "metadata": {
        "id": "HD2Rk-ZDSMVx"
      },
      "source": [
        "from tensorflow import keras\n",
        "from keras.layers import Input, Dense, Dropout,Conv2D, AvgPool2D, Flatten\n",
        "from tensorflow.keras.datasets import mnist\n",
        "from matplotlib import pyplot as plt\n"
      ],
      "execution_count": null,
      "outputs": []
    },
    {
      "cell_type": "code",
      "source": [
        "(x_train, y_train), (x_test, y_test) = mnist.load_data()"
      ],
      "metadata": {
        "id": "6V3cDL4G4WMF"
      },
      "execution_count": null,
      "outputs": []
    },
    {
      "cell_type": "code",
      "source": [
        "mnist=mnist.load_data()\n",
        "len(mnist)"
      ],
      "metadata": {
        "colab": {
          "base_uri": "https://localhost:8080/"
        },
        "id": "DVVxHCq0pp0o",
        "outputId": "9a42f8c2-2f4c-46a3-d3a7-f0f758704c10"
      },
      "execution_count": null,
      "outputs": [
        {
          "output_type": "execute_result",
          "data": {
            "text/plain": [
              "2"
            ]
          },
          "metadata": {},
          "execution_count": 19
        }
      ]
    },
    {
      "cell_type": "code",
      "source": [
        "mnist[0][0].shape"
      ],
      "metadata": {
        "colab": {
          "base_uri": "https://localhost:8080/"
        },
        "id": "9aX-Lkd5Khiv",
        "outputId": "2897a7b8-755a-40aa-fa95-283331e72449"
      },
      "execution_count": null,
      "outputs": [
        {
          "output_type": "execute_result",
          "data": {
            "text/plain": [
              "(60000, 28, 28)"
            ]
          },
          "metadata": {},
          "execution_count": 20
        }
      ]
    },
    {
      "cell_type": "code",
      "source": [
        "x_train.shape"
      ],
      "metadata": {
        "colab": {
          "base_uri": "https://localhost:8080/"
        },
        "id": "O5YHiCqrLMtQ",
        "outputId": "7e118458-df47-419e-aa30-e2833d840050"
      },
      "execution_count": null,
      "outputs": [
        {
          "output_type": "execute_result",
          "data": {
            "text/plain": [
              "(60000, 28, 28)"
            ]
          },
          "metadata": {},
          "execution_count": 21
        }
      ]
    },
    {
      "cell_type": "code",
      "source": [
        "mnist[0][1].shape"
      ],
      "metadata": {
        "colab": {
          "base_uri": "https://localhost:8080/"
        },
        "id": "3bNslR-TLVAC",
        "outputId": "69aec210-77e5-4ae6-928b-94c21c0ea8c7"
      },
      "execution_count": null,
      "outputs": [
        {
          "output_type": "execute_result",
          "data": {
            "text/plain": [
              "(60000,)"
            ]
          },
          "metadata": {},
          "execution_count": 22
        }
      ]
    },
    {
      "cell_type": "code",
      "source": [
        "mnist[1][0].shape"
      ],
      "metadata": {
        "colab": {
          "base_uri": "https://localhost:8080/"
        },
        "id": "w7rhzUj7LbtK",
        "outputId": "8387be47-8e77-4c9c-b1f5-faa19766cd2c"
      },
      "execution_count": null,
      "outputs": [
        {
          "output_type": "execute_result",
          "data": {
            "text/plain": [
              "(10000, 28, 28)"
            ]
          },
          "metadata": {},
          "execution_count": 23
        }
      ]
    },
    {
      "cell_type": "code",
      "source": [
        "mnist[1][1].shape"
      ],
      "metadata": {
        "colab": {
          "base_uri": "https://localhost:8080/"
        },
        "id": "bRMgp0tyLjDb",
        "outputId": "f781b622-6cbc-4fde-9795-3c4de86f6885"
      },
      "execution_count": null,
      "outputs": [
        {
          "output_type": "execute_result",
          "data": {
            "text/plain": [
              "(10000,)"
            ]
          },
          "metadata": {},
          "execution_count": 24
        }
      ]
    },
    {
      "cell_type": "code",
      "source": [
        "mnist[1][1][0:10]"
      ],
      "metadata": {
        "colab": {
          "base_uri": "https://localhost:8080/"
        },
        "id": "i4lvr-IiLnVd",
        "outputId": "af034629-a097-414b-98fb-6dd750990c39"
      },
      "execution_count": null,
      "outputs": [
        {
          "output_type": "execute_result",
          "data": {
            "text/plain": [
              "array([7, 2, 1, 0, 4, 1, 4, 9, 5, 9], dtype=uint8)"
            ]
          },
          "metadata": {},
          "execution_count": 25
        }
      ]
    },
    {
      "cell_type": "code",
      "source": [
        "mnist[0][0][7].shape"
      ],
      "metadata": {
        "id": "hUh_8UU6sjca",
        "colab": {
          "base_uri": "https://localhost:8080/"
        },
        "outputId": "3564a90d-bd18-4c9a-ed1b-8408d23708eb"
      },
      "execution_count": null,
      "outputs": [
        {
          "output_type": "execute_result",
          "data": {
            "text/plain": [
              "(28, 28)"
            ]
          },
          "metadata": {},
          "execution_count": 26
        }
      ]
    },
    {
      "cell_type": "code",
      "source": [
        "# plt.imshow(x_train[7],cmap=\"gray\")\n",
        "# print(y_train[7])"
      ],
      "metadata": {
        "id": "Vq0Ewpop3T6t"
      },
      "execution_count": null,
      "outputs": []
    },
    {
      "cell_type": "code",
      "source": [
        "# y_test1=y_test\n",
        "#Convert the labels into one-hot codes.\n",
        "# num_classes = 10\n",
        "# y_train = keras.utils.to_categorical(y_train, num_classes)\n",
        "# y_test = keras.utils.to_categorical(y_test, num_classes)\n",
        "# print(y_train[7])"
      ],
      "metadata": {
        "id": "SYay648d3REP"
      },
      "execution_count": null,
      "outputs": []
    },
    {
      "cell_type": "code",
      "metadata": {
        "id": "vt9t37WrhWy8"
      },
      "source": [
        "#Normalize image pixel values.\n",
        "x_train = x_train/255\n",
        "x_test = x_test/255"
      ],
      "execution_count": null,
      "outputs": []
    },
    {
      "cell_type": "code",
      "metadata": {
        "colab": {
          "base_uri": "https://localhost:8080/"
        },
        "id": "ORom-RTJZ-kp",
        "outputId": "3507147d-4cdc-4a33-8f2b-940f0733d03f"
      },
      "source": [
        "model=keras.Sequential() #Create a network sequence.\n",
        "model.add(Input(shape=(28,28,1)))\n",
        "model.add(Conv2D(filters=6,kernel_size = 5,strides = (1,1), padding = 'same',activation = 'relu'))\n",
        "#model.add(Conv2D(filters=6,kernel_size = 5,strides = (1,1), padding = 'same',activation = 'relu',input_shape = (28,28,1)))\n",
        "model.add(AvgPool2D(pool_size=(2,2), strides = (2,2), padding = 'valid'))\n",
        "\n",
        "model.add(Conv2D(filters=6,kernel_size = 5,strides = (1,1), padding = 'same',activation = 'relu'))\n",
        "model.add(AvgPool2D(pool_size=(2,2), strides = (2,2), padding = 'valid'))\n",
        "\n",
        "model.add(Conv2D(filters=16,kernel_size = 3,strides = (1,1),padding = 'same',activation = 'relu'))\n",
        "model.add(AvgPool2D(pool_size=(2,2), strides = (2,2), padding = 'valid'))\n",
        "\n",
        "\n",
        "model.add(Flatten())\n",
        "model.add(Dense(84,activation = 'relu'))\n",
        "model.add(Dense(10,activation = 'softmax'))\n",
        "\n",
        "model.summary()"
      ],
      "execution_count": null,
      "outputs": [
        {
          "output_type": "stream",
          "name": "stdout",
          "text": [
            "Model: \"sequential\"\n",
            "_________________________________________________________________\n",
            " Layer (type)                Output Shape              Param #   \n",
            "=================================================================\n",
            " conv2d (Conv2D)             (None, 28, 28, 6)         156       \n",
            "                                                                 \n",
            " average_pooling2d (AverageP  (None, 14, 14, 6)        0         \n",
            " ooling2D)                                                       \n",
            "                                                                 \n",
            " conv2d_1 (Conv2D)           (None, 14, 14, 6)         906       \n",
            "                                                                 \n",
            " average_pooling2d_1 (Averag  (None, 7, 7, 6)          0         \n",
            " ePooling2D)                                                     \n",
            "                                                                 \n",
            " conv2d_2 (Conv2D)           (None, 7, 7, 16)          880       \n",
            "                                                                 \n",
            " average_pooling2d_2 (Averag  (None, 3, 3, 16)         0         \n",
            " ePooling2D)                                                     \n",
            "                                                                 \n",
            " flatten (Flatten)           (None, 144)               0         \n",
            "                                                                 \n",
            " dense (Dense)               (None, 84)                12180     \n",
            "                                                                 \n",
            " dense_1 (Dense)             (None, 10)                850       \n",
            "                                                                 \n",
            "=================================================================\n",
            "Total params: 14,972\n",
            "Trainable params: 14,972\n",
            "Non-trainable params: 0\n",
            "_________________________________________________________________\n"
          ]
        }
      ]
    },
    {
      "cell_type": "code",
      "metadata": {
        "id": "skMSXinVhSPV",
        "colab": {
          "base_uri": "https://localhost:8080/"
        },
        "outputId": "75638844-5984-415e-ed45-d864460acd9a"
      },
      "source": [
        "# model.compile(optimizer='Adam',loss=\"categorical_crossentropy\",metrics=['accuracy']) \n",
        "model.compile(optimizer='Adam',loss=\"sparse_categorical_crossentropy\",metrics=['accuracy']) \n",
        "results= model.fit(x_train,y_train,epochs=10,batch_size=128,validation_data=(x_test, y_test))\n",
        "\n"
      ],
      "execution_count": null,
      "outputs": [
        {
          "output_type": "stream",
          "name": "stdout",
          "text": [
            "Epoch 1/10\n",
            "469/469 [==============================] - 49s 102ms/step - loss: 0.6019 - accuracy: 0.8221 - val_loss: 0.2185 - val_accuracy: 0.9329\n",
            "Epoch 2/10\n",
            "469/469 [==============================] - 46s 98ms/step - loss: 0.1937 - accuracy: 0.9413 - val_loss: 0.1449 - val_accuracy: 0.9545\n",
            "Epoch 3/10\n",
            "469/469 [==============================] - 47s 101ms/step - loss: 0.1422 - accuracy: 0.9574 - val_loss: 0.1204 - val_accuracy: 0.9638\n",
            "Epoch 4/10\n",
            "469/469 [==============================] - 46s 98ms/step - loss: 0.1171 - accuracy: 0.9645 - val_loss: 0.1003 - val_accuracy: 0.9680\n",
            "Epoch 5/10\n",
            "469/469 [==============================] - 47s 100ms/step - loss: 0.1033 - accuracy: 0.9686 - val_loss: 0.0917 - val_accuracy: 0.9707\n",
            "Epoch 6/10\n",
            "469/469 [==============================] - 47s 101ms/step - loss: 0.0928 - accuracy: 0.9718 - val_loss: 0.0802 - val_accuracy: 0.9760\n",
            "Epoch 7/10\n",
            "469/469 [==============================] - 46s 98ms/step - loss: 0.0837 - accuracy: 0.9737 - val_loss: 0.0760 - val_accuracy: 0.9747\n",
            "Epoch 8/10\n",
            "469/469 [==============================] - 47s 101ms/step - loss: 0.0766 - accuracy: 0.9758 - val_loss: 0.0735 - val_accuracy: 0.9770\n",
            "Epoch 9/10\n",
            "469/469 [==============================] - 46s 98ms/step - loss: 0.0708 - accuracy: 0.9778 - val_loss: 0.0679 - val_accuracy: 0.9795\n",
            "Epoch 10/10\n",
            "469/469 [==============================] - 47s 101ms/step - loss: 0.0644 - accuracy: 0.9798 - val_loss: 0.0515 - val_accuracy: 0.9835\n"
          ]
        }
      ]
    },
    {
      "cell_type": "code",
      "metadata": {
        "id": "eQsuIhTzk3fE",
        "colab": {
          "base_uri": "https://localhost:8080/"
        },
        "outputId": "8dc3e601-4cff-49b3-be45-035413f8935d"
      },
      "source": [
        "model.evaluate(x_test, y_test)\n"
      ],
      "execution_count": null,
      "outputs": [
        {
          "output_type": "stream",
          "name": "stdout",
          "text": [
            "313/313 [==============================] - 3s 11ms/step - loss: 0.0515 - accuracy: 0.9835\n"
          ]
        },
        {
          "output_type": "execute_result",
          "data": {
            "text/plain": [
              "[0.05150480195879936, 0.9835000038146973]"
            ]
          },
          "metadata": {},
          "execution_count": 32
        }
      ]
    },
    {
      "cell_type": "code",
      "source": [
        "y_pred=model.predict(x_test)\n",
        "y_pred.shape"
      ],
      "metadata": {
        "id": "TUeeh76-boj7",
        "colab": {
          "base_uri": "https://localhost:8080/"
        },
        "outputId": "6e089a0c-e016-40dc-db10-e25aaa94c9bb"
      },
      "execution_count": null,
      "outputs": [
        {
          "output_type": "stream",
          "name": "stdout",
          "text": [
            "313/313 [==============================] - 3s 10ms/step\n"
          ]
        },
        {
          "output_type": "execute_result",
          "data": {
            "text/plain": [
              "(10000, 10)"
            ]
          },
          "metadata": {},
          "execution_count": 33
        }
      ]
    },
    {
      "cell_type": "code",
      "source": [
        "import numpy as np\n",
        "from numpy import argmax\n",
        "y_pred1=argmax(y_pred,axis=1)"
      ],
      "metadata": {
        "id": "RiaaNEJbhUFI"
      },
      "execution_count": null,
      "outputs": []
    },
    {
      "cell_type": "code",
      "source": [
        "plt.imshow(x_test[503],cmap=\"gray\")\n",
        "print(y_pred[503])\n",
        "print(y_pred1[503])"
      ],
      "metadata": {
        "colab": {
          "base_uri": "https://localhost:8080/",
          "height": 320
        },
        "id": "MDYonRGogviR",
        "outputId": "9730819d-b0b2-45b1-f688-18533fc76f53"
      },
      "execution_count": null,
      "outputs": [
        {
          "output_type": "stream",
          "name": "stdout",
          "text": [
            "[1.3262965e-15 5.6428685e-11 9.9999994e-01 3.4674081e-09 3.1617696e-20\n",
            " 6.1909527e-16 8.0624267e-24 4.7919207e-10 5.9149244e-12 3.9712902e-19]\n",
            "2\n"
          ]
        },
        {
          "output_type": "display_data",
          "data": {
            "text/plain": [
              "<Figure size 432x288 with 1 Axes>"
            ],
            "image/png": "[encoded data removed]"
          },
          "metadata": {
            "needs_background": "light"
          }
        }
      ]
    },
    {
      "cell_type": "code",
      "source": [
        "from sklearn.metrics import accuracy_score,confusion_matrix\n",
        "print(confusion_matrix(y_pred1,y_test))\n",
        "print(accuracy_score(y_pred1,y_test))\n",
        "\n",
        "# print(confusion_matrix(y_pred1,y_test1))\n",
        "# print(accuracy_score(y_pred1,y_test1))\n"
      ],
      "metadata": {
        "colab": {
          "base_uri": "https://localhost:8080/"
        },
        "id": "7qBHSKgNihD7",
        "outputId": "398dcd8c-71bb-4aed-de11-3783f2b7ff91"
      },
      "execution_count": null,
      "outputs": [
        {
          "output_type": "stream",
          "name": "stdout",
          "text": [
            "[[ 974    0    1    0    0    1    3    1    3    1]\n",
            " [   0 1128    0    0    0    1    4    2    0    5]\n",
            " [   0    2 1026    3    2    0    0   10    4    0]\n",
            " [   0    1    0  995    0   10    1    3    7    2]\n",
            " [   0    0    0    0  964    0    1    1    0    7]\n",
            " [   0    0    0    2    0  872    3    0    4    6]\n",
            " [   0    1    0    0    4    1  944    0    2    1]\n",
            " [   1    0    2    5    3    1    0 1003    3    3]\n",
            " [   4    2    3    3    1    3    2    2  948    3]\n",
            " [   1    1    0    2    8    3    0    6    3  981]]\n",
            "0.9835\n"
          ]
        }
      ]
    },
    {
      "cell_type": "code",
      "metadata": {
        "id": "tK3DWgfVS_Un",
        "colab": {
          "base_uri": "https://localhost:8080/",
          "height": 297
        },
        "outputId": "ba75d236-595a-40f6-83a9-565b5b6c4dcc"
      },
      "source": [
        "plt.plot(results.history['accuracy'], label='accuracy')\n",
        "plt.plot(results.history['val_accuracy'], label = 'val_accuracy')\n",
        "plt.xlabel('Epoch')\n",
        "plt.ylabel('Accuracy')\n",
        "#plt.ylim([0.5, 1])\n",
        "plt.legend(loc='lower right')"
      ],
      "execution_count": null,
      "outputs": [
        {
          "output_type": "execute_result",
          "data": {
            "text/plain": [
              "<matplotlib.legend.Legend at 0x7f1530233160>"
            ]
          },
          "metadata": {},
          "execution_count": 37
        },
        {
          "output_type": "display_data",
          "data": {
            "text/plain": [
              "<Figure size 432x288 with 1 Axes>"
            ],
            "image/png": "[encoded data removed]"
          },
          "metadata": {
            "needs_background": "light"
          }
        }
      ]
    }
  ]
}