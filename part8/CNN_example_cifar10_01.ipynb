{
  "nbformat": 4,
  "nbformat_minor": 0,
  "metadata": {
    "colab": {
      "provenance": []
    },
    "kernelspec": {
      "name": "python3",
      "display_name": "Python 3"
    },
    "language_info": {
      "name": "python"
    },
    "accelerator": "GPU",
    "gpuClass": "standard"
  },
  "cells": [
    {
      "cell_type": "code",
      "metadata": {
        "id": "HD2Rk-ZDSMVx"
      },
      "source": [
        "from tensorflow import keras\n",
        "from keras.layers import Input, Dense, Dropout,Conv2D, AvgPool2D, Flatten,MaxPool2D\n",
        "from tensorflow.keras.datasets import mnist,cifar10\n",
        "from matplotlib import pyplot as plt\n"
      ],
      "execution_count": 1,
      "outputs": []
    },
    {
      "cell_type": "code",
      "source": [
        "(x_train, y_train), (x_test, y_test) = cifar10.load_data()"
      ],
      "metadata": {
        "id": "6V3cDL4G4WMF"
      },
      "execution_count": 2,
      "outputs": []
    },
    {
      "cell_type": "code",
      "source": [
        "cifar=cifar10.load_data()\n",
        "len(cifar)"
      ],
      "metadata": {
        "colab": {
          "base_uri": "https://localhost:8080/"
        },
        "id": "DVVxHCq0pp0o",
        "outputId": "ad2b7279-72bc-4ecb-9698-d14d6b0395b0"
      },
      "execution_count": 3,
      "outputs": [
        {
          "output_type": "execute_result",
          "data": {
            "text/plain": [
              "2"
            ]
          },
          "metadata": {},
          "execution_count": 3
        }
      ]
    },
    {
      "cell_type": "code",
      "source": [
        "cifar[0][0].shape"
      ],
      "metadata": {
        "colab": {
          "base_uri": "https://localhost:8080/"
        },
        "id": "9aX-Lkd5Khiv",
        "outputId": "c0fea0db-0954-416a-80c6-f89db0b152a5"
      },
      "execution_count": 4,
      "outputs": [
        {
          "output_type": "execute_result",
          "data": {
            "text/plain": [
              "(50000, 32, 32, 3)"
            ]
          },
          "metadata": {},
          "execution_count": 4
        }
      ]
    },
    {
      "cell_type": "code",
      "source": [
        "x_train.shape"
      ],
      "metadata": {
        "colab": {
          "base_uri": "https://localhost:8080/"
        },
        "id": "O5YHiCqrLMtQ",
        "outputId": "7fa548eb-a7d1-42f9-d121-e128e9841231"
      },
      "execution_count": 5,
      "outputs": [
        {
          "output_type": "execute_result",
          "data": {
            "text/plain": [
              "(50000, 32, 32, 3)"
            ]
          },
          "metadata": {},
          "execution_count": 5
        }
      ]
    },
    {
      "cell_type": "code",
      "source": [
        "cifar[0][1].shape"
      ],
      "metadata": {
        "colab": {
          "base_uri": "https://localhost:8080/"
        },
        "id": "3bNslR-TLVAC",
        "outputId": "327c0068-6f81-4b4b-d912-fa4448976bc1"
      },
      "execution_count": 6,
      "outputs": [
        {
          "output_type": "execute_result",
          "data": {
            "text/plain": [
              "(50000, 1)"
            ]
          },
          "metadata": {},
          "execution_count": 6
        }
      ]
    },
    {
      "cell_type": "code",
      "source": [
        "cifar[1][0].shape"
      ],
      "metadata": {
        "colab": {
          "base_uri": "https://localhost:8080/"
        },
        "id": "w7rhzUj7LbtK",
        "outputId": "996868b0-ecd2-4312-99d8-3a49dfc08cef"
      },
      "execution_count": 7,
      "outputs": [
        {
          "output_type": "execute_result",
          "data": {
            "text/plain": [
              "(10000, 32, 32, 3)"
            ]
          },
          "metadata": {},
          "execution_count": 7
        }
      ]
    },
    {
      "cell_type": "code",
      "source": [
        "cifar[1][1].shape"
      ],
      "metadata": {
        "colab": {
          "base_uri": "https://localhost:8080/"
        },
        "id": "bRMgp0tyLjDb",
        "outputId": "2ea85bdc-1524-418f-856f-ff4333ef05e2"
      },
      "execution_count": 8,
      "outputs": [
        {
          "output_type": "execute_result",
          "data": {
            "text/plain": [
              "(10000, 1)"
            ]
          },
          "metadata": {},
          "execution_count": 8
        }
      ]
    },
    {
      "cell_type": "code",
      "source": [
        "cifar[1][1][0:10]"
      ],
      "metadata": {
        "colab": {
          "base_uri": "https://localhost:8080/"
        },
        "id": "i4lvr-IiLnVd",
        "outputId": "4ea459be-5867-42e0-ed31-54238897b332"
      },
      "execution_count": 9,
      "outputs": [
        {
          "output_type": "execute_result",
          "data": {
            "text/plain": [
              "array([[3],\n",
              "       [8],\n",
              "       [8],\n",
              "       [0],\n",
              "       [6],\n",
              "       [6],\n",
              "       [1],\n",
              "       [6],\n",
              "       [3],\n",
              "       [1]], dtype=uint8)"
            ]
          },
          "metadata": {},
          "execution_count": 9
        }
      ]
    },
    {
      "cell_type": "code",
      "source": [
        "cifar[0][0][7].shape"
      ],
      "metadata": {
        "id": "hUh_8UU6sjca",
        "colab": {
          "base_uri": "https://localhost:8080/"
        },
        "outputId": "012ed207-2f51-426f-c434-7a7986fe1518"
      },
      "execution_count": 10,
      "outputs": [
        {
          "output_type": "execute_result",
          "data": {
            "text/plain": [
              "(32, 32, 3)"
            ]
          },
          "metadata": {},
          "execution_count": 10
        }
      ]
    },
    {
      "cell_type": "code",
      "source": [
        "# plt.imshow(x_train[7],cmap=\"gray\")\n",
        "# print(y_train[7])"
      ],
      "metadata": {
        "id": "Vq0Ewpop3T6t"
      },
      "execution_count": 11,
      "outputs": []
    },
    {
      "cell_type": "code",
      "source": [
        "# y_test1=y_test\n",
        "#Convert the labels into one-hot codes.\n",
        "# num_classes = 10\n",
        "# y_train = keras.utils.to_categorical(y_train, num_classes)\n",
        "# y_test = keras.utils.to_categorical(y_test, num_classes)\n",
        "# print(y_train[7])"
      ],
      "metadata": {
        "id": "SYay648d3REP"
      },
      "execution_count": 12,
      "outputs": []
    },
    {
      "cell_type": "code",
      "metadata": {
        "id": "vt9t37WrhWy8"
      },
      "source": [
        "#Normalize image pixel values.\n",
        "x_train = x_train/255\n",
        "x_test = x_test/255"
      ],
      "execution_count": 13,
      "outputs": []
    },
    {
      "cell_type": "code",
      "metadata": {
        "colab": {
          "base_uri": "https://localhost:8080/"
        },
        "id": "ORom-RTJZ-kp",
        "outputId": "ead10a76-c5c5-4c9e-d767-be0dba089c30"
      },
      "source": [
        "model=keras.Sequential() #Create a network sequence.\n",
        "model.add(Input(shape=(32,32,3)))\n",
        "model.add(Conv2D(filters=20,kernel_size = 5,strides = (1,1), padding = 'valid',activation = 'relu'))\n",
        "#model.add(Conv2D(filters=6,kernel_size = 5,strides = (1,1), padding = 'same',activation = 'relu',input_shape = (28,28,1)))\n",
        "model.add(MaxPool2D(pool_size=(2,2), strides = (2,2), padding = 'valid'))\n",
        "\n",
        "model.add(Conv2D(filters=30,kernel_size = 5,strides = (1,1), padding = 'valid',activation = 'relu'))\n",
        "model.add(MaxPool2D(pool_size=(2,2), strides = (2,2), padding = 'valid'))\n",
        "\n",
        "# model.add(Conv2D(filters=16,kernel_size = 3,strides = (1,1),padding = 'same',activation = 'relu'))\n",
        "# model.add(AvgPool2D(pool_size=(2,2), strides = (2,2), padding = 'valid'))\n",
        "\n",
        "\n",
        "model.add(Flatten())\n",
        "model.add(Dense(84,activation = 'relu'))\n",
        "model.add(Dense(10,activation = 'softmax'))\n",
        "\n",
        "model.summary()"
      ],
      "execution_count": 14,
      "outputs": [
        {
          "output_type": "stream",
          "name": "stdout",
          "text": [
            "Model: \"sequential\"\n",
            "_________________________________________________________________\n",
            " Layer (type)                Output Shape              Param #   \n",
            "=================================================================\n",
            " conv2d (Conv2D)             (None, 28, 28, 20)        1520      \n",
            "                                                                 \n",
            " max_pooling2d (MaxPooling2D  (None, 14, 14, 20)       0         \n",
            " )                                                               \n",
            "                                                                 \n",
            " conv2d_1 (Conv2D)           (None, 10, 10, 30)        15030     \n",
            "                                                                 \n",
            " max_pooling2d_1 (MaxPooling  (None, 5, 5, 30)         0         \n",
            " 2D)                                                             \n",
            "                                                                 \n",
            " flatten (Flatten)           (None, 750)               0         \n",
            "                                                                 \n",
            " dense (Dense)               (None, 84)                63084     \n",
            "                                                                 \n",
            " dense_1 (Dense)             (None, 10)                850       \n",
            "                                                                 \n",
            "=================================================================\n",
            "Total params: 80,484\n",
            "Trainable params: 80,484\n",
            "Non-trainable params: 0\n",
            "_________________________________________________________________\n"
          ]
        }
      ]
    },
    {
      "cell_type": "code",
      "metadata": {
        "id": "skMSXinVhSPV",
        "colab": {
          "base_uri": "https://localhost:8080/"
        },
        "outputId": "48bebe4c-5c78-494f-89a6-eda29508958b"
      },
      "source": [
        "# model.compile(optimizer='Adam',loss=\"categorical_crossentropy\",metrics=['accuracy']) \n",
        "model.compile(optimizer='Adam',loss=\"sparse_categorical_crossentropy\",metrics=['accuracy']) \n",
        "results= model.fit(x_train,y_train,epochs=25,batch_size=128,validation_data=(x_test, y_test))\n",
        "\n"
      ],
      "execution_count": 15,
      "outputs": [
        {
          "output_type": "stream",
          "name": "stdout",
          "text": [
            "Epoch 1/25\n",
            "391/391 [==============================] - 14s 10ms/step - loss: 1.6481 - accuracy: 0.4023 - val_loss: 1.4229 - val_accuracy: 0.4883\n",
            "Epoch 2/25\n",
            "391/391 [==============================] - 3s 8ms/step - loss: 1.3275 - accuracy: 0.5284 - val_loss: 1.3160 - val_accuracy: 0.5254\n",
            "Epoch 3/25\n",
            "391/391 [==============================] - 3s 7ms/step - loss: 1.2008 - accuracy: 0.5780 - val_loss: 1.1642 - val_accuracy: 0.5840\n",
            "Epoch 4/25\n",
            "391/391 [==============================] - 3s 6ms/step - loss: 1.1147 - accuracy: 0.6089 - val_loss: 1.1140 - val_accuracy: 0.6048\n",
            "Epoch 5/25\n",
            "391/391 [==============================] - 2s 6ms/step - loss: 1.0511 - accuracy: 0.6320 - val_loss: 1.1207 - val_accuracy: 0.6135\n",
            "Epoch 6/25\n",
            "391/391 [==============================] - 3s 7ms/step - loss: 0.9914 - accuracy: 0.6539 - val_loss: 1.0309 - val_accuracy: 0.6383\n",
            "Epoch 7/25\n",
            "391/391 [==============================] - 3s 8ms/step - loss: 0.9635 - accuracy: 0.6640 - val_loss: 0.9934 - val_accuracy: 0.6577\n",
            "Epoch 8/25\n",
            "391/391 [==============================] - 3s 6ms/step - loss: 0.9228 - accuracy: 0.6783 - val_loss: 0.9842 - val_accuracy: 0.6595\n",
            "Epoch 9/25\n",
            "391/391 [==============================] - 3s 6ms/step - loss: 0.8798 - accuracy: 0.6922 - val_loss: 0.9988 - val_accuracy: 0.6548\n",
            "Epoch 10/25\n",
            "391/391 [==============================] - 3s 7ms/step - loss: 0.8580 - accuracy: 0.7020 - val_loss: 0.9879 - val_accuracy: 0.6574\n",
            "Epoch 11/25\n",
            "391/391 [==============================] - 3s 8ms/step - loss: 0.8325 - accuracy: 0.7120 - val_loss: 0.9567 - val_accuracy: 0.6686\n",
            "Epoch 12/25\n",
            "391/391 [==============================] - 3s 7ms/step - loss: 0.8002 - accuracy: 0.7212 - val_loss: 0.9453 - val_accuracy: 0.6790\n",
            "Epoch 13/25\n",
            "391/391 [==============================] - 3s 7ms/step - loss: 0.7833 - accuracy: 0.7268 - val_loss: 0.9505 - val_accuracy: 0.6773\n",
            "Epoch 14/25\n",
            "391/391 [==============================] - 3s 7ms/step - loss: 0.7530 - accuracy: 0.7381 - val_loss: 0.9977 - val_accuracy: 0.6571\n",
            "Epoch 15/25\n",
            "391/391 [==============================] - 2s 6ms/step - loss: 0.7333 - accuracy: 0.7445 - val_loss: 0.9388 - val_accuracy: 0.6813\n",
            "Epoch 16/25\n",
            "391/391 [==============================] - 3s 8ms/step - loss: 0.7148 - accuracy: 0.7506 - val_loss: 0.9250 - val_accuracy: 0.6861\n",
            "Epoch 17/25\n",
            "391/391 [==============================] - 3s 7ms/step - loss: 0.7004 - accuracy: 0.7559 - val_loss: 1.0003 - val_accuracy: 0.6660\n",
            "Epoch 18/25\n",
            "391/391 [==============================] - 2s 6ms/step - loss: 0.6809 - accuracy: 0.7640 - val_loss: 0.9645 - val_accuracy: 0.6807\n",
            "Epoch 19/25\n",
            "391/391 [==============================] - 2s 6ms/step - loss: 0.6646 - accuracy: 0.7682 - val_loss: 1.0137 - val_accuracy: 0.6633\n",
            "Epoch 20/25\n",
            "391/391 [==============================] - 3s 8ms/step - loss: 0.6453 - accuracy: 0.7732 - val_loss: 0.9566 - val_accuracy: 0.6901\n",
            "Epoch 21/25\n",
            "391/391 [==============================] - 3s 7ms/step - loss: 0.6241 - accuracy: 0.7823 - val_loss: 0.9685 - val_accuracy: 0.6836\n",
            "Epoch 22/25\n",
            "391/391 [==============================] - 2s 6ms/step - loss: 0.6138 - accuracy: 0.7841 - val_loss: 0.9947 - val_accuracy: 0.6764\n",
            "Epoch 23/25\n",
            "391/391 [==============================] - 2s 6ms/step - loss: 0.6024 - accuracy: 0.7890 - val_loss: 0.9682 - val_accuracy: 0.6803\n",
            "Epoch 24/25\n",
            "391/391 [==============================] - 3s 6ms/step - loss: 0.5836 - accuracy: 0.7946 - val_loss: 0.9823 - val_accuracy: 0.6891\n",
            "Epoch 25/25\n",
            "391/391 [==============================] - 3s 9ms/step - loss: 0.5664 - accuracy: 0.8013 - val_loss: 1.0132 - val_accuracy: 0.6819\n"
          ]
        }
      ]
    },
    {
      "cell_type": "code",
      "metadata": {
        "id": "eQsuIhTzk3fE",
        "colab": {
          "base_uri": "https://localhost:8080/"
        },
        "outputId": "737ea346-bd59-4d42-d406-3bd73cb4cd3c"
      },
      "source": [
        "model.evaluate(x_test, y_test)\n"
      ],
      "execution_count": 16,
      "outputs": [
        {
          "output_type": "stream",
          "name": "stdout",
          "text": [
            "313/313 [==============================] - 1s 3ms/step - loss: 1.0132 - accuracy: 0.6819\n"
          ]
        },
        {
          "output_type": "execute_result",
          "data": {
            "text/plain": [
              "[1.0132068395614624, 0.6819000244140625]"
            ]
          },
          "metadata": {},
          "execution_count": 16
        }
      ]
    },
    {
      "cell_type": "code",
      "source": [
        "y_pred=model.predict(x_test)\n",
        "y_pred.shape"
      ],
      "metadata": {
        "id": "TUeeh76-boj7",
        "colab": {
          "base_uri": "https://localhost:8080/"
        },
        "outputId": "a86c3fb2-a7f5-4231-9dba-38d99b70a68a"
      },
      "execution_count": 17,
      "outputs": [
        {
          "output_type": "stream",
          "name": "stdout",
          "text": [
            "313/313 [==============================] - 1s 2ms/step\n"
          ]
        },
        {
          "output_type": "execute_result",
          "data": {
            "text/plain": [
              "(10000, 10)"
            ]
          },
          "metadata": {},
          "execution_count": 17
        }
      ]
    },
    {
      "cell_type": "code",
      "source": [
        "import numpy as np\n",
        "from numpy import argmax\n",
        "y_pred1=argmax(y_pred,axis=1)"
      ],
      "metadata": {
        "id": "RiaaNEJbhUFI"
      },
      "execution_count": 18,
      "outputs": []
    },
    {
      "cell_type": "code",
      "source": [
        "plt.imshow(x_test[503],cmap=\"gray\")\n",
        "print(y_pred[503])\n",
        "print(y_pred1[503])"
      ],
      "metadata": {
        "colab": {
          "base_uri": "https://localhost:8080/",
          "height": 321
        },
        "id": "MDYonRGogviR",
        "outputId": "ca927fc8-8c10-4513-f90f-dd74e40462d1"
      },
      "execution_count": 19,
      "outputs": [
        {
          "output_type": "stream",
          "name": "stdout",
          "text": [
            "[2.0875882e-04 7.5490279e-05 2.0936440e-01 4.9444113e-02 6.7050761e-01\n",
            " 2.9377002e-02 2.2003707e-02 1.8912317e-02 2.8079903e-05 7.8530720e-05]\n",
            "4\n"
          ]
        },
        {
          "output_type": "display_data",
          "data": {
            "text/plain": [
              "<Figure size 432x288 with 1 Axes>"
            ],
            "image/png": "[encoded data removed]"
          },
          "metadata": {
            "needs_background": "light"
          }
        }
      ]
    },
    {
      "cell_type": "code",
      "source": [
        "from sklearn.metrics import accuracy_score,confusion_matrix\n",
        "print(confusion_matrix(y_pred1,y_test))\n",
        "print(accuracy_score(y_pred1,y_test))\n",
        "\n",
        "# print(confusion_matrix(y_pred1,y_test1))\n",
        "# print(accuracy_score(y_pred1,y_test1))\n"
      ],
      "metadata": {
        "colab": {
          "base_uri": "https://localhost:8080/"
        },
        "id": "7qBHSKgNihD7",
        "outputId": "2b0b194b-6e29-4f61-81ae-c0c037496bd8"
      },
      "execution_count": 20,
      "outputs": [
        {
          "output_type": "stream",
          "name": "stdout",
          "text": [
            "[[726  20  61  27  23  14   6  23  87  29]\n",
            " [ 24 790   9  17   4   4   9   6  52  77]\n",
            " [ 75  11 585  91  71  90  54  47  25   7]\n",
            " [ 17  13  45 468  48 181  65  30  14  14]\n",
            " [ 39   8 139 102 712  73  95  66  12  11]\n",
            " [  3   2  49 147  25 506  19  47   7   3]\n",
            " [ 11  13  49  54  30  26 713   5   8   2]\n",
            " [ 14   3  39  45  68  69  10 754   4  13]\n",
            " [ 47  13   6  10  12  11   5   2 737  16]\n",
            " [ 44 127  18  39   7  26  24  20  54 828]]\n",
            "0.6819\n"
          ]
        }
      ]
    },
    {
      "cell_type": "code",
      "metadata": {
        "id": "tK3DWgfVS_Un",
        "colab": {
          "base_uri": "https://localhost:8080/",
          "height": 297
        },
        "outputId": "2a147421-b946-47e9-a26f-d9ccaf5ee27c"
      },
      "source": [
        "plt.plot(results.history['accuracy'], label='accuracy')\n",
        "plt.plot(results.history['val_accuracy'], label = 'val_accuracy')\n",
        "plt.xlabel('Epoch')\n",
        "plt.ylabel('Accuracy')\n",
        "#plt.ylim([0.5, 1])\n",
        "plt.legend(loc='lower right')"
      ],
      "execution_count": 21,
      "outputs": [
        {
          "output_type": "execute_result",
          "data": {
            "text/plain": [
              "<matplotlib.legend.Legend at 0x7f3e68147910>"
            ]
          },
          "metadata": {},
          "execution_count": 21
        },
        {
          "output_type": "display_data",
          "data": {
            "text/plain": [
              "<Figure size 432x288 with 1 Axes>"
            ],
            "image/png": "[encoded data removed]"
          },
          "metadata": {
            "needs_background": "light"
          }
        }
      ]
    }
  ]
}