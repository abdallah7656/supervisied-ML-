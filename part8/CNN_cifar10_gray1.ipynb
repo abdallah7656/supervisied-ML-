{
  "nbformat": 4,
  "nbformat_minor": 0,
  "metadata": {
    "colab": {
      "provenance": []
    },
    "kernelspec": {
      "name": "python3",
      "display_name": "Python 3"
    },
    "language_info": {
      "name": "python"
    },
    "accelerator": "GPU"
  },
  "cells": [
    {
      "cell_type": "code",
      "metadata": {
        "id": "HD2Rk-ZDSMVx"
      },
      "source": [
        "from tensorflow import keras\n",
        "from keras.layers import Input, Dense, Flatten\n",
        "from tensorflow.keras import  datasets\n",
        "from matplotlib import pyplot as plt\n",
        "import numpy as np"
      ],
      "execution_count": 1,
      "outputs": []
    },
    {
      "cell_type": "code",
      "source": [
        "(x_train, y_train), (x_test, y_test) = datasets.cifar10.load_data()"
      ],
      "metadata": {
        "id": "6V3cDL4G4WMF"
      },
      "execution_count": 2,
      "outputs": []
    },
    {
      "cell_type": "code",
      "source": [
        "x_train.shape"
      ],
      "metadata": {
        "colab": {
          "base_uri": "https://localhost:8080/"
        },
        "id": "55_pRpY4yeVd",
        "outputId": "8052619c-9275-4a33-90b0-26f8abd3b9da"
      },
      "execution_count": 3,
      "outputs": [
        {
          "output_type": "execute_result",
          "data": {
            "text/plain": [
              "(50000, 32, 32, 3)"
            ]
          },
          "metadata": {},
          "execution_count": 3
        }
      ]
    },
    {
      "cell_type": "code",
      "source": [
        "x_test.shape"
      ],
      "metadata": {
        "colab": {
          "base_uri": "https://localhost:8080/"
        },
        "id": "lcHxNPByyt2B",
        "outputId": "d6fede4d-fec7-4144-a4bb-51f5d52b1ba4"
      },
      "execution_count": 4,
      "outputs": [
        {
          "output_type": "execute_result",
          "data": {
            "text/plain": [
              "(10000, 32, 32, 3)"
            ]
          },
          "metadata": {},
          "execution_count": 4
        }
      ]
    },
    {
      "cell_type": "code",
      "source": [
        "# from tensorflow.keras.utils import load_img, img_to_array, array_to_img\n",
        "# def rgb_to_gray(data_set): \n",
        "#   data=[]\n",
        "#   for i in data_set:\n",
        "#    j=array_to_img(i)\n",
        "#    j=j.convert('L')\n",
        "#    j=img_to_array(j)\n",
        "#    data.append(j)\n",
        "#   return data\n",
        "# x_train=rgb_to_gray(x_train)\n",
        "# x_test=rgb_to_gray(x_test)\n",
        "# x_train,x_test=np.array(x_train),np.array(x_test)"
      ],
      "metadata": {
        "id": "znGWk-JO3TF2"
      },
      "execution_count": 5,
      "outputs": []
    },
    {
      "cell_type": "code",
      "metadata": {
        "id": "vt9t37WrhWy8"
      },
      "source": [
        "#Normalize image pixel values.\n",
        "x_train = x_train/255\n",
        "x_test = x_test/255"
      ],
      "execution_count": 6,
      "outputs": []
    },
    {
      "cell_type": "code",
      "metadata": {
        "colab": {
          "base_uri": "https://localhost:8080/"
        },
        "id": "ORom-RTJZ-kp",
        "outputId": "c954040a-a985-499a-9774-72f7e0734993"
      },
      "source": [
        "model=keras.Sequential() #Create a network sequence.\n",
        "model.add(Input(shape=(32,32,3)))\n",
        "model.add(Flatten())\n",
        "model.add(Dense(256,activation = 'relu'))\n",
        "model.add(Dense(128,activation = 'relu'))\n",
        "model.add(Dense(10,activation = 'softmax'))\n",
        "\n",
        "model.summary()"
      ],
      "execution_count": 7,
      "outputs": [
        {
          "output_type": "stream",
          "name": "stdout",
          "text": [
            "Model: \"sequential\"\n",
            "_________________________________________________________________\n",
            " Layer (type)                Output Shape              Param #   \n",
            "=================================================================\n",
            " flatten (Flatten)           (None, 3072)              0         \n",
            "                                                                 \n",
            " dense (Dense)               (None, 256)               786688    \n",
            "                                                                 \n",
            " dense_1 (Dense)             (None, 128)               32896     \n",
            "                                                                 \n",
            " dense_2 (Dense)             (None, 10)                1290      \n",
            "                                                                 \n",
            "=================================================================\n",
            "Total params: 820,874\n",
            "Trainable params: 820,874\n",
            "Non-trainable params: 0\n",
            "_________________________________________________________________\n"
          ]
        }
      ]
    },
    {
      "cell_type": "code",
      "metadata": {
        "id": "skMSXinVhSPV",
        "colab": {
          "base_uri": "https://localhost:8080/"
        },
        "outputId": "b676d33c-1e1c-451e-e049-5f2457bd79f0"
      },
      "source": [
        "batch_size=128\n",
        "model.compile(optimizer='Adam',loss=\"sparse_categorical_crossentropy\",metrics=['accuracy']) \n",
        "results=model.fit(x_train,y_train, epochs=20,validation_data=(x_test, y_test),\n",
        "                   callbacks=keras.callbacks.EarlyStopping(patience=7,restore_best_weights=True)\n",
        "                  )\n",
        "\n"
      ],
      "execution_count": 8,
      "outputs": [
        {
          "output_type": "stream",
          "name": "stdout",
          "text": [
            "Epoch 1/20\n",
            "1563/1563 [==============================] - 16s 8ms/step - loss: 1.8517 - accuracy: 0.3314 - val_loss: 1.7184 - val_accuracy: 0.3901\n",
            "Epoch 2/20\n",
            "1563/1563 [==============================] - 7s 4ms/step - loss: 1.6695 - accuracy: 0.4014 - val_loss: 1.5852 - val_accuracy: 0.4374\n",
            "Epoch 3/20\n",
            "1563/1563 [==============================] - 6s 4ms/step - loss: 1.5921 - accuracy: 0.4315 - val_loss: 1.5751 - val_accuracy: 0.4350\n",
            "Epoch 4/20\n",
            "1563/1563 [==============================] - 7s 4ms/step - loss: 1.5451 - accuracy: 0.4478 - val_loss: 1.5475 - val_accuracy: 0.4406\n",
            "Epoch 5/20\n",
            "1563/1563 [==============================] - 6s 4ms/step - loss: 1.5101 - accuracy: 0.4602 - val_loss: 1.5828 - val_accuracy: 0.4401\n",
            "Epoch 6/20\n",
            "1563/1563 [==============================] - 6s 4ms/step - loss: 1.4828 - accuracy: 0.4687 - val_loss: 1.4961 - val_accuracy: 0.4659\n",
            "Epoch 7/20\n",
            "1563/1563 [==============================] - 6s 4ms/step - loss: 1.4623 - accuracy: 0.4763 - val_loss: 1.5056 - val_accuracy: 0.4620\n",
            "Epoch 8/20\n",
            "1563/1563 [==============================] - 6s 4ms/step - loss: 1.4472 - accuracy: 0.4827 - val_loss: 1.5122 - val_accuracy: 0.4648\n",
            "Epoch 9/20\n",
            "1563/1563 [==============================] - 7s 4ms/step - loss: 1.4263 - accuracy: 0.4887 - val_loss: 1.4750 - val_accuracy: 0.4756\n",
            "Epoch 10/20\n",
            "1563/1563 [==============================] - 7s 4ms/step - loss: 1.4116 - accuracy: 0.4951 - val_loss: 1.4451 - val_accuracy: 0.4819\n",
            "Epoch 11/20\n",
            "1563/1563 [==============================] - 7s 4ms/step - loss: 1.3905 - accuracy: 0.5023 - val_loss: 1.4791 - val_accuracy: 0.4724\n",
            "Epoch 12/20\n",
            "1563/1563 [==============================] - 6s 4ms/step - loss: 1.3867 - accuracy: 0.5040 - val_loss: 1.4570 - val_accuracy: 0.4859\n",
            "Epoch 13/20\n",
            "1563/1563 [==============================] - 7s 4ms/step - loss: 1.3740 - accuracy: 0.5083 - val_loss: 1.4542 - val_accuracy: 0.4830\n",
            "Epoch 14/20\n",
            "1563/1563 [==============================] - 6s 4ms/step - loss: 1.3622 - accuracy: 0.5121 - val_loss: 1.4764 - val_accuracy: 0.4727\n",
            "Epoch 15/20\n",
            "1563/1563 [==============================] - 7s 5ms/step - loss: 1.3532 - accuracy: 0.5142 - val_loss: 1.4778 - val_accuracy: 0.4789\n",
            "Epoch 16/20\n",
            "1563/1563 [==============================] - 6s 4ms/step - loss: 1.3437 - accuracy: 0.5165 - val_loss: 1.4644 - val_accuracy: 0.4836\n",
            "Epoch 17/20\n",
            "1563/1563 [==============================] - 7s 4ms/step - loss: 1.3339 - accuracy: 0.5216 - val_loss: 1.5394 - val_accuracy: 0.4631\n"
          ]
        }
      ]
    },
    {
      "cell_type": "code",
      "metadata": {
        "id": "eQsuIhTzk3fE",
        "colab": {
          "base_uri": "https://localhost:8080/"
        },
        "outputId": "b5bf4e1e-993a-445a-e914-afd3c9fcf761"
      },
      "source": [
        "score = model.evaluate(x_test, y_test)\n"
      ],
      "execution_count": 9,
      "outputs": [
        {
          "output_type": "stream",
          "name": "stdout",
          "text": [
            "313/313 [==============================] - 1s 3ms/step - loss: 1.4451 - accuracy: 0.4819\n"
          ]
        }
      ]
    },
    {
      "cell_type": "code",
      "source": [
        "y_pred=model.predict(x_test)\n",
        "y_pred.shape"
      ],
      "metadata": {
        "colab": {
          "base_uri": "https://localhost:8080/"
        },
        "id": "RBJZHozlmAaA",
        "outputId": "737c1e46-9940-43b0-d5a0-2a5adde01619"
      },
      "execution_count": 10,
      "outputs": [
        {
          "output_type": "stream",
          "name": "stdout",
          "text": [
            "313/313 [==============================] - 1s 2ms/step\n"
          ]
        },
        {
          "output_type": "execute_result",
          "data": {
            "text/plain": [
              "(10000, 10)"
            ]
          },
          "metadata": {},
          "execution_count": 10
        }
      ]
    },
    {
      "cell_type": "code",
      "source": [
        "from numpy import argmax\n",
        "y_pred1=argmax(y_pred,axis=1)\n",
        "y_pred1.shape"
      ],
      "metadata": {
        "colab": {
          "base_uri": "https://localhost:8080/"
        },
        "id": "zxBgP1zjmIQP",
        "outputId": "1eeb4508-6036-464f-bbda-eea63e189040"
      },
      "execution_count": 11,
      "outputs": [
        {
          "output_type": "execute_result",
          "data": {
            "text/plain": [
              "(10000,)"
            ]
          },
          "metadata": {},
          "execution_count": 11
        }
      ]
    },
    {
      "cell_type": "code",
      "source": [
        "from sklearn.metrics import accuracy_score,  confusion_matrix\n",
        "accuracy_score(y_test,y_pred1)*100"
      ],
      "metadata": {
        "colab": {
          "base_uri": "https://localhost:8080/"
        },
        "id": "WYMeO3FMmj4m",
        "outputId": "990629c9-1985-4cfb-9bc5-1f0c22e5167e"
      },
      "execution_count": 12,
      "outputs": [
        {
          "output_type": "execute_result",
          "data": {
            "text/plain": [
              "48.19"
            ]
          },
          "metadata": {},
          "execution_count": 12
        }
      ]
    },
    {
      "cell_type": "code",
      "source": [
        "x_test.shape"
      ],
      "metadata": {
        "colab": {
          "base_uri": "https://localhost:8080/"
        },
        "id": "nVYc8iuDnI81",
        "outputId": "8e889f6f-ec37-444c-d5ca-a0c7437687df"
      },
      "execution_count": 13,
      "outputs": [
        {
          "output_type": "execute_result",
          "data": {
            "text/plain": [
              "(10000, 32, 32, 3)"
            ]
          },
          "metadata": {},
          "execution_count": 13
        }
      ]
    },
    {
      "cell_type": "code",
      "source": [
        "print(confusion_matrix(y_test,y_pred1))"
      ],
      "metadata": {
        "colab": {
          "base_uri": "https://localhost:8080/"
        },
        "id": "B0c1Wdrtm9IO",
        "outputId": "9aba310f-0103-4e76-9592-55a815324b20"
      },
      "execution_count": 14,
      "outputs": [
        {
          "output_type": "stream",
          "name": "stdout",
          "text": [
            "[[623  30  27  23  34  31  23  38 129  42]\n",
            " [ 73 591   9  16  18  27  18  39  58 151]\n",
            " [147  29 244  61 188  98 117  74  25  17]\n",
            " [ 50  21  59 238  75 259 161  65  26  46]\n",
            " [ 78  14  87  36 459  69 116 102  20  19]\n",
            " [ 46   9  68 155  83 410 102  80  19  28]\n",
            " [ 15  10  52  46 153  73 588  36   8  19]\n",
            " [ 66  24  34  41 102  76  39 549  20  49]\n",
            " [173  68   1  10  17  37  13  22 610  49]\n",
            " [ 83 157   3  29  14  26  37  47  97 507]]\n"
          ]
        }
      ]
    },
    {
      "cell_type": "code",
      "source": [
        "plt.imshow(x_test[10],cmap=\"gray\")\n",
        "y_pred1[10]"
      ],
      "metadata": {
        "colab": {
          "base_uri": "https://localhost:8080/",
          "height": 284
        },
        "id": "Q2-o9UhKpY8k",
        "outputId": "70247b96-3172-4efa-9cdb-cd7d6a0927e9"
      },
      "execution_count": 15,
      "outputs": [
        {
          "output_type": "execute_result",
          "data": {
            "text/plain": [
              "0"
            ]
          },
          "metadata": {},
          "execution_count": 15
        },
        {
          "output_type": "display_data",
          "data": {
            "text/plain": [
              "<Figure size 432x288 with 1 Axes>"
            ],
            "image/png": "[encoded data removed]"
          },
          "metadata": {
            "needs_background": "light"
          }
        }
      ]
    },
    {
      "cell_type": "code",
      "source": [
        "plt.plot(results.history['accuracy'], label='accuracy')\n",
        "plt.plot(results.history['val_accuracy'], label = 'val_accuracy')\n",
        "plt.xlabel('Epoch')\n",
        "plt.ylabel('Accuracy')\n",
        "#plt.ylim([0.5, 1])\n",
        "plt.legend(loc='lower right')\n",
        "\n",
        "test_loss, test_acc = model.evaluate(x_test,  y_test)"
      ],
      "metadata": {
        "colab": {
          "base_uri": "https://localhost:8080/",
          "height": 297
        },
        "id": "lrxn2f3Nr06H",
        "outputId": "a6469360-a1a5-4ff0-865f-026e5687cafd"
      },
      "execution_count": 16,
      "outputs": [
        {
          "output_type": "stream",
          "name": "stdout",
          "text": [
            "313/313 [==============================] - 1s 3ms/step - loss: 1.4451 - accuracy: 0.4819\n"
          ]
        },
        {
          "output_type": "display_data",
          "data": {
            "text/plain": [
              "<Figure size 432x288 with 1 Axes>"
            ],
            "image/png": "[encoded data removed]"
          },
          "metadata": {
            "needs_background": "light"
          }
        }
      ]
    }
  ]
}