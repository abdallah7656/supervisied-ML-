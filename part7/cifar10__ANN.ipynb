{
  "nbformat": 4,
  "nbformat_minor": 0,
  "metadata": {
    "colab": {
      "provenance": []
    },
    "kernelspec": {
      "name": "python3",
      "display_name": "Python 3"
    },
    "language_info": {
      "name": "python"
    },
    "accelerator": "GPU"
  },
  "cells": [
    {
      "cell_type": "code",
      "metadata": {
        "id": "HD2Rk-ZDSMVx"
      },
      "source": [
        "from tensorflow import keras\n",
        "from keras.layers import Input, Dense, Flatten\n",
        "from tensorflow.keras import  datasets\n",
        "from matplotlib import pyplot as plt"
      ],
      "execution_count": 1,
      "outputs": []
    },
    {
      "cell_type": "code",
      "source": [
        "(x_train, y_train), (x_test, y_test) = datasets.cifar10.load_data()"
      ],
      "metadata": {
        "id": "6V3cDL4G4WMF"
      },
      "execution_count": 2,
      "outputs": []
    },
    {
      "cell_type": "code",
      "source": [
        "x_train.shape"
      ],
      "metadata": {
        "colab": {
          "base_uri": "https://localhost:8080/"
        },
        "id": "55_pRpY4yeVd",
        "outputId": "f4f27bbb-1564-401a-fe35-0dc6d557a980"
      },
      "execution_count": 3,
      "outputs": [
        {
          "output_type": "execute_result",
          "data": {
            "text/plain": [
              "(50000, 32, 32, 3)"
            ]
          },
          "metadata": {},
          "execution_count": 3
        }
      ]
    },
    {
      "cell_type": "code",
      "source": [
        "x_test.shape"
      ],
      "metadata": {
        "colab": {
          "base_uri": "https://localhost:8080/"
        },
        "id": "lcHxNPByyt2B",
        "outputId": "3cf1737d-343b-422e-be4e-da21690c7eef"
      },
      "execution_count": 4,
      "outputs": [
        {
          "output_type": "execute_result",
          "data": {
            "text/plain": [
              "(10000, 32, 32, 3)"
            ]
          },
          "metadata": {},
          "execution_count": 4
        }
      ]
    },
    {
      "cell_type": "code",
      "metadata": {
        "id": "vt9t37WrhWy8"
      },
      "source": [
        "#Normalize image pixel values.\n",
        "x_train = x_train/255\n",
        "x_test = x_test/255"
      ],
      "execution_count": 5,
      "outputs": []
    },
    {
      "cell_type": "code",
      "metadata": {
        "colab": {
          "base_uri": "https://localhost:8080/"
        },
        "id": "ORom-RTJZ-kp",
        "outputId": "b26bfe8a-ef3e-4952-b04c-a6e7dfbd42a0"
      },
      "source": [
        "model=keras.Sequential() #Create a network sequence.\n",
        "model.add(Input(shape=(32,32,3)))\n",
        "model.add(Flatten())\n",
        "model.add(Dense(256,activation = 'relu'))\n",
        "model.add(Dense(128,activation = 'relu'))\n",
        "model.add(Dense(10,activation = 'softmax'))\n",
        "\n",
        "model.summary()"
      ],
      "execution_count": 6,
      "outputs": [
        {
          "output_type": "stream",
          "name": "stdout",
          "text": [
            "Model: \"sequential\"\n",
            "_________________________________________________________________\n",
            " Layer (type)                Output Shape              Param #   \n",
            "=================================================================\n",
            " flatten (Flatten)           (None, 3072)              0         \n",
            "                                                                 \n",
            " dense (Dense)               (None, 256)               786688    \n",
            "                                                                 \n",
            " dense_1 (Dense)             (None, 128)               32896     \n",
            "                                                                 \n",
            " dense_2 (Dense)             (None, 10)                1290      \n",
            "                                                                 \n",
            "=================================================================\n",
            "Total params: 820,874\n",
            "Trainable params: 820,874\n",
            "Non-trainable params: 0\n",
            "_________________________________________________________________\n"
          ]
        }
      ]
    },
    {
      "cell_type": "code",
      "metadata": {
        "id": "skMSXinVhSPV",
        "colab": {
          "base_uri": "https://localhost:8080/"
        },
        "outputId": "ddfad575-1216-4a68-f175-f397b27adf3f"
      },
      "source": [
        "batch_size=128\n",
        "model.compile(optimizer='Adam',loss=\"sparse_categorical_crossentropy\",metrics=['accuracy']) \n",
        "results=model.fit(x_train,y_train, epochs=20,validation_data=(x_test, y_test),\n",
        "                   callbacks=keras.callbacks.EarlyStopping(patience=7,restore_best_weights=True)\n",
        "                  )\n",
        "\n"
      ],
      "execution_count": 17,
      "outputs": [
        {
          "output_type": "stream",
          "name": "stdout",
          "text": [
            "Epoch 1/20\n",
            "1563/1563 [==============================] - 8s 4ms/step - loss: 1.3315 - accuracy: 0.5250 - val_loss: 1.5089 - val_accuracy: 0.4659\n",
            "Epoch 2/20\n",
            "1563/1563 [==============================] - 6s 4ms/step - loss: 1.3226 - accuracy: 0.5263 - val_loss: 1.4377 - val_accuracy: 0.4929\n",
            "Epoch 3/20\n",
            "1563/1563 [==============================] - 6s 4ms/step - loss: 1.3178 - accuracy: 0.5271 - val_loss: 1.4227 - val_accuracy: 0.4929\n",
            "Epoch 4/20\n",
            "1563/1563 [==============================] - 6s 4ms/step - loss: 1.3094 - accuracy: 0.5306 - val_loss: 1.4853 - val_accuracy: 0.4731\n",
            "Epoch 5/20\n",
            "1563/1563 [==============================] - 6s 4ms/step - loss: 1.3007 - accuracy: 0.5346 - val_loss: 1.4218 - val_accuracy: 0.5027\n",
            "Epoch 6/20\n",
            "1563/1563 [==============================] - 6s 4ms/step - loss: 1.2963 - accuracy: 0.5357 - val_loss: 1.4341 - val_accuracy: 0.4944\n",
            "Epoch 7/20\n",
            "1563/1563 [==============================] - 6s 4ms/step - loss: 1.2890 - accuracy: 0.5382 - val_loss: 1.4500 - val_accuracy: 0.4913\n",
            "Epoch 8/20\n",
            "1563/1563 [==============================] - 6s 4ms/step - loss: 1.2887 - accuracy: 0.5358 - val_loss: 1.4248 - val_accuracy: 0.5014\n",
            "Epoch 9/20\n",
            "1563/1563 [==============================] - 6s 4ms/step - loss: 1.2804 - accuracy: 0.5396 - val_loss: 1.4512 - val_accuracy: 0.4872\n",
            "Epoch 10/20\n",
            "1563/1563 [==============================] - 6s 4ms/step - loss: 1.2723 - accuracy: 0.5429 - val_loss: 1.4361 - val_accuracy: 0.4995\n",
            "Epoch 11/20\n",
            "1563/1563 [==============================] - 6s 4ms/step - loss: 1.2691 - accuracy: 0.5441 - val_loss: 1.4352 - val_accuracy: 0.4891\n",
            "Epoch 12/20\n",
            "1563/1563 [==============================] - 6s 4ms/step - loss: 1.2604 - accuracy: 0.5473 - val_loss: 1.4656 - val_accuracy: 0.4866\n"
          ]
        }
      ]
    },
    {
      "cell_type": "code",
      "metadata": {
        "id": "eQsuIhTzk3fE",
        "colab": {
          "base_uri": "https://localhost:8080/"
        },
        "outputId": "b852f473-3eb4-43a2-8b18-5cad5d9e0eb1"
      },
      "source": [
        "score = model.evaluate(x_test, y_test)\n"
      ],
      "execution_count": 18,
      "outputs": [
        {
          "output_type": "stream",
          "name": "stdout",
          "text": [
            "313/313 [==============================] - 1s 3ms/step - loss: 1.4218 - accuracy: 0.5027\n"
          ]
        }
      ]
    },
    {
      "cell_type": "code",
      "source": [
        "y_pred=model.predict(x_test)\n",
        "y_pred.shape"
      ],
      "metadata": {
        "colab": {
          "base_uri": "https://localhost:8080/"
        },
        "id": "RBJZHozlmAaA",
        "outputId": "9fc2d144-f29a-424c-aeeb-216158e00eb4"
      },
      "execution_count": 9,
      "outputs": [
        {
          "output_type": "stream",
          "name": "stdout",
          "text": [
            "313/313 [==============================] - 1s 2ms/step\n"
          ]
        },
        {
          "output_type": "execute_result",
          "data": {
            "text/plain": [
              "(10000, 10)"
            ]
          },
          "metadata": {},
          "execution_count": 9
        }
      ]
    },
    {
      "cell_type": "code",
      "source": [
        "import numpy as np\n",
        "from numpy import argmax\n",
        "y_pred1=argmax(y_pred,axis=1)\n",
        "y_pred1.shape"
      ],
      "metadata": {
        "colab": {
          "base_uri": "https://localhost:8080/"
        },
        "id": "zxBgP1zjmIQP",
        "outputId": "0205ad20-9cf3-4b3f-efeb-d9beb59b1c08"
      },
      "execution_count": 10,
      "outputs": [
        {
          "output_type": "execute_result",
          "data": {
            "text/plain": [
              "(10000,)"
            ]
          },
          "metadata": {},
          "execution_count": 10
        }
      ]
    },
    {
      "cell_type": "code",
      "source": [
        "from sklearn.metrics import accuracy_score,  confusion_matrix\n",
        "accuracy_score(y_test,y_pred1)*100"
      ],
      "metadata": {
        "colab": {
          "base_uri": "https://localhost:8080/"
        },
        "id": "WYMeO3FMmj4m",
        "outputId": "635fe17f-7402-44cd-af28-1994e20c45b3"
      },
      "execution_count": 11,
      "outputs": [
        {
          "output_type": "execute_result",
          "data": {
            "text/plain": [
              "47.27"
            ]
          },
          "metadata": {},
          "execution_count": 11
        }
      ]
    },
    {
      "cell_type": "code",
      "source": [
        "x_test.shape"
      ],
      "metadata": {
        "colab": {
          "base_uri": "https://localhost:8080/"
        },
        "id": "nVYc8iuDnI81",
        "outputId": "ce42454b-ac09-4e49-97ef-31b383999490"
      },
      "execution_count": 12,
      "outputs": [
        {
          "output_type": "execute_result",
          "data": {
            "text/plain": [
              "(10000, 32, 32, 3)"
            ]
          },
          "metadata": {},
          "execution_count": 12
        }
      ]
    },
    {
      "cell_type": "code",
      "source": [
        "print(confusion_matrix(y_test,y_pred1))"
      ],
      "metadata": {
        "colab": {
          "base_uri": "https://localhost:8080/"
        },
        "id": "B0c1Wdrtm9IO",
        "outputId": "20715e6e-b1c8-4fd8-d733-2bbd29359f51"
      },
      "execution_count": 13,
      "outputs": [
        {
          "output_type": "stream",
          "name": "stdout",
          "text": [
            "[[395  50  68  16  22  10  44  61 272  62]\n",
            " [ 32 612   5  22   8  14  22  28  92 165]\n",
            " [ 47  39 290  57 134  70 197  97  54  15]\n",
            " [ 29  28  76 233  41 168 229  86  61  49]\n",
            " [ 41  18 113  34 352  33 211 124  55  19]\n",
            " [ 19  23  77 144  58 315 156 107  71  30]\n",
            " [  6  18  47  53  87  27 684  31  22  25]\n",
            " [ 28  26  52  50  65  48  64 572  29  66]\n",
            " [ 45  62   9  14  11  13  23  18 734  71]\n",
            " [ 30 186   6  33  12  11  24  52 106 540]]\n"
          ]
        }
      ]
    },
    {
      "cell_type": "code",
      "source": [
        "plt.imshow(x_test[10],cmap=\"gray\")\n",
        "y_pred1[10]"
      ],
      "metadata": {
        "colab": {
          "base_uri": "https://localhost:8080/",
          "height": 284
        },
        "id": "Q2-o9UhKpY8k",
        "outputId": "693f260f-21c7-4d46-b491-cd46ce539586"
      },
      "execution_count": 14,
      "outputs": [
        {
          "output_type": "execute_result",
          "data": {
            "text/plain": [
              "8"
            ]
          },
          "metadata": {},
          "execution_count": 14
        },
        {
          "output_type": "display_data",
          "data": {
            "text/plain": [
              "<Figure size 432x288 with 1 Axes>"
            ],
            "image/png": "[encoded data removed]"
          },
          "metadata": {
            "needs_background": "light"
          }
        }
      ]
    },
    {
      "cell_type": "code",
      "source": [
        "plt.plot(results.history['accuracy'], label='accuracy')\n",
        "plt.plot(results.history['val_accuracy'], label = 'val_accuracy')\n",
        "plt.xlabel('Epoch')\n",
        "plt.ylabel('Accuracy')\n",
        "#plt.ylim([0.5, 1])\n",
        "plt.legend(loc='lower right')\n",
        "\n",
        "test_loss, test_acc = model.evaluate(x_test,  y_test)"
      ],
      "metadata": {
        "colab": {
          "base_uri": "https://localhost:8080/",
          "height": 297
        },
        "id": "lrxn2f3Nr06H",
        "outputId": "5a9c206c-bdb7-43c9-973d-5995bf545d92"
      },
      "execution_count": 15,
      "outputs": [
        {
          "output_type": "stream",
          "name": "stdout",
          "text": [
            "313/313 [==============================] - 1s 3ms/step - loss: 1.4886 - accuracy: 0.4727\n"
          ]
        },
        {
          "output_type": "display_data",
          "data": {
            "text/plain": [
              "<Figure size 432x288 with 1 Axes>"
            ],
            "image/png": "[encoded data removed]"
          },
          "metadata": {
            "needs_background": "light"
          }
        }
      ]
    }
  ]
}