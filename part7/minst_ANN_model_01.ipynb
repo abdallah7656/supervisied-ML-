{
  "nbformat": 4,
  "nbformat_minor": 0,
  "metadata": {
    "colab": {
      "provenance": []
    },
    "kernelspec": {
      "name": "python3",
      "display_name": "Python 3"
    },
    "language_info": {
      "name": "python"
    }
  },
  "cells": [
    {
      "cell_type": "code",
      "metadata": {
        "id": "HD2Rk-ZDSMVx"
      },
      "source": [
        "from  tensorflow import keras\n",
        "from  keras import datasets\n",
        "from  keras.utils import to_categorical\n",
        "from keras.layers import Input, Dense, Flatten\n",
        "from matplotlib import pyplot as plt\n"
      ],
      "execution_count": 72,
      "outputs": []
    },
    {
      "cell_type": "code",
      "source": [
        "(x_train, y_train), (x_test, y_test) = datasets.mnist.load_data()"
      ],
      "metadata": {
        "id": "6V3cDL4G4WMF"
      },
      "execution_count": 73,
      "outputs": []
    },
    {
      "cell_type": "code",
      "source": [
        "# y_test1=y_test\n",
        "# num_classes = 10\n",
        "# y_train = to_categorical(y_train, num_classes)\n",
        "# y_test = to_categorical(y_test, num_classes)\n",
        "# print(y_test1[0])\n",
        "# print(y_test[0])"
      ],
      "metadata": {
        "id": "LlUmY9jS6VAU"
      },
      "execution_count": 74,
      "outputs": []
    },
    {
      "cell_type": "code",
      "metadata": {
        "id": "vt9t37WrhWy8"
      },
      "source": [
        "#Normalize image pixel values.\n",
        "x_train = x_train/255\n",
        "x_test = x_test/255"
      ],
      "execution_count": 75,
      "outputs": []
    },
    {
      "cell_type": "code",
      "metadata": {
        "colab": {
          "base_uri": "https://localhost:8080/"
        },
        "id": "ORom-RTJZ-kp",
        "outputId": "e1678a2e-f0e5-4934-bc3a-50230e1ac179"
      },
      "source": [
        "model=keras.Sequential() #Create a network sequence.\n",
        "\n",
        "model.add(Input(shape=(28,28,1)))\n",
        "model.add(Flatten())\n",
        "model.add(Dense(120,activation = 'tanh'))\n",
        "model.add(Dense(84,activation = 'tanh'))\n",
        "model.add(Dense(10,activation = 'softmax'))\n",
        "\n",
        "model.summary()"
      ],
      "execution_count": 76,
      "outputs": [
        {
          "output_type": "stream",
          "name": "stdout",
          "text": [
            "Model: \"sequential_4\"\n",
            "_________________________________________________________________\n",
            " Layer (type)                Output Shape              Param #   \n",
            "=================================================================\n",
            " flatten_4 (Flatten)         (None, 784)               0         \n",
            "                                                                 \n",
            " dense_12 (Dense)            (None, 120)               94200     \n",
            "                                                                 \n",
            " dense_13 (Dense)            (None, 84)                10164     \n",
            "                                                                 \n",
            " dense_14 (Dense)            (None, 10)                850       \n",
            "                                                                 \n",
            "=================================================================\n",
            "Total params: 105,214\n",
            "Trainable params: 105,214\n",
            "Non-trainable params: 0\n",
            "_________________________________________________________________\n"
          ]
        }
      ]
    },
    {
      "cell_type": "code",
      "metadata": {
        "id": "skMSXinVhSPV",
        "colab": {
          "base_uri": "https://localhost:8080/"
        },
        "outputId": "6965c40e-e19e-4cc8-dae0-b0ff0886d409"
      },
      "source": [
        "# model.compile(optimizer='Adam',loss=\"categorical_crossentropy\",metrics=['accuracy']) \n",
        "model.compile(optimizer='Adam',loss=\"sparse_categorical_crossentropy\",metrics=['accuracy']) \n",
        "results= model.fit(x_train,y_train,epochs=10,batch_size=32,validation_data=(x_test, y_test))\n",
        "\n"
      ],
      "execution_count": 77,
      "outputs": [
        {
          "output_type": "stream",
          "name": "stdout",
          "text": [
            "Epoch 1/10\n",
            "1875/1875 [==============================] - 11s 5ms/step - loss: 0.2594 - accuracy: 0.9242 - val_loss: 0.1342 - val_accuracy: 0.9586\n",
            "Epoch 2/10\n",
            "1875/1875 [==============================] - 9s 5ms/step - loss: 0.1204 - accuracy: 0.9623 - val_loss: 0.1184 - val_accuracy: 0.9630\n",
            "Epoch 3/10\n",
            "1875/1875 [==============================] - 9s 5ms/step - loss: 0.0806 - accuracy: 0.9756 - val_loss: 0.0882 - val_accuracy: 0.9724\n",
            "Epoch 4/10\n",
            "1875/1875 [==============================] - 10s 5ms/step - loss: 0.0584 - accuracy: 0.9815 - val_loss: 0.0817 - val_accuracy: 0.9735\n",
            "Epoch 5/10\n",
            "1875/1875 [==============================] - 11s 6ms/step - loss: 0.0431 - accuracy: 0.9864 - val_loss: 0.0829 - val_accuracy: 0.9746\n",
            "Epoch 6/10\n",
            "1875/1875 [==============================] - 9s 5ms/step - loss: 0.0340 - accuracy: 0.9891 - val_loss: 0.0901 - val_accuracy: 0.9743\n",
            "Epoch 7/10\n",
            "1875/1875 [==============================] - 8s 4ms/step - loss: 0.0265 - accuracy: 0.9917 - val_loss: 0.0802 - val_accuracy: 0.9754\n",
            "Epoch 8/10\n",
            "1875/1875 [==============================] - 10s 5ms/step - loss: 0.0230 - accuracy: 0.9926 - val_loss: 0.0810 - val_accuracy: 0.9763\n",
            "Epoch 9/10\n",
            "1875/1875 [==============================] - 10s 5ms/step - loss: 0.0199 - accuracy: 0.9933 - val_loss: 0.0864 - val_accuracy: 0.9761\n",
            "Epoch 10/10\n",
            "1875/1875 [==============================] - 10s 5ms/step - loss: 0.0157 - accuracy: 0.9952 - val_loss: 0.0858 - val_accuracy: 0.9756\n"
          ]
        }
      ]
    },
    {
      "cell_type": "code",
      "metadata": {
        "id": "eQsuIhTzk3fE",
        "colab": {
          "base_uri": "https://localhost:8080/"
        },
        "outputId": "2355b5a7-8269-4f6a-92e0-1a575ae9de02"
      },
      "source": [
        "train_score = model.evaluate(x_train, y_train)\n"
      ],
      "execution_count": 78,
      "outputs": [
        {
          "output_type": "stream",
          "name": "stdout",
          "text": [
            "1875/1875 [==============================] - 4s 2ms/step - loss: 0.0138 - accuracy: 0.9957\n"
          ]
        }
      ]
    },
    {
      "cell_type": "code",
      "source": [
        "test_score = model.evaluate(x_test, y_test)"
      ],
      "metadata": {
        "colab": {
          "base_uri": "https://localhost:8080/"
        },
        "id": "FBO9OonO2yk-",
        "outputId": "bbc10d75-ee4c-462c-f974-738ed646117a"
      },
      "execution_count": 79,
      "outputs": [
        {
          "output_type": "stream",
          "name": "stdout",
          "text": [
            "313/313 [==============================] - 1s 2ms/step - loss: 0.0858 - accuracy: 0.9756\n"
          ]
        }
      ]
    },
    {
      "cell_type": "code",
      "source": [
        "test_score[1]"
      ],
      "metadata": {
        "colab": {
          "base_uri": "https://localhost:8080/"
        },
        "id": "cnxcoXcHeRT1",
        "outputId": "487eede6-80e2-4855-a324-f588cdd21692"
      },
      "execution_count": 80,
      "outputs": [
        {
          "output_type": "execute_result",
          "data": {
            "text/plain": [
              "0.975600004196167"
            ]
          },
          "metadata": {},
          "execution_count": 80
        }
      ]
    },
    {
      "cell_type": "code",
      "source": [
        "y_pred=model.predict(x_test)\n",
        "y_pred.shape"
      ],
      "metadata": {
        "colab": {
          "base_uri": "https://localhost:8080/"
        },
        "id": "tYFsXo2prE6n",
        "outputId": "88dde778-90de-4fe4-b445-24945753359a"
      },
      "execution_count": 81,
      "outputs": [
        {
          "output_type": "stream",
          "name": "stdout",
          "text": [
            "313/313 [==============================] - 1s 2ms/step\n"
          ]
        },
        {
          "output_type": "execute_result",
          "data": {
            "text/plain": [
              "(10000, 10)"
            ]
          },
          "metadata": {},
          "execution_count": 81
        }
      ]
    },
    {
      "cell_type": "code",
      "source": [
        "import numpy as np\n",
        "from numpy import argmax\n",
        "y_pred1=argmax(y_pred,axis=1)"
      ],
      "metadata": {
        "id": "sfjccJJyrNVC"
      },
      "execution_count": 82,
      "outputs": []
    },
    {
      "cell_type": "code",
      "source": [
        "print(y_test[0])\n",
        "print(y_pred[0])\n",
        "print(y_pred1[0])"
      ],
      "metadata": {
        "colab": {
          "base_uri": "https://localhost:8080/"
        },
        "id": "fjHECXEGdhut",
        "outputId": "4834c530-05b5-43bc-fa79-c7d12b531541"
      },
      "execution_count": 83,
      "outputs": [
        {
          "output_type": "stream",
          "name": "stdout",
          "text": [
            "7\n",
            "[2.7922849e-07 2.2024740e-09 7.5058352e-08 2.2115963e-05 1.9717410e-09\n",
            " 2.1354285e-08 1.2068196e-12 9.9997586e-01 3.9447045e-08 1.5449851e-06]\n",
            "7\n"
          ]
        }
      ]
    },
    {
      "cell_type": "code",
      "source": [
        "from sklearn.metrics import accuracy_score,  confusion_matrix\n",
        "print(confusion_matrix(y_test,y_pred1))\n",
        "accuracy_score(y_test,y_pred1)*100\n",
        "# print(confusion_matrix(y_test1,y_pred1))\n",
        "# accuracy_score(y_test1,y_pred1)*100"
      ],
      "metadata": {
        "colab": {
          "base_uri": "https://localhost:8080/"
        },
        "id": "_krJCSqEuy74",
        "outputId": "d9cbef0c-2a24-408b-a8c6-532c09b623fa"
      },
      "execution_count": 84,
      "outputs": [
        {
          "output_type": "stream",
          "name": "stdout",
          "text": [
            "[[ 972    0    1    1    0    0    3    1    2    0]\n",
            " [   1 1124    2    0    0    1    3    1    3    0]\n",
            " [   2    0 1010    5    0    2    3    6    4    0]\n",
            " [   1    0    3  988    0    5    0    4    3    6]\n",
            " [   2    0    2    1  928    0   10    4    4   31]\n",
            " [   6    0    0    7    0  863    8    1    3    4]\n",
            " [   4    2    2    1    1    4  942    1    1    0]\n",
            " [   0    4    6    2    0    0    0 1007    3    6]\n",
            " [   8    1    5    5    3    4    3    4  939    2]\n",
            " [   4    2    1    3    5    2    0    7    2  983]]\n"
          ]
        },
        {
          "output_type": "execute_result",
          "data": {
            "text/plain": [
              "97.56"
            ]
          },
          "metadata": {},
          "execution_count": 84
        }
      ]
    },
    {
      "cell_type": "code",
      "source": [
        "plt.imshow(x_test[40],cmap=\"gray\")\n",
        "print(y_pred[40])\n",
        "print(y_pred1[40])"
      ],
      "metadata": {
        "colab": {
          "base_uri": "https://localhost:8080/",
          "height": 320
        },
        "id": "oiOWzqKL6WzA",
        "outputId": "50d2c85b-9b57-43f4-9745-f5b6098b1a60"
      },
      "execution_count": 85,
      "outputs": [
        {
          "output_type": "stream",
          "name": "stdout",
          "text": [
            "[9.1990381e-11 9.9999779e-01 4.3471129e-09 4.0455241e-08 1.0351400e-10\n",
            " 2.1245663e-09 1.2174271e-06 4.2842846e-08 8.7063188e-07 7.2127477e-09]\n",
            "1\n"
          ]
        },
        {
          "output_type": "display_data",
          "data": {
            "text/plain": [
              "<Figure size 432x288 with 1 Axes>"
            ],
            "image/png": "[encoded data removed]"
          },
          "metadata": {
            "needs_background": "light"
          }
        }
      ]
    },
    {
      "cell_type": "code",
      "source": [
        "model.save('mnist.h5')"
      ],
      "metadata": {
        "id": "yAGZHsWZ3cD5"
      },
      "execution_count": 86,
      "outputs": []
    },
    {
      "cell_type": "code",
      "source": [
        "results.history['val_accuracy']"
      ],
      "metadata": {
        "colab": {
          "base_uri": "https://localhost:8080/"
        },
        "id": "Ejdzwll7Gorm",
        "outputId": "a3e4d629-7012-4705-a1fe-e62e155dbf9c"
      },
      "execution_count": 87,
      "outputs": [
        {
          "output_type": "execute_result",
          "data": {
            "text/plain": [
              "[0.9585999846458435,\n",
              " 0.9629999995231628,\n",
              " 0.9724000096321106,\n",
              " 0.9735000133514404,\n",
              " 0.9746000170707703,\n",
              " 0.9743000268936157,\n",
              " 0.9753999710083008,\n",
              " 0.9763000011444092,\n",
              " 0.9761000275611877,\n",
              " 0.975600004196167]"
            ]
          },
          "metadata": {},
          "execution_count": 87
        }
      ]
    },
    {
      "cell_type": "code",
      "source": [
        "results.history['accuracy']"
      ],
      "metadata": {
        "colab": {
          "base_uri": "https://localhost:8080/"
        },
        "id": "kz_PvFWZSd5K",
        "outputId": "510c2308-5b97-428c-e837-bb9c9741ab11"
      },
      "execution_count": 88,
      "outputs": [
        {
          "output_type": "execute_result",
          "data": {
            "text/plain": [
              "[0.9241666793823242,\n",
              " 0.9623333215713501,\n",
              " 0.9755833148956299,\n",
              " 0.9814500212669373,\n",
              " 0.986383318901062,\n",
              " 0.9890666604042053,\n",
              " 0.991683304309845,\n",
              " 0.9925833344459534,\n",
              " 0.9933000206947327,\n",
              " 0.9951833486557007]"
            ]
          },
          "metadata": {},
          "execution_count": 88
        }
      ]
    },
    {
      "cell_type": "code",
      "metadata": {
        "id": "tK3DWgfVS_Un",
        "colab": {
          "base_uri": "https://localhost:8080/",
          "height": 297
        },
        "outputId": "c26680d9-10f8-4a0b-ca2a-de7333950ce5"
      },
      "source": [
        "plt.plot(results.history['accuracy'], label='accuracy')\n",
        "plt.plot(results.history['val_accuracy'], label = 'val_accuracy')\n",
        "plt.xlabel('Epoch')\n",
        "plt.ylabel('Accuracy')\n",
        "#plt.ylim([0.5, 1])\n",
        "plt.legend(loc='lower right')"
      ],
      "execution_count": 89,
      "outputs": [
        {
          "output_type": "execute_result",
          "data": {
            "text/plain": [
              "<matplotlib.legend.Legend at 0x7f48d3223ac0>"
            ]
          },
          "metadata": {},
          "execution_count": 89
        },
        {
          "output_type": "display_data",
          "data": {
            "text/plain": [
              "<Figure size 432x288 with 1 Axes>"
            ],
            "image/png": "[encoded data removed]"
          },
          "metadata": {
            "needs_background": "light"
          }
        }
      ]
    }
  ]
}