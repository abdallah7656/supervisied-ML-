{
  "nbformat": 4,
  "nbformat_minor": 0,
  "metadata": {
    "colab": {
      "provenance": []
    },
    "kernelspec": {
      "name": "python3",
      "display_name": "Python 3"
    },
    "language_info": {
      "name": "python"
    },
    "accelerator": "GPU",
    "gpuClass": "standard"
  },
  "cells": [
    {
      "cell_type": "code",
      "metadata": {
        "id": "HD2Rk-ZDSMVx"
      },
      "source": [
        "from tensorflow.keras import  datasets\n",
        "from matplotlib import pyplot as plt"
      ],
      "execution_count": 5,
      "outputs": []
    },
    {
      "cell_type": "code",
      "source": [
        "(x_train, y_train), (x_test, y_test) = datasets.mnist.load_data()"
      ],
      "metadata": {
        "id": "6V3cDL4G4WMF",
        "colab": {
          "base_uri": "https://localhost:8080/"
        },
        "outputId": "be9f122d-3c38-4c7d-cde5-bc941c433475"
      },
      "execution_count": 6,
      "outputs": [
        {
          "output_type": "stream",
          "name": "stdout",
          "text": [
            "Downloading data from https://storage.googleapis.com/tensorflow/tf-keras-datasets/mnist.npz\n",
            "11490434/11490434 [==============================] - 1s 0us/step\n"
          ]
        }
      ]
    },
    {
      "cell_type": "code",
      "metadata": {
        "id": "vt9t37WrhWy8"
      },
      "source": [
        "#Normalize image pixel values.\n",
        "x_train = x_train/255\n",
        "x_test = x_test/255"
      ],
      "execution_count": 7,
      "outputs": []
    },
    {
      "cell_type": "code",
      "source": [
        "from google.colab import drive\n",
        "drive.mount('/content/drive')\n",
        "from keras.models import load_model\n",
        "model1=load_model('/content/drive/MyDrive/SavedModels/mnist_new.h5')"
      ],
      "metadata": {
        "colab": {
          "base_uri": "https://localhost:8080/"
        },
        "id": "5mprfKVPmvZW",
        "outputId": "6fe92066-ea32-4cc3-ff29-c5d3cf737165"
      },
      "execution_count": 8,
      "outputs": [
        {
          "output_type": "stream",
          "name": "stdout",
          "text": [
            "Mounted at /content/drive\n"
          ]
        }
      ]
    },
    {
      "cell_type": "code",
      "source": [
        "score = model1.evaluate(x_test, y_test)"
      ],
      "metadata": {
        "colab": {
          "base_uri": "https://localhost:8080/"
        },
        "id": "GiFX_twWoSnQ",
        "outputId": "908cb53a-1ac5-4fff-9260-95469d9c0ea1"
      },
      "execution_count": 9,
      "outputs": [
        {
          "output_type": "stream",
          "name": "stdout",
          "text": [
            "313/313 [==============================] - 5s 4ms/step - loss: 0.1095 - accuracy: 0.9700\n"
          ]
        }
      ]
    },
    {
      "cell_type": "code",
      "source": [
        "y_pred=model1.predict(x_test)\n",
        "y_pred.shape"
      ],
      "metadata": {
        "colab": {
          "base_uri": "https://localhost:8080/"
        },
        "id": "tYFsXo2prE6n",
        "outputId": "b3de4f95-563a-4037-bb4e-6131febab1bd"
      },
      "execution_count": 10,
      "outputs": [
        {
          "output_type": "stream",
          "name": "stdout",
          "text": [
            "313/313 [==============================] - 1s 2ms/step\n"
          ]
        },
        {
          "output_type": "execute_result",
          "data": {
            "text/plain": [
              "(10000, 10)"
            ]
          },
          "metadata": {},
          "execution_count": 10
        }
      ]
    },
    {
      "cell_type": "code",
      "source": [
        "import numpy as np\n",
        "from numpy import argmax\n",
        "y_pred1=argmax(y_pred,axis=1)"
      ],
      "metadata": {
        "id": "sfjccJJyrNVC"
      },
      "execution_count": 11,
      "outputs": []
    },
    {
      "cell_type": "code",
      "source": [
        "from sklearn.metrics import accuracy_score,  confusion_matrix\n",
        "print(confusion_matrix(y_test,y_pred1))\n",
        "\n",
        "accuracy_score(y_test,y_pred1)*100"
      ],
      "metadata": {
        "colab": {
          "base_uri": "https://localhost:8080/"
        },
        "id": "_krJCSqEuy74",
        "outputId": "dc442ad3-7b35-4a2a-eb7f-412a0cae9d9f"
      },
      "execution_count": 12,
      "outputs": [
        {
          "output_type": "stream",
          "name": "stdout",
          "text": [
            "[[ 969    0    3    1    0    0    2    1    4    0]\n",
            " [   3 1113    2    2    0    1    2    1   11    0]\n",
            " [   2    0 1012    2    1    0    2    6    7    0]\n",
            " [   0    0    7  992    0    0    0    7    3    1]\n",
            " [   2    0    4    2  954    0    4    5    2    9]\n",
            " [   4    0    2   35    3  828    3    0   15    2]\n",
            " [   6    2    2    1    1    2  938    0    6    0]\n",
            " [   1    1    9    6    0    0    1 1005    1    4]\n",
            " [   3    0    5    9    4    2    0    5  946    0]\n",
            " [   3    3    1   14    6    4    0   13   22  943]]\n"
          ]
        },
        {
          "output_type": "execute_result",
          "data": {
            "text/plain": [
              "97.0"
            ]
          },
          "metadata": {},
          "execution_count": 12
        }
      ]
    },
    {
      "cell_type": "code",
      "source": [
        "plt.imshow(x_test[0],cmap=\"gray\")\n",
        "print(y_pred[0])\n",
        "print(y_pred1[0])"
      ],
      "metadata": {
        "colab": {
          "base_uri": "https://localhost:8080/",
          "height": 317
        },
        "id": "oiOWzqKL6WzA",
        "outputId": "66d0ed36-3c3e-4c10-8e84-ad6daaaebcc4"
      },
      "execution_count": 13,
      "outputs": [
        {
          "output_type": "stream",
          "name": "stdout",
          "text": [
            "[4.8725818e-10 3.2113281e-11 4.4373847e-09 6.0470802e-07 8.0935217e-11\n",
            " 1.0654975e-11 7.0797166e-13 9.9999940e-01 2.0822568e-09 1.2877548e-08]\n",
            "7\n"
          ]
        },
        {
          "output_type": "display_data",
          "data": {
            "text/plain": [
              "<Figure size 432x288 with 1 Axes>"
            ],
            "image/png": "[encoded data removed]"
          },
          "metadata": {
            "needs_background": "light"
          }
        }
      ]
    },
    {
      "cell_type": "code",
      "source": [
        "# import cv2"
      ],
      "metadata": {
        "id": "8SxqXsjsV-FS"
      },
      "execution_count": 14,
      "outputs": []
    },
    {
      "cell_type": "code",
      "source": [
        "# img=cv2.imread('/content/Image20230225133218.png')"
      ],
      "metadata": {
        "id": "sbrRK4ReWAK2"
      },
      "execution_count": 15,
      "outputs": []
    },
    {
      "cell_type": "code",
      "source": [
        "# img.shape"
      ],
      "metadata": {
        "colab": {
          "base_uri": "https://localhost:8080/"
        },
        "id": "tqrzMdHWWkRb",
        "outputId": "de1b3ea3-b619-4fe4-b186-ac879642d4e7"
      },
      "execution_count": 16,
      "outputs": [
        {
          "output_type": "execute_result",
          "data": {
            "text/plain": [
              "(224, 225, 3)"
            ]
          },
          "metadata": {},
          "execution_count": 16
        }
      ]
    },
    {
      "cell_type": "code",
      "source": [
        "from tensorflow.keras.utils import load_img, img_to_array"
      ],
      "metadata": {
        "id": "tcTxvQOZYbbG"
      },
      "execution_count": 27,
      "outputs": []
    },
    {
      "cell_type": "code",
      "source": [
        "img=load_img('/content/Image20230225133218.png')"
      ],
      "metadata": {
        "id": "oogu1YPDYrnu"
      },
      "execution_count": 33,
      "outputs": []
    },
    {
      "cell_type": "code",
      "source": [
        "img=img.convert('L')\n",
        "img = img.resize((28,28))\n",
        "img=img_to_array(img)"
      ],
      "metadata": {
        "id": "8La9AqEeZBrk"
      },
      "execution_count": 34,
      "outputs": []
    },
    {
      "cell_type": "code",
      "source": [
        "img.shape"
      ],
      "metadata": {
        "colab": {
          "base_uri": "https://localhost:8080/"
        },
        "id": "v2vx5Z-rZsgy",
        "outputId": "6cbef62b-3fed-4825-e325-a11d4a08b326"
      },
      "execution_count": 35,
      "outputs": [
        {
          "output_type": "execute_result",
          "data": {
            "text/plain": [
              "(28, 28, 1)"
            ]
          },
          "metadata": {},
          "execution_count": 35
        }
      ]
    },
    {
      "cell_type": "code",
      "source": [
        "img=img/255\n",
        "img=img.reshape(-1,784)\n"
      ],
      "metadata": {
        "id": "t9HVfANnYbeC"
      },
      "execution_count": 36,
      "outputs": []
    },
    {
      "cell_type": "code",
      "source": [
        "y_pred_img=model1.predict(img)\n",
        "y_pred_img"
      ],
      "metadata": {
        "colab": {
          "base_uri": "https://localhost:8080/"
        },
        "id": "Nue2Hz7aZQz4",
        "outputId": "678d42db-9714-42a2-a580-2f6db08a1617"
      },
      "execution_count": 38,
      "outputs": [
        {
          "output_type": "stream",
          "name": "stdout",
          "text": [
            "1/1 [==============================] - 0s 101ms/step\n"
          ]
        },
        {
          "output_type": "execute_result",
          "data": {
            "text/plain": [
              "array([[3.0912056e-10, 4.1426307e-11, 8.4285992e-09, 4.2018772e-07,\n",
              "        4.5648017e-11, 6.3151403e-12, 3.8256952e-13, 9.9999952e-01,\n",
              "        7.9056189e-10, 6.1790457e-09]], dtype=float32)"
            ]
          },
          "metadata": {},
          "execution_count": 38
        }
      ]
    },
    {
      "cell_type": "code",
      "source": [
        "y_pred1_=argmax(y_pred_img,axis=1)\n",
        "y_pred1_"
      ],
      "metadata": {
        "colab": {
          "base_uri": "https://localhost:8080/"
        },
        "id": "XZ3zdf2AZjOA",
        "outputId": "9a748183-8df4-42e6-f7c0-cc5b97a0305e"
      },
      "execution_count": 40,
      "outputs": [
        {
          "output_type": "execute_result",
          "data": {
            "text/plain": [
              "array([7])"
            ]
          },
          "metadata": {},
          "execution_count": 40
        }
      ]
    },
    {
      "cell_type": "code",
      "source": [
        "img=img.reshape(28,28)\n",
        "plt.imshow(img,cmap='gray')"
      ],
      "metadata": {
        "colab": {
          "base_uri": "https://localhost:8080/",
          "height": 282
        },
        "id": "OB6quBlXaQfr",
        "outputId": "ef22a5ef-ea3e-4958-f609-e22b3fbbeb15"
      },
      "execution_count": 43,
      "outputs": [
        {
          "output_type": "execute_result",
          "data": {
            "text/plain": [
              "<matplotlib.image.AxesImage at 0x7f2545a80640>"
            ]
          },
          "metadata": {},
          "execution_count": 43
        },
        {
          "output_type": "display_data",
          "data": {
            "text/plain": [
              "<Figure size 432x288 with 1 Axes>"
            ],
            "image/png": "[encoded data removed]"
          },
          "metadata": {
            "needs_background": "light"
          }
        }
      ]
    },
    {
      "cell_type": "code",
      "source": [],
      "metadata": {
        "id": "alWxZSJ1ZjZC"
      },
      "execution_count": null,
      "outputs": []
    }
  ]
}