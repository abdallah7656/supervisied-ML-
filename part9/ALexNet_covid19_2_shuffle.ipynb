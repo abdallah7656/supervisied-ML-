{
  "nbformat": 4,
  "nbformat_minor": 0,
  "metadata": {
    "colab": {
      "provenance": []
    },
    "kernelspec": {
      "name": "python3",
      "display_name": "Python 3"
    },
    "language_info": {
      "name": "python"
    },
    "accelerator": "GPU",
    "gpuClass": "standard"
  },
  "cells": [
    {
      "cell_type": "code",
      "execution_count": 13,
      "metadata": {
        "colab": {
          "base_uri": "https://localhost:8080/"
        },
        "id": "Ib3JeGATghqh",
        "outputId": "b478b582-5a7f-47fc-ec1c-36465e8e98ca"
      },
      "outputs": [
        {
          "output_type": "stream",
          "name": "stdout",
          "text": [
            "--2023-03-04 08:54:01--  http://cb.lk/covid_19\n",
            "Resolving cb.lk (cb.lk)... 104.21.72.203, 172.67.187.81, 2606:4700:3032::ac43:bb51, ...\n",
            "Connecting to cb.lk (cb.lk)|104.21.72.203|:80... connected.\n",
            "HTTP request sent, awaiting response... 302 Found\n",
            "Location: https://www.dropbox.com/s/7rjw6oet4za01op/CovidDataset-20200427T133042Z-001.zip?dl=0 [following]\n",
            "--2023-03-04 08:54:02--  https://www.dropbox.com/s/7rjw6oet4za01op/CovidDataset-20200427T133042Z-001.zip?dl=0\n",
            "Resolving www.dropbox.com (www.dropbox.com)... 162.125.80.18, 2620:100:6030:18::a27d:5012\n",
            "Connecting to www.dropbox.com (www.dropbox.com)|162.125.80.18|:443... connected.\n",
            "HTTP request sent, awaiting response... 302 Found\n",
            "Location: /s/raw/7rjw6oet4za01op/CovidDataset-20200427T133042Z-001.zip [following]\n",
            "--2023-03-04 08:54:03--  https://www.dropbox.com/s/raw/7rjw6oet4za01op/CovidDataset-20200427T133042Z-001.zip\n",
            "Reusing existing connection to www.dropbox.com:443.\n",
            "HTTP request sent, awaiting response... 302 Found\n",
            "Location: https://uc0f81733fedbadb8b7f3ad5c49a.dl.dropboxusercontent.com/cd/0/inline/B3lMYTEOQRCxThEuxl2N-9tyLpUs-oWTuCwJPY0uiyHqU2v6Ho1kEgaojKwxZ-fqzIFYxjFQP_GSeaBBOK3FqTmjdFz_eceN-8hXUMCONQ3DoLpKHJYE3uOrjcWlMKgKqrzzbyAaHXXgyQCYRbfs6HTYd1dL7KyX66swqAXX7uayHw/file# [following]\n",
            "--2023-03-04 08:54:03--  https://uc0f81733fedbadb8b7f3ad5c49a.dl.dropboxusercontent.com/cd/0/inline/B3lMYTEOQRCxThEuxl2N-9tyLpUs-oWTuCwJPY0uiyHqU2v6Ho1kEgaojKwxZ-fqzIFYxjFQP_GSeaBBOK3FqTmjdFz_eceN-8hXUMCONQ3DoLpKHJYE3uOrjcWlMKgKqrzzbyAaHXXgyQCYRbfs6HTYd1dL7KyX66swqAXX7uayHw/file\n",
            "Resolving uc0f81733fedbadb8b7f3ad5c49a.dl.dropboxusercontent.com (uc0f81733fedbadb8b7f3ad5c49a.dl.dropboxusercontent.com)... 162.125.3.15, 2620:100:601b:15::a27d:80f\n",
            "Connecting to uc0f81733fedbadb8b7f3ad5c49a.dl.dropboxusercontent.com (uc0f81733fedbadb8b7f3ad5c49a.dl.dropboxusercontent.com)|162.125.3.15|:443... connected.\n",
            "HTTP request sent, awaiting response... 302 Found\n",
            "Location: /cd/0/inline2/B3lXVg8q_lSmW0x5yzxlskf1BvZScl48UA3P9qy4YtMyZfV0KKWT2aqJ_SqTco_wPpehHodPj3Uokkt_er1EBcxvayUstsCUn2sOD_-oD-7kTtaKdwxbZO32dWbYcBfCvXGA-XDMcfq3nMG7q4vcfjNiODZWxTd7IZzRSIanevbKf5VF3JW7-zdizgvM__mmP3-H3uMqxXSKeFzgLit7so25TQlQA2MnUgSuiGUb7UZCcdUfuiJkn3r5rj2RGzrO80cU-lcFkPW_5g7LyZaCa4gdJVxLwSqhDpdyEYOXpKciYNqoZtaUJH576BL2lZbPifoUwLur1VAJYWJhdWzLuxOBjWBqj0q_kWKjRWsX0eKQA-mGGAVu2wAiSA7CtlDModvhB9j6uKJa39zg-VuLNd0Mq0Fagk9fk4kXgo1S4czjrA/file [following]\n",
            "--2023-03-04 08:54:04--  https://uc0f81733fedbadb8b7f3ad5c49a.dl.dropboxusercontent.com/cd/0/inline2/B3lXVg8q_lSmW0x5yzxlskf1BvZScl48UA3P9qy4YtMyZfV0KKWT2aqJ_SqTco_wPpehHodPj3Uokkt_er1EBcxvayUstsCUn2sOD_-oD-7kTtaKdwxbZO32dWbYcBfCvXGA-XDMcfq3nMG7q4vcfjNiODZWxTd7IZzRSIanevbKf5VF3JW7-zdizgvM__mmP3-H3uMqxXSKeFzgLit7so25TQlQA2MnUgSuiGUb7UZCcdUfuiJkn3r5rj2RGzrO80cU-lcFkPW_5g7LyZaCa4gdJVxLwSqhDpdyEYOXpKciYNqoZtaUJH576BL2lZbPifoUwLur1VAJYWJhdWzLuxOBjWBqj0q_kWKjRWsX0eKQA-mGGAVu2wAiSA7CtlDModvhB9j6uKJa39zg-VuLNd0Mq0Fagk9fk4kXgo1S4czjrA/file\n",
            "Reusing existing connection to uc0f81733fedbadb8b7f3ad5c49a.dl.dropboxusercontent.com:443.\n",
            "HTTP request sent, awaiting response... 200 OK\n",
            "Length: 140830621 (134M) [application/zip]\n",
            "Saving to: ‘covid_19.1’\n",
            "\n",
            "covid_19.1          100%[===================>] 134.31M   109MB/s    in 1.2s    \n",
            "\n",
            "2023-03-04 08:54:05 (109 MB/s) - ‘covid_19.1’ saved [140830621/140830621]\n",
            "\n"
          ]
        }
      ],
      "source": [
        "!wget http://cb.lk/covid_19  \n"
      ]
    },
    {
      "cell_type": "code",
      "source": [
        "!unzip covid_19"
      ],
      "metadata": {
        "id": "2hJ5f5y3gocm",
        "colab": {
          "base_uri": "https://localhost:8080/"
        },
        "outputId": "878d1e2a-e59b-4be5-fcba-da513e1536c0"
      },
      "execution_count": 14,
      "outputs": [
        {
          "output_type": "stream",
          "name": "stdout",
          "text": [
            "Archive:  covid_19\n",
            "replace CovidDataset/Val/Covid/88de9d8c39e946abd495b37cd07d89e5-6531-0.jpg? [y]es, [n]o, [A]ll, [N]one, [r]ename: "
          ]
        }
      ]
    },
    {
      "cell_type": "code",
      "source": [
        "import tensorflow as tf\n",
        "from tensorflow import keras\n",
        "from keras.models import * \n",
        "from keras.layers import *"
      ],
      "metadata": {
        "id": "r2-gZta4hfhi"
      },
      "execution_count": 15,
      "outputs": []
    },
    {
      "cell_type": "code",
      "source": [
        "from keras.preprocessing.image import ImageDataGenerator\n",
        "\n",
        "train_datagen = ImageDataGenerator(rescale=1./255,)\n",
        "test_datagen = ImageDataGenerator(rescale=1./255)\n",
        "\n",
        "train_set = train_datagen.flow_from_directory(\n",
        "        '/content/CovidDataset/Train/',\n",
        "        target_size=(224, 224),batch_size=32,class_mode='binary',\n",
        "        shuffle=True)\n",
        "       \n",
        "\n",
        "test_set = test_datagen.flow_from_directory(\n",
        "        '/content/CovidDataset/Val/',\n",
        "        target_size=(224, 224),batch_size=32,class_mode='binary',\n",
        "        shuffle=True)"
      ],
      "metadata": {
        "colab": {
          "base_uri": "https://localhost:8080/"
        },
        "id": "_AR4pr9-hfjm",
        "outputId": "d8b41628-492b-4867-b583-a2e7df003e88"
      },
      "execution_count": 16,
      "outputs": [
        {
          "output_type": "stream",
          "name": "stdout",
          "text": [
            "Found 224 images belonging to 2 classes.\n",
            "Found 60 images belonging to 2 classes.\n"
          ]
        }
      ]
    },
    {
      "cell_type": "code",
      "source": [
        "test_set.labels"
      ],
      "metadata": {
        "colab": {
          "base_uri": "https://localhost:8080/"
        },
        "id": "iLZ6ivKzhfmB",
        "outputId": "57f5f5c8-1800-4949-d8e8-89d09e650241"
      },
      "execution_count": 17,
      "outputs": [
        {
          "output_type": "execute_result",
          "data": {
            "text/plain": [
              "array([0, 0, 0, 0, 0, 0, 0, 0, 0, 0, 0, 0, 0, 0, 0, 0, 0, 0, 0, 0, 0, 0,\n",
              "       0, 0, 0, 0, 0, 0, 0, 0, 1, 1, 1, 1, 1, 1, 1, 1, 1, 1, 1, 1, 1, 1,\n",
              "       1, 1, 1, 1, 1, 1, 1, 1, 1, 1, 1, 1, 1, 1, 1, 1], dtype=int32)"
            ]
          },
          "metadata": {},
          "execution_count": 17
        }
      ]
    },
    {
      "cell_type": "code",
      "source": [
        "test_set.filenames"
      ],
      "metadata": {
        "colab": {
          "base_uri": "https://localhost:8080/"
        },
        "id": "Oax7HO28hfoZ",
        "outputId": "c7361593-10c9-46a5-af89-c0670fc83836"
      },
      "execution_count": 18,
      "outputs": [
        {
          "output_type": "execute_result",
          "data": {
            "text/plain": [
              "['Covid/16654_1_1.png',\n",
              " 'Covid/16654_2_1.jpg',\n",
              " 'Covid/16654_4_1.jpg',\n",
              " 'Covid/23E99E2E-447C-46E5-8EB2-D35D12473C39.png',\n",
              " 'Covid/31BA3780-2323-493F-8AED-62081B9C383B.jpeg',\n",
              " 'Covid/353889E0-A1E8-4F9E-A0B8-F24F36BCFBFB.jpeg',\n",
              " 'Covid/4-x-day1.jpg',\n",
              " 'Covid/41591_2020_819_Fig1_HTML.webp-day10.png',\n",
              " 'Covid/41591_2020_819_Fig1_HTML.webp-day5.png',\n",
              " 'Covid/4e43e48d52c9e2d4c6c1fb9bc1544f_jumbo.jpeg',\n",
              " 'Covid/53EC07C9-5CC6-4BE4-9B6F-D7B0D72AAA7E.jpeg',\n",
              " 'Covid/58cb9263f16e94305c730685358e4e_jumbo.jpeg',\n",
              " 'Covid/6C94A287-C059-46A0-8600-AFB95F4727B7.jpeg',\n",
              " 'Covid/6CB4EFC6-68FA-4CD5-940C-BEFA8DAFE9A7.jpeg',\n",
              " 'Covid/6b3bdbc31f65230b8cdcc3cef5f8ba8a-40ac-0.jpg',\n",
              " 'Covid/6b44464d-73a7-4cf3-bbb6-ffe7168300e3.annot.original.jpeg',\n",
              " 'Covid/7AF6C1AF-D249-4BD2-8C26-449304105D03.jpeg',\n",
              " 'Covid/7C69C012-7479-493F-8722-ABC29C60A2DD.jpeg',\n",
              " 'Covid/85E52EB3-56E9-4D67-82DA-DEA247C82886.jpeg',\n",
              " 'Covid/88de9d8c39e946abd495b37cd07d89e5-2ee6-0.jpg',\n",
              " 'Covid/88de9d8c39e946abd495b37cd07d89e5-6531-0.jpg',\n",
              " 'Covid/B2D20576-00B7-4519-A415-72DE29C90C34.jpeg',\n",
              " 'Covid/auntminnie-c-2020_01_28_23_51_6665_2020_01_28_Vietnam_coronavirus.jpeg',\n",
              " 'Covid/auntminnie-d-2020_01_28_23_51_6665_2020_01_28_Vietnam_coronavirus.jpeg',\n",
              " 'Covid/covid-19-pneumonia-12.jpg',\n",
              " 'Covid/covid-19-pneumonia-14-PA.png',\n",
              " 'Covid/covid-19-pneumonia-35-1.jpg',\n",
              " 'Covid/covid-19-pneumonia-35-2.jpg',\n",
              " 'Covid/covid-19-pneumonia-53.jpg',\n",
              " 'Covid/covid-19-pneumonia-8.jpg',\n",
              " 'Normal/NORMAL2-IM-0395-0001.jpeg',\n",
              " 'Normal/NORMAL2-IM-0408-0001.jpeg',\n",
              " 'Normal/NORMAL2-IM-0416-0001-0001.jpeg',\n",
              " 'Normal/NORMAL2-IM-0441-0001.jpeg',\n",
              " 'Normal/NORMAL2-IM-0462-0001.jpeg',\n",
              " 'Normal/NORMAL2-IM-0535-0001-0002.jpeg',\n",
              " 'Normal/NORMAL2-IM-0652-0001.jpeg',\n",
              " 'Normal/NORMAL2-IM-0678-0001.jpeg',\n",
              " 'Normal/NORMAL2-IM-0730-0001.jpeg',\n",
              " 'Normal/NORMAL2-IM-0765-0001.jpeg',\n",
              " 'Normal/NORMAL2-IM-0790-0001.jpeg',\n",
              " 'Normal/NORMAL2-IM-0842-0001.jpeg',\n",
              " 'Normal/NORMAL2-IM-0851-0001-0001.jpeg',\n",
              " 'Normal/NORMAL2-IM-0851-0001.jpeg',\n",
              " 'Normal/NORMAL2-IM-0857-0001.jpeg',\n",
              " 'Normal/NORMAL2-IM-0859-0001.jpeg',\n",
              " 'Normal/NORMAL2-IM-0869-0001.jpeg',\n",
              " 'Normal/NORMAL2-IM-0873-0001.jpeg',\n",
              " 'Normal/NORMAL2-IM-0894-0001.jpeg',\n",
              " 'Normal/NORMAL2-IM-0905-0001.jpeg',\n",
              " 'Normal/NORMAL2-IM-0914-0001.jpeg',\n",
              " 'Normal/NORMAL2-IM-1022-0001.jpeg',\n",
              " 'Normal/NORMAL2-IM-1037-0001.jpeg',\n",
              " 'Normal/NORMAL2-IM-1045-0001.jpeg',\n",
              " 'Normal/NORMAL2-IM-1060-0001.jpeg',\n",
              " 'Normal/NORMAL2-IM-1191-0001.jpeg',\n",
              " 'Normal/NORMAL2-IM-1228-0001.jpeg',\n",
              " 'Normal/NORMAL2-IM-1237-0001.jpeg',\n",
              " 'Normal/NORMAL2-IM-1240-0001.jpeg',\n",
              " 'Normal/NORMAL2-IM-1275-0001.jpeg']"
            ]
          },
          "metadata": {},
          "execution_count": 18
        }
      ]
    },
    {
      "cell_type": "code",
      "source": [
        "import os\n",
        "os.listdir('/content/CovidDataset')"
      ],
      "metadata": {
        "colab": {
          "base_uri": "https://localhost:8080/"
        },
        "id": "5wO8QV3BmHhn",
        "outputId": "a54d4a60-bf21-468e-d7ac-bd375adedf77"
      },
      "execution_count": 19,
      "outputs": [
        {
          "output_type": "execute_result",
          "data": {
            "text/plain": [
              "['Train', 'Val']"
            ]
          },
          "metadata": {},
          "execution_count": 19
        }
      ]
    },
    {
      "cell_type": "code",
      "source": [
        "len(test_set)"
      ],
      "metadata": {
        "colab": {
          "base_uri": "https://localhost:8080/"
        },
        "id": "_JYMSFyenQ9k",
        "outputId": "b9671927-f2a8-416e-9b78-8cef632a907c"
      },
      "execution_count": 20,
      "outputs": [
        {
          "output_type": "execute_result",
          "data": {
            "text/plain": [
              "2"
            ]
          },
          "metadata": {},
          "execution_count": 20
        }
      ]
    },
    {
      "cell_type": "code",
      "source": [
        "test_set.batch_size"
      ],
      "metadata": {
        "colab": {
          "base_uri": "https://localhost:8080/"
        },
        "id": "1Q4Tu3F2hfsN",
        "outputId": "50be9dee-5665-4319-c5e4-ae293f49176f"
      },
      "execution_count": 21,
      "outputs": [
        {
          "output_type": "execute_result",
          "data": {
            "text/plain": [
              "32"
            ]
          },
          "metadata": {},
          "execution_count": 21
        }
      ]
    },
    {
      "cell_type": "code",
      "source": [
        "train_set.batch_size"
      ],
      "metadata": {
        "colab": {
          "base_uri": "https://localhost:8080/"
        },
        "id": "DTIUEaP8npqY",
        "outputId": "b7d0720b-2ed6-4712-ef8c-9a8f77e0390a"
      },
      "execution_count": 22,
      "outputs": [
        {
          "output_type": "execute_result",
          "data": {
            "text/plain": [
              "32"
            ]
          },
          "metadata": {},
          "execution_count": 22
        }
      ]
    },
    {
      "cell_type": "code",
      "source": [
        "import numpy as np"
      ],
      "metadata": {
        "id": "p0jY81tN055q"
      },
      "execution_count": 23,
      "outputs": []
    },
    {
      "cell_type": "code",
      "source": [
        "test_set1=test_set[0][1]\n",
        "test_set2=test_set[1][1]\n",
        "test_set_labels=np.append(test_set1,test_set2)\n",
        "# test_set_labels=np.concatenate((test_set1,test_set2),axis = 0)\n",
        "test_set_labels"
      ],
      "metadata": {
        "colab": {
          "base_uri": "https://localhost:8080/"
        },
        "id": "_f2Ad_am0sXV",
        "outputId": "9b8277ec-4835-41f6-e15a-90897035203d"
      },
      "execution_count": 24,
      "outputs": [
        {
          "output_type": "execute_result",
          "data": {
            "text/plain": [
              "array([0., 1., 0., 0., 1., 0., 1., 0., 0., 1., 0., 0., 0., 0., 1., 0., 0.,\n",
              "       0., 1., 1., 0., 0., 0., 0., 0., 0., 0., 1., 1., 0., 1., 0., 0., 1.,\n",
              "       1., 1., 1., 1., 0., 0., 1., 1., 0., 1., 1., 1., 1., 0., 1., 1., 1.,\n",
              "       1., 1., 0., 1., 0., 0., 1., 1., 1.], dtype=float32)"
            ]
          },
          "metadata": {},
          "execution_count": 24
        }
      ]
    },
    {
      "cell_type": "code",
      "source": [
        "model=Sequential()\n",
        "model.add(Conv2D(96, kernel_size=(11, 11), strides=(4,4), padding=\"same\", activation='relu', input_shape=(224,224,3)))\n",
        "model.add(MaxPooling2D(pool_size=(3, 3),strides=(2,2))) \n",
        "model.add(Conv2D(256, (5, 5),strides=(1,1),padding=\"same\", activation='relu'))\n",
        "model.add(MaxPooling2D(pool_size=(3, 3),strides=(2,2)))\n",
        "model.add(Conv2D(384, (3, 3),strides=(1,1), padding=\"same\", activation='relu'))\n",
        "model.add(Conv2D(384, (3, 3),strides=(1,1), padding=\"same\", activation='relu'))\n",
        "model.add(Conv2D(384, (3, 3),strides=(1,1), padding=\"same\", activation='relu'))\n",
        "model.add(MaxPooling2D(pool_size=(3, 3),strides=(2,2),padding=\"same\")) \n",
        "model.add(Flatten()) \n",
        "model.add(Dense(4096, activation='relu')) \n",
        "model.add(Dense(4096, activation='relu')) \n",
        "model.add(Dense(1, activation='sigmoid'))"
      ],
      "metadata": {
        "id": "BozH8DEUn5vg"
      },
      "execution_count": 25,
      "outputs": []
    },
    {
      "cell_type": "code",
      "source": [
        "model.compile(loss=keras.losses.binary_crossentropy, optimizer=\"sgd\", metrics=['accuracy'])\n",
        "model.summary()"
      ],
      "metadata": {
        "colab": {
          "base_uri": "https://localhost:8080/"
        },
        "id": "yLlf4Qgnn5yo",
        "outputId": "eaf538df-cc3f-4e23-ea2d-a6dcf1ba20bb"
      },
      "execution_count": 26,
      "outputs": [
        {
          "output_type": "stream",
          "name": "stdout",
          "text": [
            "Model: \"sequential\"\n",
            "_________________________________________________________________\n",
            " Layer (type)                Output Shape              Param #   \n",
            "=================================================================\n",
            " conv2d (Conv2D)             (None, 56, 56, 96)        34944     \n",
            "                                                                 \n",
            " max_pooling2d (MaxPooling2D  (None, 27, 27, 96)       0         \n",
            " )                                                               \n",
            "                                                                 \n",
            " conv2d_1 (Conv2D)           (None, 27, 27, 256)       614656    \n",
            "                                                                 \n",
            " max_pooling2d_1 (MaxPooling  (None, 13, 13, 256)      0         \n",
            " 2D)                                                             \n",
            "                                                                 \n",
            " conv2d_2 (Conv2D)           (None, 13, 13, 384)       885120    \n",
            "                                                                 \n",
            " conv2d_3 (Conv2D)           (None, 13, 13, 384)       1327488   \n",
            "                                                                 \n",
            " conv2d_4 (Conv2D)           (None, 13, 13, 384)       1327488   \n",
            "                                                                 \n",
            " max_pooling2d_2 (MaxPooling  (None, 7, 7, 384)        0         \n",
            " 2D)                                                             \n",
            "                                                                 \n",
            " flatten (Flatten)           (None, 18816)             0         \n",
            "                                                                 \n",
            " dense (Dense)               (None, 4096)              77074432  \n",
            "                                                                 \n",
            " dense_1 (Dense)             (None, 4096)              16781312  \n",
            "                                                                 \n",
            " dense_2 (Dense)             (None, 1)                 4097      \n",
            "                                                                 \n",
            "=================================================================\n",
            "Total params: 98,049,537\n",
            "Trainable params: 98,049,537\n",
            "Non-trainable params: 0\n",
            "_________________________________________________________________\n"
          ]
        }
      ]
    },
    {
      "cell_type": "code",
      "source": [
        "model.fit( train_set, epochs=10,validation_data=test_set,steps_per_epoch=len(train_set),validation_steps=len(test_set))"
      ],
      "metadata": {
        "colab": {
          "base_uri": "https://localhost:8080/"
        },
        "id": "MiGGBqLLrEPw",
        "outputId": "be85e386-068b-4a4f-ca5c-f58e283a90b6"
      },
      "execution_count": 27,
      "outputs": [
        {
          "output_type": "stream",
          "name": "stdout",
          "text": [
            "Epoch 1/10\n",
            "7/7 [==============================] - 19s 1s/step - loss: 0.6920 - accuracy: 0.4643 - val_loss: 0.6889 - val_accuracy: 0.5000\n",
            "Epoch 2/10\n",
            "7/7 [==============================] - 8s 1s/step - loss: 0.6873 - accuracy: 0.5000 - val_loss: 0.6851 - val_accuracy: 0.6667\n",
            "Epoch 3/10\n",
            "7/7 [==============================] - 8s 1s/step - loss: 0.6846 - accuracy: 0.6339 - val_loss: 0.6810 - val_accuracy: 0.5500\n",
            "Epoch 4/10\n",
            "7/7 [==============================] - 7s 1s/step - loss: 0.6790 - accuracy: 0.6116 - val_loss: 0.6765 - val_accuracy: 0.9500\n",
            "Epoch 5/10\n",
            "7/7 [==============================] - 8s 1s/step - loss: 0.6760 - accuracy: 0.7098 - val_loss: 0.6709 - val_accuracy: 0.9500\n",
            "Epoch 6/10\n",
            "7/7 [==============================] - 7s 1s/step - loss: 0.6677 - accuracy: 0.8929 - val_loss: 0.6626 - val_accuracy: 0.6000\n",
            "Epoch 7/10\n",
            "7/7 [==============================] - 8s 1s/step - loss: 0.6622 - accuracy: 0.7812 - val_loss: 0.6518 - val_accuracy: 0.7667\n",
            "Epoch 8/10\n",
            "7/7 [==============================] - 7s 1s/step - loss: 0.6480 - accuracy: 0.7991 - val_loss: 0.6331 - val_accuracy: 0.9667\n",
            "Epoch 9/10\n",
            "7/7 [==============================] - 8s 1s/step - loss: 0.6325 - accuracy: 0.7812 - val_loss: 0.6067 - val_accuracy: 0.9833\n",
            "Epoch 10/10\n",
            "7/7 [==============================] - 8s 1s/step - loss: 0.6041 - accuracy: 0.8170 - val_loss: 0.6066 - val_accuracy: 0.5167\n"
          ]
        },
        {
          "output_type": "execute_result",
          "data": {
            "text/plain": [
              "<keras.callbacks.History at 0x7f0e743fe1c0>"
            ]
          },
          "metadata": {},
          "execution_count": 27
        }
      ]
    },
    {
      "cell_type": "code",
      "source": [
        "model.evaluate(test_set)"
      ],
      "metadata": {
        "colab": {
          "base_uri": "https://localhost:8080/"
        },
        "id": "5uu5Su3KrFIx",
        "outputId": "7415cb57-8b5e-482c-dede-44ba969bf08a"
      },
      "execution_count": 28,
      "outputs": [
        {
          "output_type": "stream",
          "name": "stdout",
          "text": [
            "2/2 [==============================] - 2s 956ms/step - loss: 0.6066 - accuracy: 0.5167\n"
          ]
        },
        {
          "output_type": "execute_result",
          "data": {
            "text/plain": [
              "[0.6066101789474487, 0.5166666507720947]"
            ]
          },
          "metadata": {},
          "execution_count": 28
        }
      ]
    },
    {
      "cell_type": "code",
      "source": [
        "from google.colab import drive\n",
        "drive.mount('/content/drive')\n",
        "from keras.models import save_model\n",
        "model.save('/content/drive/MyDrive/SavedModels/AlexNet_Covid19_binary2.h5')"
      ],
      "metadata": {
        "colab": {
          "base_uri": "https://localhost:8080/"
        },
        "id": "qWQmDanZrFLl",
        "outputId": "2a0fd127-22ff-4073-ff01-2951aaa734db"
      },
      "execution_count": 29,
      "outputs": [
        {
          "output_type": "stream",
          "name": "stdout",
          "text": [
            "Mounted at /content/drive\n"
          ]
        }
      ]
    },
    {
      "cell_type": "code",
      "source": [
        "y_pred=(model.predict(test_set)>=0.5).astype(int)\n",
        "y_pred[:5]"
      ],
      "metadata": {
        "colab": {
          "base_uri": "https://localhost:8080/"
        },
        "id": "vMY1Fak9sHAi",
        "outputId": "f380d4f9-c331-44de-ec52-06d5fb7298b2"
      },
      "execution_count": 30,
      "outputs": [
        {
          "output_type": "stream",
          "name": "stdout",
          "text": [
            "2/2 [==============================] - 2s 691ms/step\n"
          ]
        },
        {
          "output_type": "execute_result",
          "data": {
            "text/plain": [
              "array([[1],\n",
              "       [1],\n",
              "       [0],\n",
              "       [1],\n",
              "       [1]])"
            ]
          },
          "metadata": {},
          "execution_count": 30
        }
      ]
    },
    {
      "cell_type": "code",
      "source": [
        "from sklearn.metrics import confusion_matrix, accuracy_score\n",
        "print(confusion_matrix(test_set.labels,y_pred))\n",
        "print(accuracy_score(test_set.labels,y_pred)*100)"
      ],
      "metadata": {
        "colab": {
          "base_uri": "https://localhost:8080/"
        },
        "id": "F9H3uKFZtrkJ",
        "outputId": "bffcfe38-76af-4b56-c101-10a12675764d"
      },
      "execution_count": 31,
      "outputs": [
        {
          "output_type": "stream",
          "name": "stdout",
          "text": [
            "[[ 1 29]\n",
            " [ 0 30]]\n",
            "51.66666666666667\n"
          ]
        }
      ]
    },
    {
      "cell_type": "code",
      "source": [],
      "metadata": {
        "id": "9hMWyjsMtrnH"
      },
      "execution_count": 31,
      "outputs": []
    },
    {
      "cell_type": "code",
      "source": [
        "# from keras.preprocessing import image\n",
        "# img1 =tf.keras.utils.load_img('/content/CovidDataset/Val/Normal/NORMAL2-IM-0730-0001.jpeg' )\n",
        "# img1.size"
      ],
      "metadata": {
        "id": "Qn--sDyPsHDZ"
      },
      "execution_count": 32,
      "outputs": []
    },
    {
      "cell_type": "code",
      "source": [
        "from keras.preprocessing import image\n",
        "img1=image.image_utils.load_img('/content/CovidDataset/Val/Covid/41591_2020_819_Fig1_HTML.webp-day10.png',target_size=(224,224))\n",
        "img1.size"
      ],
      "metadata": {
        "colab": {
          "base_uri": "https://localhost:8080/"
        },
        "id": "_YS-FlTNvgP3",
        "outputId": "1481e90a-961d-45f5-ada8-f2109e5afb7c"
      },
      "execution_count": 33,
      "outputs": [
        {
          "output_type": "execute_result",
          "data": {
            "text/plain": [
              "(224, 224)"
            ]
          },
          "metadata": {},
          "execution_count": 33
        }
      ]
    },
    {
      "cell_type": "code",
      "source": [
        "img =tf.keras.preprocessing.image.img_to_array(img1)\n",
        "img.shape"
      ],
      "metadata": {
        "colab": {
          "base_uri": "https://localhost:8080/"
        },
        "id": "YY3GRB-BvgZO",
        "outputId": "a1ad1f66-2745-484d-d0fb-e62abd8c2ca8"
      },
      "execution_count": 34,
      "outputs": [
        {
          "output_type": "execute_result",
          "data": {
            "text/plain": [
              "(224, 224, 3)"
            ]
          },
          "metadata": {},
          "execution_count": 34
        }
      ]
    },
    {
      "cell_type": "code",
      "source": [
        "import numpy as np\n",
        "img = img/255\n",
        "img_expand =np.expand_dims(img, axis =0)\n",
        "img_expand.shape"
      ],
      "metadata": {
        "colab": {
          "base_uri": "https://localhost:8080/"
        },
        "id": "4QXjps4zvdvS",
        "outputId": "814b2f48-ebaa-41d5-95e9-33c55a565eee"
      },
      "execution_count": 35,
      "outputs": [
        {
          "output_type": "execute_result",
          "data": {
            "text/plain": [
              "(1, 224, 224, 3)"
            ]
          },
          "metadata": {},
          "execution_count": 35
        }
      ]
    },
    {
      "cell_type": "code",
      "source": [
        "y_pred_img = model.predict(img_expand)\n",
        "print(y_pred_img)"
      ],
      "metadata": {
        "colab": {
          "base_uri": "https://localhost:8080/"
        },
        "id": "c-fhciWDvdyO",
        "outputId": "9b26dc92-8871-4e4b-bd92-f0cce5a9b184"
      },
      "execution_count": 36,
      "outputs": [
        {
          "output_type": "stream",
          "name": "stdout",
          "text": [
            "1/1 [==============================] - 0s 243ms/step\n",
            "[[0.5519319]]\n"
          ]
        }
      ]
    },
    {
      "cell_type": "code",
      "source": [
        "if y_pred_img >= 0.5:\n",
        "    prediction = 'normal'\n",
        "else:\n",
        "    prediction = 'covid'\n",
        "print(prediction)"
      ],
      "metadata": {
        "colab": {
          "base_uri": "https://localhost:8080/"
        },
        "id": "4oK1DoHrwwib",
        "outputId": "1b82b55a-a9fb-46b1-c97e-05509dedaf94"
      },
      "execution_count": 37,
      "outputs": [
        {
          "output_type": "stream",
          "name": "stdout",
          "text": [
            "normal\n"
          ]
        }
      ]
    },
    {
      "cell_type": "code",
      "source": [],
      "metadata": {
        "id": "iHWCWk5Cwwlc"
      },
      "execution_count": 37,
      "outputs": []
    },
    {
      "cell_type": "markdown",
      "source": [
        "# references\n",
        "\n",
        "data\n",
        "\n",
        "https://drive.google.com/drive/folders/1c2dryLu9ME3eLgWh7m3NDdVde6jO2nOV?usp=share_link"
      ],
      "metadata": {
        "id": "JJ3Qdr1T2lqF"
      }
    }
  ]
}